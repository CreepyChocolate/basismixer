{
 "cells": [
  {
   "cell_type": "code",
   "execution_count": 3,
   "id": "3f32924b",
   "metadata": {},
   "outputs": [],
   "source": [
    "import numpy as np\n",
    "import os.path\n",
    "import partitura as pt\n",
    "from basismixer.performance_codec import get_performance_codec\n",
    "import glob\n",
    "import re\n",
    "from scipy import stats\n",
    "import json\n",
    "\n",
    "import warnings\n",
    "warnings.filterwarnings(\"ignore\")\n",
    "\n",
    "from tqdm import tqdm"
   ]
  },
  {
   "cell_type": "code",
   "execution_count": null,
   "id": "489bc6dc",
   "metadata": {},
   "outputs": [],
   "source": [
    "xml_fn = glob.glob(os.path.join(\"asap-dataset-copy\", \"**\", \"*.musicxml\"), recursive=True)\n",
    "piece_dict = {}\n",
    "\n",
    "for xml in tqdm(xml_fn):\n",
    "    \n",
    "    json_dict = {\"matches\": [], \"targets\":[], \"matched_basis\": [], \"xml\": xml}\n",
    "    \n",
    "    os.makedirs(os.path.join(os.path.dirname(xml), \"modified_matches\"), exist_ok=True)\n",
    "    \n",
    "    piece_dict.update({os.path.dirname(xml): {\"matches\": [], \"targets\": [], \"xml\": xml}})\n",
    "    \n",
    "    match_fn = glob.glob(os.path.join(os.path.dirname(xml), \"*.match\"))\n",
    "\n",
    "    score = pt.load_score(xml)\n",
    "    score = pt.score.merge_parts(score)\n",
    "    score = pt.score.unfold_part_maximal(score, update_ids=True)\n",
    "    \n",
    "    nid_dict = dict((n.id, i) for i, n in enumerate(score.notes_tied))\n",
    "    \n",
    "    pt.score.expand_grace_notes(score)\n",
    "    \n",
    "    basis, bf_names = pt.musicanalysis.make_note_feats(score, \"all\")\n",
    "\n",
    "    for match in match_fn:\n",
    "\n",
    "        try:\n",
    "            performance, alignment = pt.load_match(match)\n",
    "\n",
    "            parameter_names = [\"velocity_trend\", \"beat_period\"]\n",
    "\n",
    "            pc = get_performance_codec(parameter_names)\n",
    "\n",
    "            targets, snote_ids, unique_onset_idxs = pc.encode(\n",
    "                part=score,\n",
    "                ppart=performance[0],\n",
    "                alignment=alignment,\n",
    "                return_u_onset_idx=True\n",
    "            )\n",
    "            \n",
    "            matched_subset_idxs = np.array([nid_dict[nid] for nid in snote_ids])\n",
    "            basis_matched = basis[matched_subset_idxs]\n",
    "            \n",
    "            json_dict[\"matches\"].append(match)\n",
    "            json_dict[\"targets\"].append(targets.tolist())\n",
    "            json_dict[\"matched_basis\"].append(basis_matched.tolist())\n",
    "            \n",
    "            piece_dict[os.path.dirname(xml)][\"matches\"].append(match)\n",
    "            piece_dict[os.path.dirname(xml)][\"targets\"].append(targets)\n",
    "\n",
    "        except Exception as e:\n",
    "            print(e)\n",
    "            print(match)\n",
    "            continue\n",
    "            \n",
    "    piece_name = \"-\".join(xml.split(os.sep)[1:-1])\n",
    "    outfile = open(\"jsons\" + os.sep + piece_name + \".json\", \"w+\")\n",
    "    json.dump(json_dict, outfile, indent=6)\n",
    "    outfile.close()"
   ]
  },
  {
   "cell_type": "code",
   "execution_count": 31,
   "id": "80b4218f",
   "metadata": {},
   "outputs": [
    {
     "name": "stderr",
     "output_type": "stream",
     "text": [
      "100%|████████████████████████████████████████████████████████████████████████████████| 234/234 [02:52<00:00,  1.36it/s]\n"
     ]
    }
   ],
   "source": [
    "json_dicts = glob.glob(os.path.join(\"jsons\", \"**\", \"*.json\"), recursive=True)\n",
    "perf_parameters = []\n",
    "\n",
    "for jd in tqdm(json_dicts):\n",
    "    piece_name = os.sep.join(jd.split(\"-\"))[:-len(\".json\")]\n",
    "    \n",
    "    with open(jd) as f:\n",
    "        cur_dict = json.load(f)\n",
    "        perf_parameters.append(([np.array(t) for t in cur_dict[\"targets\"]], cur_dict[\"matches\"]))"
   ]
  },
  {
   "cell_type": "code",
   "execution_count": 43,
   "id": "7407880a",
   "metadata": {},
   "outputs": [
    {
     "data": {
      "text/html": [
       "<div>\n",
       "<style scoped>\n",
       "    .dataframe tbody tr th:only-of-type {\n",
       "        vertical-align: middle;\n",
       "    }\n",
       "\n",
       "    .dataframe tbody tr th {\n",
       "        vertical-align: top;\n",
       "    }\n",
       "\n",
       "    .dataframe thead th {\n",
       "        text-align: right;\n",
       "    }\n",
       "</style>\n",
       "<table border=\"1\" class=\"dataframe\">\n",
       "  <thead>\n",
       "    <tr style=\"text-align: right;\">\n",
       "      <th></th>\n",
       "      <th>0</th>\n",
       "      <th>1</th>\n",
       "      <th>2</th>\n",
       "      <th>3</th>\n",
       "      <th>4</th>\n",
       "    </tr>\n",
       "  </thead>\n",
       "  <tbody>\n",
       "    <tr>\n",
       "      <th>0</th>\n",
       "      <td>1.189583</td>\n",
       "      <td>0.000000</td>\n",
       "      <td>0.511538</td>\n",
       "      <td>0.283465</td>\n",
       "      <td>0.000000</td>\n",
       "    </tr>\n",
       "    <tr>\n",
       "      <th>1</th>\n",
       "      <td>1.220833</td>\n",
       "      <td>0.000000</td>\n",
       "      <td>0.266723</td>\n",
       "      <td>0.401575</td>\n",
       "      <td>0.000000</td>\n",
       "    </tr>\n",
       "    <tr>\n",
       "      <th>2</th>\n",
       "      <td>1.318750</td>\n",
       "      <td>0.000000</td>\n",
       "      <td>0.183786</td>\n",
       "      <td>0.425197</td>\n",
       "      <td>0.000000</td>\n",
       "    </tr>\n",
       "    <tr>\n",
       "      <th>3</th>\n",
       "      <td>1.362500</td>\n",
       "      <td>0.000000</td>\n",
       "      <td>-0.014782</td>\n",
       "      <td>0.448819</td>\n",
       "      <td>0.000000</td>\n",
       "    </tr>\n",
       "    <tr>\n",
       "      <th>4</th>\n",
       "      <td>1.125000</td>\n",
       "      <td>0.000000</td>\n",
       "      <td>1.654503</td>\n",
       "      <td>0.346457</td>\n",
       "      <td>0.000000</td>\n",
       "    </tr>\n",
       "    <tr>\n",
       "      <th>...</th>\n",
       "      <td>...</td>\n",
       "      <td>...</td>\n",
       "      <td>...</td>\n",
       "      <td>...</td>\n",
       "      <td>...</td>\n",
       "    </tr>\n",
       "    <tr>\n",
       "      <th>733</th>\n",
       "      <td>2.354187</td>\n",
       "      <td>0.000000</td>\n",
       "      <td>0.045232</td>\n",
       "      <td>0.393701</td>\n",
       "      <td>0.000000</td>\n",
       "    </tr>\n",
       "    <tr>\n",
       "      <th>734</th>\n",
       "      <td>2.716675</td>\n",
       "      <td>0.000000</td>\n",
       "      <td>0.626399</td>\n",
       "      <td>0.370079</td>\n",
       "      <td>0.000000</td>\n",
       "    </tr>\n",
       "    <tr>\n",
       "      <th>735</th>\n",
       "      <td>4.270844</td>\n",
       "      <td>0.000000</td>\n",
       "      <td>0.409040</td>\n",
       "      <td>0.511811</td>\n",
       "      <td>0.000000</td>\n",
       "    </tr>\n",
       "    <tr>\n",
       "      <th>736</th>\n",
       "      <td>2.763022</td>\n",
       "      <td>-0.009377</td>\n",
       "      <td>-0.002450</td>\n",
       "      <td>0.370079</td>\n",
       "      <td>0.094488</td>\n",
       "    </tr>\n",
       "    <tr>\n",
       "      <th>737</th>\n",
       "      <td>2.763022</td>\n",
       "      <td>0.009377</td>\n",
       "      <td>0.002445</td>\n",
       "      <td>0.370079</td>\n",
       "      <td>0.000000</td>\n",
       "    </tr>\n",
       "  </tbody>\n",
       "</table>\n",
       "<p>738 rows × 5 columns</p>\n",
       "</div>"
      ],
      "text/plain": [
       "            0         1         2         3         4\n",
       "0    1.189583  0.000000  0.511538  0.283465  0.000000\n",
       "1    1.220833  0.000000  0.266723  0.401575  0.000000\n",
       "2    1.318750  0.000000  0.183786  0.425197  0.000000\n",
       "3    1.362500  0.000000 -0.014782  0.448819  0.000000\n",
       "4    1.125000  0.000000  1.654503  0.346457  0.000000\n",
       "..        ...       ...       ...       ...       ...\n",
       "733  2.354187  0.000000  0.045232  0.393701  0.000000\n",
       "734  2.716675  0.000000  0.626399  0.370079  0.000000\n",
       "735  4.270844  0.000000  0.409040  0.511811  0.000000\n",
       "736  2.763022 -0.009377 -0.002450  0.370079  0.094488\n",
       "737  2.763022  0.009377  0.002445  0.370079  0.000000\n",
       "\n",
       "[738 rows x 5 columns]"
      ]
     },
     "execution_count": 43,
     "metadata": {},
     "output_type": "execute_result"
    }
   ],
   "source": [
    "# perf_parameters = [np.array(perf[0]) for perf in perf_parameters]\n",
    "\n",
    "pd.DataFrame(perf_parameters[0][0][0])"
   ]
  },
  {
   "cell_type": "code",
   "execution_count": 44,
   "id": "ceb831fa",
   "metadata": {},
   "outputs": [
    {
     "ename": "IndexError",
     "evalue": "list index out of range",
     "output_type": "error",
     "traceback": [
      "\u001b[1;31m---------------------------------------------------------------------------\u001b[0m",
      "\u001b[1;31mIndexError\u001b[0m                                Traceback (most recent call last)",
      "Cell \u001b[1;32mIn[44], line 10\u001b[0m\n\u001b[0;32m      6\u001b[0m dataframes \u001b[38;5;241m=\u001b[39m []\n\u001b[0;32m      9\u001b[0m \u001b[38;5;28;01mfor\u001b[39;00m perf \u001b[38;5;129;01min\u001b[39;00m perf_parameters:\n\u001b[1;32m---> 10\u001b[0m     param_df \u001b[38;5;241m=\u001b[39m pd\u001b[38;5;241m.\u001b[39mDataFrame(\u001b[43mperf\u001b[49m\u001b[43m[\u001b[49m\u001b[38;5;241;43m0\u001b[39;49m\u001b[43m]\u001b[49m\u001b[43m[\u001b[49m\u001b[38;5;241;43m0\u001b[39;49m\u001b[43m]\u001b[49m, columns\u001b[38;5;241m=\u001b[39mexpressiveness_params)\n\u001b[0;32m     11\u001b[0m     dataframes\u001b[38;5;241m.\u001b[39mappend(param_df)\n\u001b[0;32m     12\u001b[0m     descriptions\u001b[38;5;241m.\u001b[39mappend(param_df\u001b[38;5;241m.\u001b[39mdescribe())\n",
      "\u001b[1;31mIndexError\u001b[0m: list index out of range"
     ]
    }
   ],
   "source": [
    "import pandas as pd\n",
    "\n",
    "indices = [perf[1] for perf in perf_parameters]\n",
    "expressiveness_params = [\"beat_period\", \"timing\", \"articulation_log\", \"velocity_trend\", \"velocity_dev\"]\n",
    "descriptions = []\n",
    "dataframes = []\n",
    "\n",
    "\n",
    "for perf in perf_parameters:\n",
    "    param_df = pd.DataFrame(perf[0][0], columns=expressiveness_params)\n",
    "    dataframes.append(param_df)\n",
    "    descriptions.append(param_df.describe())"
   ]
  },
  {
   "cell_type": "code",
   "execution_count": 4,
   "id": "3e9c873f",
   "metadata": {},
   "outputs": [
    {
     "data": {
      "text/plain": [
       "0.28346458077430725"
      ]
     },
     "execution_count": 4,
     "metadata": {},
     "output_type": "execute_result"
    }
   ],
   "source": [
    "descriptions[0][\"velocity_trend\"].T[\"min\"]"
   ]
  },
  {
   "cell_type": "code",
   "execution_count": 5,
   "id": "03bb2365",
   "metadata": {
    "scrolled": true
   },
   "outputs": [],
   "source": [
    "def get_outliers(z_threshold=3):\n",
    "    \n",
    "    outlier_dict = {\"piece_names\": []}\n",
    "    \n",
    "    for param_name in expressiveness_params:\n",
    "\n",
    "        print(f\"{param_name} outliers:\")\n",
    "\n",
    "        param_df = pd.DataFrame(columns=[\"min\", \"max\", \"mean\"], index=indices)\n",
    "\n",
    "        param_df[\"min\"] = [desc[param_name].T[\"min\"] for desc in descriptions]\n",
    "        param_df[\"max\"] = [desc[param_name].T[\"max\"] for desc in descriptions]\n",
    "        param_df[\"mean\"] = [desc[param_name].T[\"mean\"] for desc in descriptions]\n",
    "        \n",
    "        min_mean = np.mean(param_df[\"min\"])\n",
    "        max_mean = np.mean(param_df[\"max\"])\n",
    "        mean_mean = np.mean(param_df[\"mean\"])\n",
    "\n",
    "        z_min = np.abs(stats.zscore(param_df[\"min\"]))\n",
    "        z_max = np.abs(stats.zscore(param_df[\"max\"]))\n",
    "        z_mean = np.abs(stats.zscore(param_df[\"max\"]))\n",
    "        \n",
    "        outliers = param_df[(z_min > z_threshold) | (z_max > z_threshold) | (z_mean > z_threshold)]\n",
    "        \n",
    "        print(f\"\"\"Mean values for comparison:\n",
    "                    min: {min_mean}\n",
    "                    max: {max_mean}\n",
    "                    mean: {mean_mean}\\n\"\"\")\n",
    "        \n",
    "        print(f\"{outliers.to_markdown()}\\n\\n\")\n",
    "        outlier_dict[param_name] = outliers\n",
    "        outlier_dict[\"piece_names\"] += [idx for idx in outliers.index]\n",
    "        \n",
    "    return outlier_dict"
   ]
  },
  {
   "cell_type": "code",
   "execution_count": null,
   "id": "7ea38405",
   "metadata": {},
   "outputs": [],
   "source": [
    "outlier_dict = get_outliers(5)"
   ]
  },
  {
   "cell_type": "code",
   "execution_count": null,
   "id": "9cd231c2",
   "metadata": {
    "scrolled": true
   },
   "outputs": [],
   "source": [
    "from matplotlib import pyplot as plt\n",
    "\n",
    "for param_name in expressiveness_params:\n",
    "    \n",
    "    if len(outlier_dict[param_name]) != 0:\n",
    "    \n",
    "        fig, ax = plt.subplots(len(outlier_dict[param_name]), figsize=(10, 50))\n",
    "        for i, piece_name in enumerate(outlier_dict[param_name].index):\n",
    "\n",
    "            idx = indices.index(piece_name)\n",
    "            df = dataframes[idx]\n",
    "\n",
    "            ax[i].plot(df[param_name])\n",
    "            ax[i].set(title=f\"{param_name.upper()}: {piece_name}\")\n",
    "\n",
    "        fig.tight_layout()"
   ]
  },
  {
   "cell_type": "code",
   "execution_count": 8,
   "id": "8b4a4b91",
   "metadata": {},
   "outputs": [
    {
     "data": {
      "text/plain": [
       "['articulation_direction_feature',\n",
       " 'articulation_feature',\n",
       " 'duration_feature',\n",
       " 'fermata_feature',\n",
       " 'grace_feature',\n",
       " 'loudness_direction_feature',\n",
       " 'metrical_feature',\n",
       " 'metrical_strength_feature',\n",
       " 'onset_feature',\n",
       " 'ornament_feature',\n",
       " 'polynomial_pitch_feature',\n",
       " 'relative_score_position_feature',\n",
       " 'slur_feature',\n",
       " 'staff_feature',\n",
       " 'tempo_direction_feature',\n",
       " 'time_signature_feature',\n",
       " 'vertical_neighbor_feature']"
      ]
     },
     "execution_count": 8,
     "metadata": {},
     "output_type": "execute_result"
    }
   ],
   "source": [
    "pt.musicanalysis.list_note_feats_functions()"
   ]
  },
  {
   "cell_type": "code",
   "execution_count": 9,
   "id": "e0827311",
   "metadata": {},
   "outputs": [
    {
     "name": "stdout",
     "output_type": "stream",
     "text": [
      "asap-dataset-copy\\Bach\\Fugue\\bwv_848\n"
     ]
    },
    {
     "data": {
      "text/plain": [
       "'asap-dataset-copy\\\\Bach\\\\Fugue\\\\bwv_848\\\\xml_score.musicxml'"
      ]
     },
     "execution_count": 9,
     "metadata": {},
     "output_type": "execute_result"
    }
   ],
   "source": [
    "valid_perf_params = [perf for perf in perf_parameters if perf[1] not in outlier_dict[\"piece_names\"]]\n",
    "\n",
    "test = os.path.dirname(perf_parameters[4][1])\n",
    "print(test)\n",
    "piece_dict[test][\"xml\"]"
   ]
  },
  {
   "cell_type": "code",
   "execution_count": 55,
   "id": "a35e348c",
   "metadata": {},
   "outputs": [
    {
     "name": "stderr",
     "output_type": "stream",
     "text": [
      "100%|████████████████████████████████████████████████████████████████████████████████| 235/235 [11:40<00:00,  2.98s/it]\n"
     ]
    }
   ],
   "source": [
    "feat_names = pt.musicanalysis.list_note_feats_functions()\n",
    "\n",
    "feature_target_list = []\n",
    "\n",
    "for piece in tqdm(piece_dict):\n",
    "    if piece not in outlier_dict[\"piece_names\"]:\n",
    "        score = pt.load_score(piece_dict[piece][\"xml\"])\n",
    "        score = partitura.score.merge_parts(score)\n",
    "        score = partitura.score.unfold_part_maximal(score)\n",
    "        \n",
    "        features, snote_ids = pt.musicanalysis.make_note_features(part=score, feature_functions=\"all\")\n",
    "        \n",
    "        pt.score.expand_grace_notes(score)\n",
    "        nid_dict = dict((n.id, i) for i, n in enumerate(score.notes_tied))\n",
    "        \n",
    "        \n",
    "        matched_subset_idxs = np.array([nid_dict[nid] for nid in snote_ids])\n",
    "        basis_matched = basis[matched_subset_idxs]\n",
    "        \n",
    "        \n",
    "        feature_target_list.append((features, piece_dict[piece][\"exp_parameters\"]))"
   ]
  },
  {
   "cell_type": "code",
   "execution_count": 75,
   "id": "7d40b6be",
   "metadata": {},
   "outputs": [
    {
     "name": "stdout",
     "output_type": "stream",
     "text": [
      "1392\n",
      "1391\n",
      "1393\n",
      "1385\n",
      "1391\n",
      "1393\n"
     ]
    }
   ],
   "source": [
    "for f in feature_target_list[20][1]:\n",
    "    print(len(f))"
   ]
  },
  {
   "cell_type": "code",
   "execution_count": 74,
   "id": "f73a9c89",
   "metadata": {},
   "outputs": [
    {
     "data": {
      "text/plain": [
       "1401"
      ]
     },
     "execution_count": 74,
     "metadata": {},
     "output_type": "execute_result"
    }
   ],
   "source": [
    "len(feature_target_list[20][0])"
   ]
  },
  {
   "cell_type": "code",
   "execution_count": 105,
   "id": "578d2ba6",
   "metadata": {},
   "outputs": [
    {
     "name": "stdout",
     "output_type": "stream",
     "text": [
      "asap-dataset-copy\\Bach\\Fugue\\bwv_846\\xml_score.musicxml asap-dataset-copy\\Bach\\Fugue\\bwv_846\\Shi05M.match\n"
     ]
    },
    {
     "ename": "ValueError",
     "evalue": "Filename does not exist",
     "output_type": "error",
     "traceback": [
      "\u001b[1;31m---------------------------------------------------------------------------\u001b[0m",
      "\u001b[1;31mValueError\u001b[0m                                Traceback (most recent call last)",
      "Cell \u001b[1;32mIn[105], line 14\u001b[0m\n\u001b[0;32m     10\u001b[0m matches \u001b[38;5;241m=\u001b[39m \u001b[38;5;124m\"\u001b[39m\u001b[38;5;124masap-dataset-copy\u001b[39m\u001b[38;5;130;01m\\\\\u001b[39;00m\u001b[38;5;124mBach\u001b[39m\u001b[38;5;130;01m\\\\\u001b[39;00m\u001b[38;5;124mFugue\u001b[39m\u001b[38;5;130;01m\\\\\u001b[39;00m\u001b[38;5;124mbwv_846\u001b[39m\u001b[38;5;130;01m\\\\\u001b[39;00m\u001b[38;5;124mShi05M.match\u001b[39m\u001b[38;5;124m\"\u001b[39m\n\u001b[0;32m     12\u001b[0m \u001b[38;5;28mprint\u001b[39m(score, matches)\n\u001b[1;32m---> 14\u001b[0m all_data\u001b[38;5;241m.\u001b[39mappend(\u001b[43mprocess_piece\u001b[49m\u001b[43m(\u001b[49m\u001b[43m(\u001b[49m\u001b[43mscore\u001b[49m\u001b[43m,\u001b[49m\u001b[43m \u001b[49m\u001b[43mmatches\u001b[49m\u001b[43m)\u001b[49m\u001b[43m,\u001b[49m\u001b[43m \u001b[49m\u001b[43mpc\u001b[49m\u001b[43m,\u001b[49m\u001b[43m \u001b[49m\u001b[43mbfs\u001b[49m\u001b[43m,\u001b[49m\u001b[43m \u001b[49m\u001b[43mgracenotes\u001b[49m\u001b[38;5;241;43m=\u001b[39;49m\u001b[38;5;124;43m\"\u001b[39;49m\u001b[38;5;124;43mremove\u001b[39;49m\u001b[38;5;124;43m\"\u001b[39;49m\u001b[43m)\u001b[49m)\n",
      "Cell \u001b[1;32mIn[101], line 30\u001b[0m, in \u001b[0;36mprocess_piece\u001b[1;34m(piece_performances, perf_codec, all_basis_functions, gracenotes)\u001b[0m\n\u001b[0;32m     27\u001b[0m nid_dict \u001b[38;5;241m=\u001b[39m \u001b[38;5;28mdict\u001b[39m((n\u001b[38;5;241m.\u001b[39mid, i) \u001b[38;5;28;01mfor\u001b[39;00m i, n \u001b[38;5;129;01min\u001b[39;00m \u001b[38;5;28menumerate\u001b[39m(part\u001b[38;5;241m.\u001b[39mnotes_tied))\n\u001b[0;32m     29\u001b[0m \u001b[38;5;28;01mfor\u001b[39;00m performance \u001b[38;5;129;01min\u001b[39;00m performances:\n\u001b[1;32m---> 30\u001b[0m     ppart, alignment \u001b[38;5;241m=\u001b[39m \u001b[43mpt\u001b[49m\u001b[38;5;241;43m.\u001b[39;49m\u001b[43mload_match\u001b[49m\u001b[43m(\u001b[49m\u001b[43mperformance\u001b[49m\u001b[43m,\u001b[49m\u001b[43m \u001b[49m\u001b[43mfirst_note_at_zero\u001b[49m\u001b[38;5;241;43m=\u001b[39;49m\u001b[38;5;28;43;01mTrue\u001b[39;49;00m\u001b[43m)\u001b[49m\n\u001b[0;32m     32\u001b[0m     \u001b[38;5;28;01massert\u001b[39;00m \u001b[38;5;28mlen\u001b[39m(ppart\u001b[38;5;241m.\u001b[39mperformedparts) \u001b[38;5;241m==\u001b[39m \u001b[38;5;241m1\u001b[39m\n\u001b[0;32m     33\u001b[0m     ppart \u001b[38;5;241m=\u001b[39m ppart\u001b[38;5;241m.\u001b[39mperformedparts[\u001b[38;5;241m0\u001b[39m]\n",
      "File \u001b[1;32m~\\anaconda3\\envs\\basismixer\\lib\\site-packages\\partitura\\utils\\misc.py:66\u001b[0m, in \u001b[0;36mdeprecated_alias.<locals>.deco.<locals>.wrapper\u001b[1;34m(*args, **kwargs)\u001b[0m\n\u001b[0;32m     63\u001b[0m \u001b[38;5;129m@functools\u001b[39m\u001b[38;5;241m.\u001b[39mwraps(f)\n\u001b[0;32m     64\u001b[0m \u001b[38;5;28;01mdef\u001b[39;00m \u001b[38;5;21mwrapper\u001b[39m(\u001b[38;5;241m*\u001b[39margs, \u001b[38;5;241m*\u001b[39m\u001b[38;5;241m*\u001b[39mkwargs):\n\u001b[0;32m     65\u001b[0m     rename_kwargs(f\u001b[38;5;241m.\u001b[39m\u001b[38;5;18m__name__\u001b[39m, kwargs, aliases)\n\u001b[1;32m---> 66\u001b[0m     \u001b[38;5;28;01mreturn\u001b[39;00m f(\u001b[38;5;241m*\u001b[39margs, \u001b[38;5;241m*\u001b[39m\u001b[38;5;241m*\u001b[39mkwargs)\n",
      "File \u001b[1;32m~\\anaconda3\\envs\\basismixer\\lib\\site-packages\\partitura\\io\\importmatch.py:254\u001b[0m, in \u001b[0;36mload_match\u001b[1;34m(filename, create_score, pedal_threshold, first_note_at_zero, offset_duration_whole)\u001b[0m\n\u001b[0;32m    228\u001b[0m \u001b[38;5;250m\u001b[39m\u001b[38;5;124;03m\"\"\"\u001b[39;00m\n\u001b[0;32m    229\u001b[0m \u001b[38;5;124;03mLoad a matchfile.\u001b[39;00m\n\u001b[0;32m    230\u001b[0m \n\u001b[1;32m   (...)\u001b[0m\n\u001b[0;32m    251\u001b[0m \u001b[38;5;124;03m    The score. This item is only returned when `create_score` = True.\u001b[39;00m\n\u001b[0;32m    252\u001b[0m \u001b[38;5;124;03m\"\"\"\u001b[39;00m\n\u001b[0;32m    253\u001b[0m \u001b[38;5;66;03m# Parse Matchfile\u001b[39;00m\n\u001b[1;32m--> 254\u001b[0m mf \u001b[38;5;241m=\u001b[39m \u001b[43mload_matchfile\u001b[49m\u001b[43m(\u001b[49m\u001b[43mfilename\u001b[49m\u001b[43m)\u001b[49m\n\u001b[0;32m    256\u001b[0m \u001b[38;5;66;03m# Generate PerformedPart\u001b[39;00m\n\u001b[0;32m    257\u001b[0m ppart \u001b[38;5;241m=\u001b[39m performed_part_from_match(mf, pedal_threshold, first_note_at_zero)\n",
      "File \u001b[1;32m~\\anaconda3\\envs\\basismixer\\lib\\site-packages\\partitura\\utils\\misc.py:66\u001b[0m, in \u001b[0;36mdeprecated_alias.<locals>.deco.<locals>.wrapper\u001b[1;34m(*args, **kwargs)\u001b[0m\n\u001b[0;32m     63\u001b[0m \u001b[38;5;129m@functools\u001b[39m\u001b[38;5;241m.\u001b[39mwraps(f)\n\u001b[0;32m     64\u001b[0m \u001b[38;5;28;01mdef\u001b[39;00m \u001b[38;5;21mwrapper\u001b[39m(\u001b[38;5;241m*\u001b[39margs, \u001b[38;5;241m*\u001b[39m\u001b[38;5;241m*\u001b[39mkwargs):\n\u001b[0;32m     65\u001b[0m     rename_kwargs(f\u001b[38;5;241m.\u001b[39m\u001b[38;5;18m__name__\u001b[39m, kwargs, aliases)\n\u001b[1;32m---> 66\u001b[0m     \u001b[38;5;28;01mreturn\u001b[39;00m f(\u001b[38;5;241m*\u001b[39margs, \u001b[38;5;241m*\u001b[39m\u001b[38;5;241m*\u001b[39mkwargs)\n",
      "File \u001b[1;32m~\\anaconda3\\envs\\basismixer\\lib\\site-packages\\partitura\\io\\importmatch.py:187\u001b[0m, in \u001b[0;36mload_matchfile\u001b[1;34m(filename)\u001b[0m\n\u001b[0;32m    182\u001b[0m \u001b[38;5;250m\u001b[39m\u001b[38;5;124;03m\"\"\"\u001b[39;00m\n\u001b[0;32m    183\u001b[0m \u001b[38;5;124;03mLoad a Matchfile as a `MatchFile` instance\u001b[39;00m\n\u001b[0;32m    184\u001b[0m \u001b[38;5;124;03m\"\"\"\u001b[39;00m\n\u001b[0;32m    186\u001b[0m \u001b[38;5;28;01mif\u001b[39;00m \u001b[38;5;129;01mnot\u001b[39;00m os\u001b[38;5;241m.\u001b[39mpath\u001b[38;5;241m.\u001b[39mexists(filename):\n\u001b[1;32m--> 187\u001b[0m     \u001b[38;5;28;01mraise\u001b[39;00m \u001b[38;5;167;01mValueError\u001b[39;00m(\u001b[38;5;124m\"\u001b[39m\u001b[38;5;124mFilename does not exist\u001b[39m\u001b[38;5;124m\"\u001b[39m)  \u001b[38;5;66;03m# pragma: no cover\u001b[39;00m\n\u001b[0;32m    189\u001b[0m \u001b[38;5;28;01mwith\u001b[39;00m \u001b[38;5;28mopen\u001b[39m(filename) \u001b[38;5;28;01mas\u001b[39;00m f:\n\u001b[0;32m    190\u001b[0m     raw_lines \u001b[38;5;241m=\u001b[39m f\u001b[38;5;241m.\u001b[39mread()\u001b[38;5;241m.\u001b[39msplitlines()\n",
      "\u001b[1;31mValueError\u001b[0m: Filename does not exist"
     ]
    }
   ],
   "source": [
    "from basismixer.data import remove_grace_notes\n",
    "\n",
    "all_data = []\n",
    "bfs = feat_names\n",
    "parameter_names = [\"velocity_trend\", \"beat_period\"]\n",
    "pc = get_performance_codec(parameter_names)\n",
    "\n",
    "for piece in piece_dict:\n",
    "    score = \"asap-dataset-copy\\\\Bach\\\\Fugue\\\\bwv_846\\\\xml_score.musicxml\"\n",
    "    matches = \"C:\\Users\\Max\\Desktop\\Uni\\basismixer\\asap-dataset-copy\\Bach\\Fugue\\bwv_846\\Shi05M.match\"\n",
    "    \n",
    "    all_data.append(process_piece((score, matches), pc, bfs, gracenotes=\"remove\"))"
   ]
  },
  {
   "cell_type": "code",
   "execution_count": null,
   "id": "de0646f1",
   "metadata": {},
   "outputs": [],
   "source": []
  }
 ],
 "metadata": {
  "kernelspec": {
   "display_name": "Python 3 (ipykernel)",
   "language": "python",
   "name": "python3"
  },
  "language_info": {
   "codemirror_mode": {
    "name": "ipython",
    "version": 3
   },
   "file_extension": ".py",
   "mimetype": "text/x-python",
   "name": "python",
   "nbconvert_exporter": "python",
   "pygments_lexer": "ipython3",
   "version": "3.9.18"
  }
 },
 "nbformat": 4,
 "nbformat_minor": 5
}
