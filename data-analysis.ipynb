{
 "cells": [
  {
   "cell_type": "markdown",
   "id": "d9d6ecc9",
   "metadata": {},
   "source": [
    "## Table of contents:\n",
    "* [Exploring data](#exploring-data)\n",
    "* [Dealing with outliers](#outliers)\n",
    "* [Eliminating unnecessary features](#features)\n",
    "* [Building a dataset](#datasets)\n",
    "* [Defining models](#models)\n",
    "* [Training and evaluation](#training)"
   ]
  },
  {
   "cell_type": "markdown",
   "id": "b0a0b991",
   "metadata": {},
   "source": [
    "## Exploring data <a class=\"anchor\" id=\"exploring-data\"></a>"
   ]
  },
  {
   "cell_type": "code",
   "execution_count": 1,
   "id": "3f32924b",
   "metadata": {
    "tags": []
   },
   "outputs": [],
   "source": [
    "import numpy as np\n",
    "import os\n",
    "import partitura as pt\n",
    "from basismixer.performance_codec import get_performance_codec\n",
    "from matplotlib import pyplot as plt\n",
    "import glob\n",
    "import re\n",
    "from scipy import stats\n",
    "import json\n",
    "import pandas as pd\n",
    "from torch.utils.tensorboard import SummaryWriter\n",
    "import torch.optim as optim\n",
    "from torch.utils.data import Subset\n",
    "import torch\n",
    "import pathlib\n",
    "\n",
    "from typing import Union, Tuple, List, Iterable, Any, Dict, Optional\n",
    "\n",
    "import warnings\n",
    "warnings.filterwarnings(\"ignore\")\n",
    "\n",
    "from tqdm import tqdm\n",
    "\n",
    "from partitura import load_score, load_match\n",
    "from partitura.score import expand_grace_notes\n",
    "from basismixer.utils import pair_files, get_unique_onset_idxs, notewise_to_onsetwise\n",
    "from basismixer.performance_codec import get_performance_codec\n",
    "from partitura.performance import PerformedPart\n",
    "from pathlib import Path\n",
    "from multiprocessing import Pool\n",
    "\n",
    "from partitura.score import GraceNote, Note, Part\n",
    "from partitura.utils.misc import PathLike\n",
    "\n",
    "from basismixer.performance_codec import PerformanceCodec\n",
    "\n",
    "EXPRESSIVE_PARAMS = [\"beat_period_ratio\",\n",
    "                     \"timing\",\n",
    "                     \"articulation_log\",\n",
    "                     \"beat_period_mean\",\n",
    "                     \"velocity_trend\",\n",
    "                     \"velocity_dev\"]"
   ]
  },
  {
   "cell_type": "code",
   "execution_count": 2,
   "id": "78c567ce",
   "metadata": {
    "tags": []
   },
   "outputs": [],
   "source": [
    "def remove_grace_notes(part: Part) -> None:\n",
    "    \"\"\"\n",
    "    Remove all grace notes from a Part.\n",
    "\n",
    "    The specified Part object will be modified in place.\n",
    "\n",
    "    Parameters\n",
    "    ----------\n",
    "    part : Part\n",
    "        The score part from which to remove the grace notes\n",
    "\n",
    "    \"\"\"\n",
    "    for gn in list(part.iter_all(GraceNote)):\n",
    "        for n in list(part.iter_all(Note)):\n",
    "            if n.tie_next == gn:\n",
    "                n.tie_next = None\n",
    "        part.remove(gn)"
   ]
  },
  {
   "cell_type": "code",
   "execution_count": 2,
   "id": "489bc6dc",
   "metadata": {
    "scrolled": true,
    "tags": []
   },
   "outputs": [
    {
     "name": "stderr",
     "output_type": "stream",
     "text": [
      "  0%|▎                                                                                 | 1/234 [00:02<09:45,  2.51s/it]\n"
     ]
    },
    {
     "ename": "KeyboardInterrupt",
     "evalue": "",
     "output_type": "error",
     "traceback": [
      "\u001b[1;31m---------------------------------------------------------------------------\u001b[0m",
      "\u001b[1;31mKeyboardInterrupt\u001b[0m                         Traceback (most recent call last)",
      "Cell \u001b[1;32mIn[2], line 32\u001b[0m\n\u001b[0;32m     28\u001b[0m pt\u001b[38;5;241m.\u001b[39mscore\u001b[38;5;241m.\u001b[39mexpand_grace_notes(score)\n\u001b[0;32m     30\u001b[0m part \u001b[38;5;241m=\u001b[39m pt\u001b[38;5;241m.\u001b[39mscore\u001b[38;5;241m.\u001b[39munfold_part_alignment(part\u001b[38;5;241m=\u001b[39mscore, alignment\u001b[38;5;241m=\u001b[39malignment)\n\u001b[1;32m---> 32\u001b[0m basis, bf_names \u001b[38;5;241m=\u001b[39m \u001b[43mpt\u001b[49m\u001b[38;5;241;43m.\u001b[39;49m\u001b[43mmusicanalysis\u001b[49m\u001b[38;5;241;43m.\u001b[39;49m\u001b[43mmake_note_feats\u001b[49m\u001b[43m(\u001b[49m\u001b[43mpart\u001b[49m\u001b[43m,\u001b[49m\u001b[43m \u001b[49m\u001b[38;5;124;43m\"\u001b[39;49m\u001b[38;5;124;43mall\u001b[39;49m\u001b[38;5;124;43m\"\u001b[39;49m\u001b[43m,\u001b[49m\u001b[43m \u001b[49m\u001b[43mforce_fixed_size\u001b[49m\u001b[38;5;241;43m=\u001b[39;49m\u001b[38;5;28;43;01mTrue\u001b[39;49;00m\u001b[43m)\u001b[49m\n\u001b[0;32m     33\u001b[0m all_feature_names\u001b[38;5;241m.\u001b[39mupdate(bf_names)\n\u001b[0;32m     35\u001b[0m nid_dict \u001b[38;5;241m=\u001b[39m \u001b[38;5;28mdict\u001b[39m((n\u001b[38;5;241m.\u001b[39mid, i) \u001b[38;5;28;01mfor\u001b[39;00m i, n \u001b[38;5;129;01min\u001b[39;00m \u001b[38;5;28menumerate\u001b[39m(part\u001b[38;5;241m.\u001b[39mnotes_tied))\n",
      "File \u001b[1;32m~\\miniconda3\\envs\\basismixer\\lib\\site-packages\\partitura\\musicanalysis\\note_features.py:128\u001b[0m, in \u001b[0;36mmake_note_features\u001b[1;34m(part, feature_functions, add_idx, include_empty_features, force_fixed_size)\u001b[0m\n\u001b[0;32m    126\u001b[0m \u001b[38;5;28;01melse\u001b[39;00m:\n\u001b[0;32m    127\u001b[0m     part \u001b[38;5;241m=\u001b[39m score\u001b[38;5;241m.\u001b[39mmerge_parts(part)\n\u001b[1;32m--> 128\u001b[0m na \u001b[38;5;241m=\u001b[39m \u001b[43mensure_notearray\u001b[49m\u001b[43m(\u001b[49m\n\u001b[0;32m    129\u001b[0m \u001b[43m    \u001b[49m\u001b[43mpart\u001b[49m\u001b[43m,\u001b[49m\n\u001b[0;32m    130\u001b[0m \u001b[43m    \u001b[49m\u001b[43minclude_metrical_position\u001b[49m\u001b[38;5;241;43m=\u001b[39;49m\u001b[38;5;28;43;01mTrue\u001b[39;49;00m\u001b[43m,\u001b[49m\n\u001b[0;32m    131\u001b[0m \u001b[43m    \u001b[49m\u001b[43minclude_grace_notes\u001b[49m\u001b[38;5;241;43m=\u001b[39;49m\u001b[38;5;28;43;01mTrue\u001b[39;49;00m\u001b[43m,\u001b[49m\n\u001b[0;32m    132\u001b[0m \u001b[43m    \u001b[49m\u001b[43minclude_time_signature\u001b[49m\u001b[38;5;241;43m=\u001b[39;49m\u001b[38;5;28;43;01mTrue\u001b[39;49;00m\u001b[43m,\u001b[49m\n\u001b[0;32m    133\u001b[0m \u001b[43m\u001b[49m\u001b[43m)\u001b[49m\n\u001b[0;32m    134\u001b[0m acc \u001b[38;5;241m=\u001b[39m []\n\u001b[0;32m    135\u001b[0m \u001b[38;5;28;01mif\u001b[39;00m \u001b[38;5;28misinstance\u001b[39m(feature_functions, \u001b[38;5;28mstr\u001b[39m) \u001b[38;5;129;01mand\u001b[39;00m feature_functions \u001b[38;5;241m==\u001b[39m \u001b[38;5;124m\"\u001b[39m\u001b[38;5;124mall\u001b[39m\u001b[38;5;124m\"\u001b[39m:\n",
      "File \u001b[1;32m~\\miniconda3\\envs\\basismixer\\lib\\site-packages\\partitura\\utils\\music.py:349\u001b[0m, in \u001b[0;36mensure_notearray\u001b[1;34m(notearray_or_part, *args, **kwargs)\u001b[0m\n\u001b[0;32m    346\u001b[0m         \u001b[38;5;28;01mraise\u001b[39;00m \u001b[38;5;167;01mValueError\u001b[39;00m(\u001b[38;5;124m\"\u001b[39m\u001b[38;5;124mInput array is not a structured array!\u001b[39m\u001b[38;5;124m\"\u001b[39m)\n\u001b[0;32m    348\u001b[0m \u001b[38;5;28;01melif\u001b[39;00m \u001b[38;5;28misinstance\u001b[39m(notearray_or_part, Part):\n\u001b[1;32m--> 349\u001b[0m     \u001b[38;5;28;01mreturn\u001b[39;00m note_array_from_part(notearray_or_part, \u001b[38;5;241m*\u001b[39margs, \u001b[38;5;241m*\u001b[39m\u001b[38;5;241m*\u001b[39mkwargs)\n\u001b[0;32m    351\u001b[0m \u001b[38;5;28;01melif\u001b[39;00m \u001b[38;5;28misinstance\u001b[39m(notearray_or_part, PartGroup):\n\u001b[0;32m    352\u001b[0m     \u001b[38;5;28;01mreturn\u001b[39;00m note_array_from_part_list(notearray_or_part\u001b[38;5;241m.\u001b[39mchildren, \u001b[38;5;241m*\u001b[39margs, \u001b[38;5;241m*\u001b[39m\u001b[38;5;241m*\u001b[39mkwargs)\n",
      "File \u001b[1;32m~\\miniconda3\\envs\\basismixer\\lib\\site-packages\\partitura\\utils\\music.py:2352\u001b[0m, in \u001b[0;36mnote_array_from_part\u001b[1;34m(part, include_pitch_spelling, include_key_signature, include_time_signature, include_metrical_position, include_grace_notes, include_staff, include_divs_per_quarter)\u001b[0m\n\u001b[0;32m   2349\u001b[0m \u001b[38;5;28;01melse\u001b[39;00m:\n\u001b[0;32m   2350\u001b[0m     divs_per_quarter \u001b[38;5;241m=\u001b[39m \u001b[38;5;28;01mNone\u001b[39;00m\n\u001b[1;32m-> 2352\u001b[0m note_array \u001b[38;5;241m=\u001b[39m \u001b[43mnote_array_from_note_list\u001b[49m\u001b[43m(\u001b[49m\n\u001b[0;32m   2353\u001b[0m \u001b[43m    \u001b[49m\u001b[43mnote_list\u001b[49m\u001b[38;5;241;43m=\u001b[39;49m\u001b[43mpart\u001b[49m\u001b[38;5;241;43m.\u001b[39;49m\u001b[43mnotes_tied\u001b[49m\u001b[43m,\u001b[49m\n\u001b[0;32m   2354\u001b[0m \u001b[43m    \u001b[49m\u001b[43mbeat_map\u001b[49m\u001b[38;5;241;43m=\u001b[39;49m\u001b[43mpart\u001b[49m\u001b[38;5;241;43m.\u001b[39;49m\u001b[43mbeat_map\u001b[49m\u001b[43m,\u001b[49m\n\u001b[0;32m   2355\u001b[0m \u001b[43m    \u001b[49m\u001b[43mquarter_map\u001b[49m\u001b[38;5;241;43m=\u001b[39;49m\u001b[43mpart\u001b[49m\u001b[38;5;241;43m.\u001b[39;49m\u001b[43mquarter_map\u001b[49m\u001b[43m,\u001b[49m\n\u001b[0;32m   2356\u001b[0m \u001b[43m    \u001b[49m\u001b[43mtime_signature_map\u001b[49m\u001b[38;5;241;43m=\u001b[39;49m\u001b[43mtime_signature_map\u001b[49m\u001b[43m,\u001b[49m\n\u001b[0;32m   2357\u001b[0m \u001b[43m    \u001b[49m\u001b[43mkey_signature_map\u001b[49m\u001b[38;5;241;43m=\u001b[39;49m\u001b[43mkey_signature_map\u001b[49m\u001b[43m,\u001b[49m\n\u001b[0;32m   2358\u001b[0m \u001b[43m    \u001b[49m\u001b[43mmetrical_position_map\u001b[49m\u001b[38;5;241;43m=\u001b[39;49m\u001b[43mmetrical_position_map\u001b[49m\u001b[43m,\u001b[49m\n\u001b[0;32m   2359\u001b[0m \u001b[43m    \u001b[49m\u001b[43minclude_pitch_spelling\u001b[49m\u001b[38;5;241;43m=\u001b[39;49m\u001b[43minclude_pitch_spelling\u001b[49m\u001b[43m,\u001b[49m\n\u001b[0;32m   2360\u001b[0m \u001b[43m    \u001b[49m\u001b[43minclude_grace_notes\u001b[49m\u001b[38;5;241;43m=\u001b[39;49m\u001b[43minclude_grace_notes\u001b[49m\u001b[43m,\u001b[49m\n\u001b[0;32m   2361\u001b[0m \u001b[43m    \u001b[49m\u001b[43minclude_staff\u001b[49m\u001b[38;5;241;43m=\u001b[39;49m\u001b[43minclude_staff\u001b[49m\u001b[43m,\u001b[49m\n\u001b[0;32m   2362\u001b[0m \u001b[43m    \u001b[49m\u001b[43mdivs_per_quarter\u001b[49m\u001b[38;5;241;43m=\u001b[39;49m\u001b[43mdivs_per_quarter\u001b[49m\u001b[43m,\u001b[49m\n\u001b[0;32m   2363\u001b[0m \u001b[43m\u001b[49m\u001b[43m)\u001b[49m\n\u001b[0;32m   2365\u001b[0m \u001b[38;5;28;01mreturn\u001b[39;00m note_array\n",
      "File \u001b[1;32m~\\miniconda3\\envs\\basismixer\\lib\\site-packages\\partitura\\utils\\music.py:2617\u001b[0m, in \u001b[0;36mnote_array_from_note_list\u001b[1;34m(note_list, beat_map, quarter_map, time_signature_map, key_signature_map, metrical_position_map, include_pitch_spelling, include_grace_notes, include_staff, divs_per_quarter)\u001b[0m\n\u001b[0;32m   2614\u001b[0m     note_info \u001b[38;5;241m+\u001b[39m\u001b[38;5;241m=\u001b[39m (note_on_beat, note_dur_beat)\n\u001b[0;32m   2616\u001b[0m \u001b[38;5;28;01mif\u001b[39;00m quarter_map \u001b[38;5;129;01mis\u001b[39;00m \u001b[38;5;129;01mnot\u001b[39;00m \u001b[38;5;28;01mNone\u001b[39;00m:\n\u001b[1;32m-> 2617\u001b[0m     note_on_quarter, note_off_quarter \u001b[38;5;241m=\u001b[39m \u001b[43mquarter_map\u001b[49m\u001b[43m(\u001b[49m\u001b[43m[\u001b[49m\u001b[43mnote_on_div\u001b[49m\u001b[43m,\u001b[49m\u001b[43m \u001b[49m\u001b[43mnote_off_div\u001b[49m\u001b[43m]\u001b[49m\u001b[43m)\u001b[49m\n\u001b[0;32m   2618\u001b[0m     note_dur_quarter \u001b[38;5;241m=\u001b[39m note_off_quarter \u001b[38;5;241m-\u001b[39m note_on_quarter\n\u001b[0;32m   2620\u001b[0m     note_info \u001b[38;5;241m+\u001b[39m\u001b[38;5;241m=\u001b[39m (note_on_quarter, note_dur_quarter)\n",
      "File \u001b[1;32m~\\miniconda3\\envs\\basismixer\\lib\\site-packages\\scipy\\interpolate\\_polyint.py:80\u001b[0m, in \u001b[0;36m_Interpolator1D.__call__\u001b[1;34m(self, x)\u001b[0m\n\u001b[0;32m     59\u001b[0m \u001b[38;5;250m\u001b[39m\u001b[38;5;124;03m\"\"\"\u001b[39;00m\n\u001b[0;32m     60\u001b[0m \u001b[38;5;124;03mEvaluate the interpolant\u001b[39;00m\n\u001b[0;32m     61\u001b[0m \n\u001b[1;32m   (...)\u001b[0m\n\u001b[0;32m     77\u001b[0m \n\u001b[0;32m     78\u001b[0m \u001b[38;5;124;03m\"\"\"\u001b[39;00m\n\u001b[0;32m     79\u001b[0m x, x_shape \u001b[38;5;241m=\u001b[39m \u001b[38;5;28mself\u001b[39m\u001b[38;5;241m.\u001b[39m_prepare_x(x)\n\u001b[1;32m---> 80\u001b[0m y \u001b[38;5;241m=\u001b[39m \u001b[38;5;28;43mself\u001b[39;49m\u001b[38;5;241;43m.\u001b[39;49m\u001b[43m_evaluate\u001b[49m\u001b[43m(\u001b[49m\u001b[43mx\u001b[49m\u001b[43m)\u001b[49m\n\u001b[0;32m     81\u001b[0m \u001b[38;5;28;01mreturn\u001b[39;00m \u001b[38;5;28mself\u001b[39m\u001b[38;5;241m.\u001b[39m_finish_y(y, x_shape)\n",
      "File \u001b[1;32m~\\miniconda3\\envs\\basismixer\\lib\\site-packages\\scipy\\interpolate\\_interpolate.py:753\u001b[0m, in \u001b[0;36minterp1d._evaluate\u001b[1;34m(self, x_new)\u001b[0m\n\u001b[0;32m    748\u001b[0m \u001b[38;5;28;01mdef\u001b[39;00m \u001b[38;5;21m_evaluate\u001b[39m(\u001b[38;5;28mself\u001b[39m, x_new):\n\u001b[0;32m    749\u001b[0m     \u001b[38;5;66;03m# 1. Handle values in x_new that are outside of x. Throw error,\u001b[39;00m\n\u001b[0;32m    750\u001b[0m     \u001b[38;5;66;03m#    or return a list of mask array indicating the outofbounds values.\u001b[39;00m\n\u001b[0;32m    751\u001b[0m     \u001b[38;5;66;03m#    The behavior is set by the bounds_error variable.\u001b[39;00m\n\u001b[0;32m    752\u001b[0m     x_new \u001b[38;5;241m=\u001b[39m asarray(x_new)\n\u001b[1;32m--> 753\u001b[0m     y_new \u001b[38;5;241m=\u001b[39m \u001b[38;5;28;43mself\u001b[39;49m\u001b[38;5;241;43m.\u001b[39;49m\u001b[43m_call\u001b[49m\u001b[43m(\u001b[49m\u001b[38;5;28;43mself\u001b[39;49m\u001b[43m,\u001b[49m\u001b[43m \u001b[49m\u001b[43mx_new\u001b[49m\u001b[43m)\u001b[49m\n\u001b[0;32m    754\u001b[0m     \u001b[38;5;28;01mif\u001b[39;00m \u001b[38;5;129;01mnot\u001b[39;00m \u001b[38;5;28mself\u001b[39m\u001b[38;5;241m.\u001b[39m_extrapolate:\n\u001b[0;32m    755\u001b[0m         below_bounds, above_bounds \u001b[38;5;241m=\u001b[39m \u001b[38;5;28mself\u001b[39m\u001b[38;5;241m.\u001b[39m_check_bounds(x_new)\n",
      "File \u001b[1;32m~\\miniconda3\\envs\\basismixer\\lib\\site-packages\\scipy\\interpolate\\_interpolate.py:677\u001b[0m, in \u001b[0;36minterp1d._call_linear_np\u001b[1;34m(self, x_new)\u001b[0m\n\u001b[0;32m    675\u001b[0m \u001b[38;5;28;01mdef\u001b[39;00m \u001b[38;5;21m_call_linear_np\u001b[39m(\u001b[38;5;28mself\u001b[39m, x_new):\n\u001b[0;32m    676\u001b[0m     \u001b[38;5;66;03m# Note that out-of-bounds values are taken care of in self._evaluate\u001b[39;00m\n\u001b[1;32m--> 677\u001b[0m     \u001b[38;5;28;01mreturn\u001b[39;00m \u001b[43mnp\u001b[49m\u001b[38;5;241;43m.\u001b[39;49m\u001b[43minterp\u001b[49m\u001b[43m(\u001b[49m\u001b[43mx_new\u001b[49m\u001b[43m,\u001b[49m\u001b[43m \u001b[49m\u001b[38;5;28;43mself\u001b[39;49m\u001b[38;5;241;43m.\u001b[39;49m\u001b[43mx\u001b[49m\u001b[43m,\u001b[49m\u001b[43m \u001b[49m\u001b[38;5;28;43mself\u001b[39;49m\u001b[38;5;241;43m.\u001b[39;49m\u001b[43my\u001b[49m\u001b[43m)\u001b[49m\n",
      "File \u001b[1;32m~\\miniconda3\\envs\\basismixer\\lib\\site-packages\\numpy\\lib\\function_base.py:1599\u001b[0m, in \u001b[0;36minterp\u001b[1;34m(x, xp, fp, left, right, period)\u001b[0m\n\u001b[0;32m   1596\u001b[0m     xp \u001b[38;5;241m=\u001b[39m np\u001b[38;5;241m.\u001b[39mconcatenate((xp[\u001b[38;5;241m-\u001b[39m\u001b[38;5;241m1\u001b[39m:]\u001b[38;5;241m-\u001b[39mperiod, xp, xp[\u001b[38;5;241m0\u001b[39m:\u001b[38;5;241m1\u001b[39m]\u001b[38;5;241m+\u001b[39mperiod))\n\u001b[0;32m   1597\u001b[0m     fp \u001b[38;5;241m=\u001b[39m np\u001b[38;5;241m.\u001b[39mconcatenate((fp[\u001b[38;5;241m-\u001b[39m\u001b[38;5;241m1\u001b[39m:], fp, fp[\u001b[38;5;241m0\u001b[39m:\u001b[38;5;241m1\u001b[39m]))\n\u001b[1;32m-> 1599\u001b[0m \u001b[38;5;28;01mreturn\u001b[39;00m \u001b[43minterp_func\u001b[49m\u001b[43m(\u001b[49m\u001b[43mx\u001b[49m\u001b[43m,\u001b[49m\u001b[43m \u001b[49m\u001b[43mxp\u001b[49m\u001b[43m,\u001b[49m\u001b[43m \u001b[49m\u001b[43mfp\u001b[49m\u001b[43m,\u001b[49m\u001b[43m \u001b[49m\u001b[43mleft\u001b[49m\u001b[43m,\u001b[49m\u001b[43m \u001b[49m\u001b[43mright\u001b[49m\u001b[43m)\u001b[49m\n",
      "\u001b[1;31mKeyboardInterrupt\u001b[0m: "
     ]
    }
   ],
   "source": [
    "xml_fn = glob.glob(os.path.join(\"asap-dataset\", \"**\", \"*.musicxml\"), recursive=True)\n",
    "match_blacklist = []\n",
    "# piece 213 leads to errors when unfolding\n",
    "match_blacklist.append(xml_fn.pop(213))\n",
    "dump_json = False\n",
    "perf_parameters = []\n",
    "all_feature_names = set()\n",
    "\n",
    "parameter_names = EXPRESSIVE_PARAMS\n",
    "pc = get_performance_codec(parameter_names)\n",
    "\n",
    "for xml in tqdm(xml_fn):\n",
    "    \n",
    "    match_fn = glob.glob(os.path.join(os.path.dirname(xml), \"*.match\"))\n",
    "\n",
    "    score = pt.load_score(xml)\n",
    "    # should parts be merged??\n",
    "    score = pt.score.merge_parts(score)\n",
    "    \n",
    "    # not needed apparently\n",
    "    # score = pt.score.unfold_part_maximal(score, update_ids=True)\n",
    "\n",
    "    for match in match_fn:\n",
    "\n",
    "        try:\n",
    "            performance, alignment = pt.load_match(match)\n",
    "    \n",
    "            pt.score.expand_grace_notes(score)\n",
    "        \n",
    "            part = pt.score.unfold_part_alignment(part=score, alignment=alignment)\n",
    "    \n",
    "            basis, bf_names = pt.musicanalysis.make_note_feats(part, \"all\", force_fixed_size=True)\n",
    "            all_feature_names.update(bf_names)\n",
    "            \n",
    "            nid_dict = dict((n.id, i) for i, n in enumerate(part.notes_tied))\n",
    "\n",
    "            targets, snote_ids, unique_onset_idxs = pc.encode(\n",
    "                part=part,\n",
    "                ppart=performance[0],\n",
    "                alignment=alignment,\n",
    "                return_u_onset_idx=True\n",
    "            )\n",
    "            \n",
    "            matched_subset_idxs = np.array([nid_dict[nid] for nid in snote_ids])\n",
    "            basis_matched = basis[matched_subset_idxs]\n",
    "            \n",
    "            perf_parameters.append((targets, match))\n",
    "\n",
    "        except Exception as e:\n",
    "            print(e)\n",
    "            print(match)\n",
    "            match_blacklist.append(match)\n",
    "            continue"
   ]
  },
  {
   "cell_type": "code",
   "execution_count": null,
   "id": "5a07ef55",
   "metadata": {},
   "outputs": [],
   "source": [
    "xml_fn[212], xml_fn[213], xml_fn[214]"
   ]
  },
  {
   "cell_type": "code",
   "execution_count": 3,
   "id": "9aaa97d8",
   "metadata": {},
   "outputs": [
    {
     "data": {
      "text/plain": [
       "dtype([('beat_period_ratio', '<f4'), ('timing', '<f4'), ('articulation_log', '<f4'), ('beat_period_mean', '<f4'), ('velocity_trend', '<f4'), ('velocity_dev', '<f4')])"
      ]
     },
     "execution_count": 3,
     "metadata": {},
     "output_type": "execute_result"
    }
   ],
   "source": [
    "perf_parameters[0][0].dtype"
   ]
  },
  {
   "cell_type": "markdown",
   "id": "06790813",
   "metadata": {},
   "source": [
    "## Dealing with outliers <a class=\"anchor\" id=\"outliers\"></a>"
   ]
  },
  {
   "cell_type": "code",
   "execution_count": null,
   "id": "84f7dc56",
   "metadata": {},
   "outputs": [],
   "source": [
    "def clip_parameters(array, bpr=[0, 2.5], t=[-0.1, 0.1]):\n",
    "    copy = array.copy()\n",
    "    \n",
    "    for perf, name in copy:\n",
    "        if \"beat_period_ratio\" in perf.dtype:\n",
    "            np.clip(targets[\"beat_period_ratio\"], a_min=0, a_max=6, out=targets[\"beat_period_ratio\"])\n",
    "        if \"timing\" in perf.dtype:\n",
    "            np.clip(targets[\"timing\"], a_min=-1, a_max=1, out=targets[\"timing\"])\n",
    "        if \"beat_period\" in perf.dtype:\n",
    "            np.clip(targets[\"beat_period\"], a_min=0, a_max=3, out=targets[\"beat_period\"])\n",
    "        \n",
    "    return copy"
   ]
  },
  {
   "cell_type": "code",
   "execution_count": 7,
   "id": "ceb831fa",
   "metadata": {},
   "outputs": [],
   "source": [
    "import pandas as pd\n",
    "\n",
    "indices = [perf[1] for perf in perf_parameters]\n",
    "expressiveness_params = EXPRESSIVE_PARAMS\n",
    "descriptions = []\n",
    "dataframes = []\n",
    "\n",
    "perf_parameters = clip_parameters(perf_parameters, t=[-1, 1], bpr=[0, 6])\n",
    "\n",
    "for perf in perf_parameters:\n",
    "    param_df = pd.DataFrame(perf[0], columns=expressiveness_params)\n",
    "    dataframes.append(param_df)\n",
    "    descriptions.append(param_df.describe())"
   ]
  },
  {
   "cell_type": "code",
   "execution_count": 8,
   "id": "03bb2365",
   "metadata": {
    "scrolled": true
   },
   "outputs": [],
   "source": [
    "def get_outliers(z_threshold=3):\n",
    "    \n",
    "    outlier_dict = {\"piece_names\": []}\n",
    "    \n",
    "    for param_name in expressiveness_params:\n",
    "\n",
    "        print(f\"{param_name} outliers:\")\n",
    "\n",
    "        param_df = pd.DataFrame(columns=[\"min\", \"max\", \"mean\"], index=indices)\n",
    "\n",
    "        param_df[\"min\"] = [desc[param_name].T[\"min\"] for desc in descriptions]\n",
    "        param_df[\"max\"] = [desc[param_name].T[\"max\"] for desc in descriptions]\n",
    "        param_df[\"mean\"] = [desc[param_name].T[\"mean\"] for desc in descriptions]\n",
    "        \n",
    "        min_mean = np.mean(param_df[\"min\"])\n",
    "        max_mean = np.mean(param_df[\"max\"])\n",
    "        mean_mean = np.mean(param_df[\"mean\"])\n",
    "        \n",
    "        min_median = np.median(param_df[\"min\"])\n",
    "        max_median = np.median(param_df[\"max\"])\n",
    "        mean_median = np.median(param_df[\"mean\"])\n",
    "\n",
    "        z_min = np.abs(stats.zscore(param_df[\"min\"]))\n",
    "        z_max = np.abs(stats.zscore(param_df[\"max\"]))\n",
    "        z_mean = np.abs(stats.zscore(param_df[\"max\"]))\n",
    "        \n",
    "        outliers = param_df[(z_min > z_threshold) | (z_max > z_threshold) | (z_mean > z_threshold)]\n",
    "        \n",
    "        print(f\"\"\"Mean values for comparison:\n",
    "                    min: {min_mean}\n",
    "                    max: {max_mean}\n",
    "                    mean: {mean_mean}\\n\"\"\")\n",
    "        \n",
    "        print(f\"\"\"Median values for comparison:\n",
    "                    min: {min_median}\n",
    "                    max: {max_median}\n",
    "                    mean: {mean_median}\\n\"\"\")\n",
    "        \n",
    "        print(f\"{outliers.to_markdown()}\\n\\n\")\n",
    "        outlier_dict[param_name] = outliers\n",
    "        outlier_dict[\"piece_names\"] += [idx for idx in outliers.index]\n",
    "        \n",
    "    return outlier_dict"
   ]
  },
  {
   "cell_type": "code",
   "execution_count": 9,
   "id": "7ea38405",
   "metadata": {
    "scrolled": true
   },
   "outputs": [
    {
     "name": "stdout",
     "output_type": "stream",
     "text": [
      "beat_period_ratio outliers:\n",
      "Mean values for comparison:\n",
      "                    min: 0.1361704734177525\n",
      "                    max: 4.929475160206065\n",
      "                    mean: 1.0081629676769084\n",
      "\n",
      "Median values for comparison:\n",
      "                    min: 0.046032095327973366\n",
      "                    max: 5.750697374343872\n",
      "                    mean: 1.0071123242378235\n",
      "\n",
      "| min   | max   | mean   |\n",
      "|-------|-------|--------|\n",
      "\n",
      "\n",
      "timing outliers:\n",
      "Mean values for comparison:\n",
      "                    min: -0.5537110822702948\n",
      "                    max: 0.5229778194904285\n",
      "                    mean: 0.0003838620213122546\n",
      "\n",
      "Median values for comparison:\n",
      "                    min: -0.5073324739933014\n",
      "                    max: 0.46107006072998047\n",
      "                    mean: 0.0\n",
      "\n",
      "| min   | max   | mean   |\n",
      "|-------|-------|--------|\n",
      "\n",
      "\n",
      "articulation_log outliers:\n",
      "Mean values for comparison:\n",
      "                    min: -4.034457930351344\n",
      "                    max: 6.9230732465378475\n",
      "                    mean: 0.6577803475110844\n",
      "\n",
      "Median values for comparison:\n",
      "                    min: -3.883082151412964\n",
      "                    max: 6.678017854690552\n",
      "                    mean: 0.58418008685112\n",
      "\n",
      "| min   | max   | mean   |\n",
      "|-------|-------|--------|\n",
      "\n",
      "\n",
      "beat_period_mean outliers:\n",
      "Mean values for comparison:\n",
      "                    min: 0.5685944495902907\n",
      "                    max: 0.5685944495902907\n",
      "                    mean: 0.5685944526723146\n",
      "\n",
      "Median values for comparison:\n",
      "                    min: 0.45046958327293396\n",
      "                    max: 0.45046958327293396\n",
      "                    mean: 0.45046956837177277\n",
      "\n",
      "| min   | max   | mean   |\n",
      "|-------|-------|--------|\n",
      "\n",
      "\n",
      "velocity_trend outliers:\n",
      "Mean values for comparison:\n",
      "                    min: 0.1412242829969305\n",
      "                    max: 0.8376413808262552\n",
      "                    mean: 0.5610662283096639\n",
      "\n",
      "Median values for comparison:\n",
      "                    min: 0.12598425149917603\n",
      "                    max: 0.8425197005271912\n",
      "                    mean: 0.5655233263969421\n",
      "\n",
      "| min   | max   | mean   |\n",
      "|-------|-------|--------|\n",
      "\n",
      "\n",
      "velocity_dev outliers:\n",
      "Mean values for comparison:\n",
      "                    min: 0.0\n",
      "                    max: 0.5411256701178297\n",
      "                    mean: 0.04970694494540176\n",
      "\n",
      "Median values for comparison:\n",
      "                    min: 0.0\n",
      "                    max: 0.5433070659637451\n",
      "                    mean: 0.04913318157196045\n",
      "\n",
      "| min   | max   | mean   |\n",
      "|-------|-------|--------|\n",
      "\n",
      "\n"
     ]
    }
   ],
   "source": [
    "outlier_dict = get_outliers(6)\n",
    "outlier_dict[\"piece_names\"] += match_blacklist\n",
    "outlier_dict[\"piece_names\"] = list(set(outlier_dict[\"piece_names\"]))"
   ]
  },
  {
   "cell_type": "code",
   "execution_count": 10,
   "id": "81100590",
   "metadata": {},
   "outputs": [
    {
     "data": {
      "text/plain": [
       "['asap-dataset\\\\Debussy\\\\Pour_le_Piano\\\\1\\\\MunA12M.match']"
      ]
     },
     "execution_count": 10,
     "metadata": {},
     "output_type": "execute_result"
    }
   ],
   "source": [
    "outlier_dict[\"piece_names\"]"
   ]
  },
  {
   "cell_type": "code",
   "execution_count": 13,
   "id": "9cd231c2",
   "metadata": {
    "scrolled": true
   },
   "outputs": [],
   "source": [
    "from matplotlib import pyplot as plt\n",
    "\n",
    "for param_name in expressiveness_params:\n",
    "    \n",
    "    if len(outlier_dict[param_name]) != 0:\n",
    "    \n",
    "        fig, ax = plt.subplots(len(outlier_dict[param_name])+1, figsize=(10, 20))\n",
    "        for i, piece_name in enumerate(outlier_dict[param_name].index):\n",
    "\n",
    "            idx = indices.index(piece_name)\n",
    "            df = dataframes[idx]\n",
    "\n",
    "            ax[i].plot(df[param_name])\n",
    "            ax[i].set(title=f\"{param_name.upper()}: {piece_name}\")\n",
    "\n",
    "        fig.tight_layout()"
   ]
  },
  {
   "cell_type": "code",
   "execution_count": 14,
   "id": "e0827311",
   "metadata": {},
   "outputs": [
    {
     "name": "stdout",
     "output_type": "stream",
     "text": [
      "1054 1054\n"
     ]
    }
   ],
   "source": [
    "valid_perf_params = [perf for perf in perf_parameters if perf[1] not in outlier_dict[\"piece_names\"]]\n",
    "\n",
    "print(len(perf_parameters), len(valid_perf_params))"
   ]
  },
  {
   "cell_type": "markdown",
   "id": "5921839c",
   "metadata": {},
   "source": [
    "## Eliminating unnecessary features <a class=\"anchor\" id=\"features\"></a>"
   ]
  },
  {
   "cell_type": "code",
   "execution_count": 15,
   "id": "aaaa9a1a",
   "metadata": {},
   "outputs": [
    {
     "data": {
      "text/plain": [
       "{'articulation_direction_feature.accent',\n",
       " 'articulation_direction_feature.marcato',\n",
       " 'articulation_direction_feature.staccato',\n",
       " 'articulation_direction_feature.tenuto',\n",
       " 'articulation_direction_feature.unknown_articulation',\n",
       " 'articulation_feature.accent',\n",
       " 'articulation_feature.breath-mark',\n",
       " 'articulation_feature.caesura',\n",
       " 'articulation_feature.detached-legato',\n",
       " 'articulation_feature.doit',\n",
       " 'articulation_feature.falloff',\n",
       " 'articulation_feature.plop',\n",
       " 'articulation_feature.scoop',\n",
       " 'articulation_feature.soft-accent',\n",
       " 'articulation_feature.spiccato',\n",
       " 'articulation_feature.staccatissimo',\n",
       " 'articulation_feature.staccato',\n",
       " 'articulation_feature.stress',\n",
       " 'articulation_feature.strong-accent',\n",
       " 'articulation_feature.tenuto',\n",
       " 'articulation_feature.unstress',\n",
       " 'duration_feature.duration',\n",
       " 'fermata_feature.fermata',\n",
       " 'grace_feature.grace_note',\n",
       " 'grace_feature.grace_pos',\n",
       " 'grace_feature.n_grace',\n",
       " 'loudness_direction_feature.f',\n",
       " 'loudness_direction_feature.ff',\n",
       " 'loudness_direction_feature.fff',\n",
       " 'loudness_direction_feature.fp',\n",
       " 'loudness_direction_feature.loudness_decr',\n",
       " 'loudness_direction_feature.loudness_incr',\n",
       " 'loudness_direction_feature.mf',\n",
       " 'loudness_direction_feature.mp',\n",
       " 'loudness_direction_feature.p',\n",
       " 'loudness_direction_feature.pp',\n",
       " 'loudness_direction_feature.ppp',\n",
       " 'loudness_direction_feature.sf',\n",
       " 'loudness_direction_feature.sfp',\n",
       " 'loudness_direction_feature.sfz',\n",
       " 'loudness_direction_feature.unknown_constant',\n",
       " 'loudness_direction_feature.unknown_impulsive',\n",
       " 'metrical_strength_feature.beat_phase',\n",
       " 'metrical_strength_feature.metrical_strength_downbeat',\n",
       " 'metrical_strength_feature.metrical_strength_secondary',\n",
       " 'metrical_strength_feature.metrical_strength_weak',\n",
       " 'onset_feature.onset',\n",
       " 'onset_feature.score_position',\n",
       " 'ornament_feature.delayed-inverted-turn',\n",
       " 'ornament_feature.delayed-turn',\n",
       " 'ornament_feature.haydn',\n",
       " 'ornament_feature.inverted-mordent',\n",
       " 'ornament_feature.inverted-turn',\n",
       " 'ornament_feature.inverted-vertical-turn',\n",
       " 'ornament_feature.mordent',\n",
       " 'ornament_feature.other-ornament',\n",
       " 'ornament_feature.schleifer',\n",
       " 'ornament_feature.shake',\n",
       " 'ornament_feature.tremolo',\n",
       " 'ornament_feature.trill-mark',\n",
       " 'ornament_feature.turn',\n",
       " 'ornament_feature.vertical-turn',\n",
       " 'ornament_feature.wavy-line',\n",
       " 'polynomial_pitch_feature.pitch',\n",
       " 'relative_score_position_feature.score_position',\n",
       " 'slur_feature.slur_decr',\n",
       " 'slur_feature.slur_incr',\n",
       " 'staff_feature.staff',\n",
       " 'tempo_direction_feature.adagietto',\n",
       " 'tempo_direction_feature.adagio',\n",
       " 'tempo_direction_feature.allegretto',\n",
       " 'tempo_direction_feature.allegro',\n",
       " 'tempo_direction_feature.andante',\n",
       " 'tempo_direction_feature.andantino',\n",
       " 'tempo_direction_feature.grave',\n",
       " 'tempo_direction_feature.larghetto',\n",
       " 'tempo_direction_feature.largo',\n",
       " 'tempo_direction_feature.lento',\n",
       " 'tempo_direction_feature.moderato',\n",
       " 'tempo_direction_feature.prestissimo',\n",
       " 'tempo_direction_feature.presto',\n",
       " 'tempo_direction_feature.tempo_decr',\n",
       " 'tempo_direction_feature.tempo_incr',\n",
       " 'tempo_direction_feature.unknown_constant',\n",
       " 'tempo_direction_feature.vivace',\n",
       " 'vertical_neighbor_feature.highest_pitch',\n",
       " 'vertical_neighbor_feature.lowest_pitch',\n",
       " 'vertical_neighbor_feature.n_above',\n",
       " 'vertical_neighbor_feature.n_below',\n",
       " 'vertical_neighbor_feature.n_total',\n",
       " 'vertical_neighbor_feature.pitch_range'}"
      ]
     },
     "execution_count": 15,
     "metadata": {},
     "output_type": "execute_result"
    }
   ],
   "source": [
    "all_feature_names"
   ]
  },
  {
   "cell_type": "code",
   "execution_count": 18,
   "id": "7f567a51",
   "metadata": {},
   "outputs": [
    {
     "name": "stderr",
     "output_type": "stream",
     "text": [
      " 97%|██████████████████████████████████████████████████████████████████████████████████████████████████████████████████████████████████████████████████████████████████████████████████████████▉      | 1021/1054 [1:09:50<03:15,  5.93s/it]"
     ]
    },
    {
     "name": "stdout",
     "output_type": "stream",
     "text": [
      "snote(n55-1,[B,b],3,6:1,1/10,-1/28,8.388671875,8.25,[])-note(n48,[B,b],3,4513,4540,4540,64). -1/28 cannot be interpreted as FractionalSymbolicDuration Version(major=0, minor=5, patch=0)\n",
      "snote(n55-1,[B,b],3,6:1,1/10,-1/28,8.388671875,8.25,[])-note(n48,[B,b],3,4513,4540,4540,64). -1/28 cannot be interpreted as FractionalSymbolicDuration Version(major=0, minor=5, patch=0)\n",
      "snote(n55-1,[B,b],3,6:1,1/10,-1/28,8.388671875,8.25,[])-note(n48,[B,b],3,4513,4540,4540,64). -1/28 cannot be interpreted as FractionalSymbolicDuration Version(major=0, minor=5, patch=0)\n",
      "snote(n55-1,[B,b],3,6:1,1/10,-1/28,8.388671875,8.25,[])-note(n48,[B,b],3,4513,4540,4540,64). -1/28 cannot be interpreted as FractionalSymbolicDuration Version(major=0, minor=5, patch=0)\n",
      "snote(n178-1,[B,b],4,16:1,1/10,-1/28,28.388671875,28.25,[])-note(n166,[B,b],4,13799,13860,14020,70). -1/28 cannot be interpreted as FractionalSymbolicDuration Version(major=0, minor=5, patch=0)\n",
      "snote(n178-1,[B,b],4,16:1,1/10,-1/28,28.388671875,28.25,[])-note(n166,[B,b],4,13799,13860,14020,70). -1/28 cannot be interpreted as FractionalSymbolicDuration Version(major=0, minor=5, patch=0)\n",
      "snote(n178-1,[B,b],4,16:1,1/10,-1/28,28.388671875,28.25,[])-note(n166,[B,b],4,13799,13860,14020,70). -1/28 cannot be interpreted as FractionalSymbolicDuration Version(major=0, minor=5, patch=0)\n",
      "snote(n178-1,[B,b],4,16:1,1/10,-1/28,28.388671875,28.25,[])-note(n166,[B,b],4,13799,13860,14020,70). -1/28 cannot be interpreted as FractionalSymbolicDuration Version(major=0, minor=5, patch=0)\n",
      "snote(n1150-1,[B,b],3,100:1,1/10,-1/28,282.388671875,282.25,[])-note(n998,[B,b],3,144052,144092,144092,63). -1/28 cannot be interpreted as FractionalSymbolicDuration Version(major=0, minor=5, patch=0)\n",
      "snote(n1150-1,[B,b],3,100:1,1/10,-1/28,282.388671875,282.25,[])-note(n998,[B,b],3,144052,144092,144092,63). -1/28 cannot be interpreted as FractionalSymbolicDuration Version(major=0, minor=5, patch=0)\n",
      "snote(n1150-1,[B,b],3,100:1,1/10,-1/28,282.388671875,282.25,[])-note(n998,[B,b],3,144052,144092,144092,63). -1/28 cannot be interpreted as FractionalSymbolicDuration Version(major=0, minor=5, patch=0)\n",
      "snote(n1150-1,[B,b],3,100:1,1/10,-1/28,282.388671875,282.25,[])-note(n998,[B,b],3,144052,144092,144092,63). -1/28 cannot be interpreted as FractionalSymbolicDuration Version(major=0, minor=5, patch=0)\n",
      "snote(n1273-1,[B,b],4,110:1,1/10,-1/28,302.388671875,302.25,[])-note(n1118,[B,b],4,153486,153536,153719,68). -1/28 cannot be interpreted as FractionalSymbolicDuration Version(major=0, minor=5, patch=0)\n",
      "snote(n1273-1,[B,b],4,110:1,1/10,-1/28,302.388671875,302.25,[])-note(n1118,[B,b],4,153486,153536,153719,68). -1/28 cannot be interpreted as FractionalSymbolicDuration Version(major=0, minor=5, patch=0)\n",
      "snote(n1273-1,[B,b],4,110:1,1/10,-1/28,302.388671875,302.25,[])-note(n1118,[B,b],4,153486,153536,153719,68). -1/28 cannot be interpreted as FractionalSymbolicDuration Version(major=0, minor=5, patch=0)\n",
      "snote(n1273-1,[B,b],4,110:1,1/10,-1/28,302.388671875,302.25,[])-note(n1118,[B,b],4,153486,153536,153719,68). -1/28 cannot be interpreted as FractionalSymbolicDuration Version(major=0, minor=5, patch=0)\n"
     ]
    },
    {
     "name": "stderr",
     "output_type": "stream",
     "text": [
      "\r",
      " 97%|███████████████████████████████████████████████████████████████████████████████████████████████████████████████████████████████████████████████████████████████████████████████████████████▏     | 1022/1054 [1:09:52<02:30,  4.70s/it]"
     ]
    },
    {
     "name": "stdout",
     "output_type": "stream",
     "text": [
      "snote(n55-1,[B,b],3,6:1,1/10,-1/28,8.388671875,8.25,[])-note(n48,[B,b],3,4513,4540,4540,64). -1/28 cannot be interpreted as FractionalSymbolicDuration Version(major=0, minor=5, patch=0)\n",
      "snote(n55-1,[B,b],3,6:1,1/10,-1/28,8.388671875,8.25,[])-note(n48,[B,b],3,4513,4540,4540,64). -1/28 cannot be interpreted as FractionalSymbolicDuration Version(major=0, minor=5, patch=0)\n",
      "snote(n55-1,[B,b],3,6:1,1/10,-1/28,8.388671875,8.25,[])-note(n48,[B,b],3,4513,4540,4540,64). -1/28 cannot be interpreted as FractionalSymbolicDuration Version(major=0, minor=5, patch=0)\n",
      "snote(n55-1,[B,b],3,6:1,1/10,-1/28,8.388671875,8.25,[])-note(n48,[B,b],3,4513,4540,4540,64). -1/28 cannot be interpreted as FractionalSymbolicDuration Version(major=0, minor=5, patch=0)\n",
      "snote(n178-1,[B,b],4,16:1,1/10,-1/28,28.388671875,28.25,[])-note(n166,[B,b],4,13799,13860,14020,70). -1/28 cannot be interpreted as FractionalSymbolicDuration Version(major=0, minor=5, patch=0)\n",
      "snote(n178-1,[B,b],4,16:1,1/10,-1/28,28.388671875,28.25,[])-note(n166,[B,b],4,13799,13860,14020,70). -1/28 cannot be interpreted as FractionalSymbolicDuration Version(major=0, minor=5, patch=0)\n",
      "snote(n178-1,[B,b],4,16:1,1/10,-1/28,28.388671875,28.25,[])-note(n166,[B,b],4,13799,13860,14020,70). -1/28 cannot be interpreted as FractionalSymbolicDuration Version(major=0, minor=5, patch=0)\n",
      "snote(n178-1,[B,b],4,16:1,1/10,-1/28,28.388671875,28.25,[])-note(n166,[B,b],4,13799,13860,14020,70). -1/28 cannot be interpreted as FractionalSymbolicDuration Version(major=0, minor=5, patch=0)\n",
      "snote(n1150-1,[B,b],3,100:1,1/10,-1/28,282.388671875,282.25,[])-note(n998,[B,b],3,144052,144092,144092,63). -1/28 cannot be interpreted as FractionalSymbolicDuration Version(major=0, minor=5, patch=0)\n",
      "snote(n1150-1,[B,b],3,100:1,1/10,-1/28,282.388671875,282.25,[])-note(n998,[B,b],3,144052,144092,144092,63). -1/28 cannot be interpreted as FractionalSymbolicDuration Version(major=0, minor=5, patch=0)\n",
      "snote(n1150-1,[B,b],3,100:1,1/10,-1/28,282.388671875,282.25,[])-note(n998,[B,b],3,144052,144092,144092,63). -1/28 cannot be interpreted as FractionalSymbolicDuration Version(major=0, minor=5, patch=0)\n",
      "snote(n1150-1,[B,b],3,100:1,1/10,-1/28,282.388671875,282.25,[])-note(n998,[B,b],3,144052,144092,144092,63). -1/28 cannot be interpreted as FractionalSymbolicDuration Version(major=0, minor=5, patch=0)\n",
      "snote(n1273-1,[B,b],4,110:1,1/10,-1/28,302.388671875,302.25,[])-note(n1118,[B,b],4,153486,153536,153719,68). -1/28 cannot be interpreted as FractionalSymbolicDuration Version(major=0, minor=5, patch=0)\n",
      "snote(n1273-1,[B,b],4,110:1,1/10,-1/28,302.388671875,302.25,[])-note(n1118,[B,b],4,153486,153536,153719,68). -1/28 cannot be interpreted as FractionalSymbolicDuration Version(major=0, minor=5, patch=0)\n",
      "snote(n1273-1,[B,b],4,110:1,1/10,-1/28,302.388671875,302.25,[])-note(n1118,[B,b],4,153486,153536,153719,68). -1/28 cannot be interpreted as FractionalSymbolicDuration Version(major=0, minor=5, patch=0)\n",
      "snote(n1273-1,[B,b],4,110:1,1/10,-1/28,302.388671875,302.25,[])-note(n1118,[B,b],4,153486,153536,153719,68). -1/28 cannot be interpreted as FractionalSymbolicDuration Version(major=0, minor=5, patch=0)\n"
     ]
    },
    {
     "name": "stderr",
     "output_type": "stream",
     "text": [
      "\r",
      " 97%|███████████████████████████████████████████████████████████████████████████████████████████████████████████████████████████████████████████████████████████████████████████████████████████▎     | 1023/1054 [1:09:55<02:06,  4.09s/it]"
     ]
    },
    {
     "name": "stdout",
     "output_type": "stream",
     "text": [
      "snote(n55-1,[B,b],3,6:1,1/10,-1/28,8.388671875,8.25,[])-note(n48,[B,b],3,4513,4540,4540,64). -1/28 cannot be interpreted as FractionalSymbolicDuration Version(major=0, minor=5, patch=0)\n",
      "snote(n55-1,[B,b],3,6:1,1/10,-1/28,8.388671875,8.25,[])-note(n48,[B,b],3,4513,4540,4540,64). -1/28 cannot be interpreted as FractionalSymbolicDuration Version(major=0, minor=5, patch=0)\n",
      "snote(n55-1,[B,b],3,6:1,1/10,-1/28,8.388671875,8.25,[])-note(n48,[B,b],3,4513,4540,4540,64). -1/28 cannot be interpreted as FractionalSymbolicDuration Version(major=0, minor=5, patch=0)\n",
      "snote(n55-1,[B,b],3,6:1,1/10,-1/28,8.388671875,8.25,[])-note(n48,[B,b],3,4513,4540,4540,64). -1/28 cannot be interpreted as FractionalSymbolicDuration Version(major=0, minor=5, patch=0)\n",
      "snote(n178-1,[B,b],4,16:1,1/10,-1/28,28.388671875,28.25,[])-note(n166,[B,b],4,13799,13860,14020,70). -1/28 cannot be interpreted as FractionalSymbolicDuration Version(major=0, minor=5, patch=0)\n",
      "snote(n178-1,[B,b],4,16:1,1/10,-1/28,28.388671875,28.25,[])-note(n166,[B,b],4,13799,13860,14020,70). -1/28 cannot be interpreted as FractionalSymbolicDuration Version(major=0, minor=5, patch=0)\n",
      "snote(n178-1,[B,b],4,16:1,1/10,-1/28,28.388671875,28.25,[])-note(n166,[B,b],4,13799,13860,14020,70). -1/28 cannot be interpreted as FractionalSymbolicDuration Version(major=0, minor=5, patch=0)\n",
      "snote(n178-1,[B,b],4,16:1,1/10,-1/28,28.388671875,28.25,[])-note(n166,[B,b],4,13799,13860,14020,70). -1/28 cannot be interpreted as FractionalSymbolicDuration Version(major=0, minor=5, patch=0)\n",
      "snote(n1150-1,[B,b],3,100:1,1/10,-1/28,282.388671875,282.25,[])-note(n998,[B,b],3,144052,144092,144092,63). -1/28 cannot be interpreted as FractionalSymbolicDuration Version(major=0, minor=5, patch=0)\n",
      "snote(n1150-1,[B,b],3,100:1,1/10,-1/28,282.388671875,282.25,[])-note(n998,[B,b],3,144052,144092,144092,63). -1/28 cannot be interpreted as FractionalSymbolicDuration Version(major=0, minor=5, patch=0)\n",
      "snote(n1150-1,[B,b],3,100:1,1/10,-1/28,282.388671875,282.25,[])-note(n998,[B,b],3,144052,144092,144092,63). -1/28 cannot be interpreted as FractionalSymbolicDuration Version(major=0, minor=5, patch=0)\n",
      "snote(n1150-1,[B,b],3,100:1,1/10,-1/28,282.388671875,282.25,[])-note(n998,[B,b],3,144052,144092,144092,63). -1/28 cannot be interpreted as FractionalSymbolicDuration Version(major=0, minor=5, patch=0)\n",
      "snote(n1273-1,[B,b],4,110:1,1/10,-1/28,302.388671875,302.25,[])-note(n1118,[B,b],4,153486,153536,153719,68). -1/28 cannot be interpreted as FractionalSymbolicDuration Version(major=0, minor=5, patch=0)\n",
      "snote(n1273-1,[B,b],4,110:1,1/10,-1/28,302.388671875,302.25,[])-note(n1118,[B,b],4,153486,153536,153719,68). -1/28 cannot be interpreted as FractionalSymbolicDuration Version(major=0, minor=5, patch=0)\n",
      "snote(n1273-1,[B,b],4,110:1,1/10,-1/28,302.388671875,302.25,[])-note(n1118,[B,b],4,153486,153536,153719,68). -1/28 cannot be interpreted as FractionalSymbolicDuration Version(major=0, minor=5, patch=0)\n",
      "snote(n1273-1,[B,b],4,110:1,1/10,-1/28,302.388671875,302.25,[])-note(n1118,[B,b],4,153486,153536,153719,68). -1/28 cannot be interpreted as FractionalSymbolicDuration Version(major=0, minor=5, patch=0)\n"
     ]
    },
    {
     "name": "stderr",
     "output_type": "stream",
     "text": [
      "100%|█████████████████████████████████████████████████████████████████████████████████████████████████████████████████████████████████████████████████████████████████████████████████████████████████| 1054/1054 [1:31:36<00:00,  5.22s/it]\n"
     ]
    }
   ],
   "source": [
    "basis_list = []\n",
    "feature_names = None\n",
    "\n",
    "counter = 0\n",
    "for perf, perf_name in tqdm(valid_perf_params):\n",
    "    \n",
    "    xml = glob.glob(os.path.join(os.path.dirname(perf_name), \"*.musicxml\"))[0]\n",
    "    \n",
    "    score = pt.load_score(xml)\n",
    "    score = pt.score.merge_parts(score)\n",
    "    \n",
    "    match_fn = glob.glob(os.path.join(os.path.dirname(xml), \"*.match\"))\n",
    "    match = match_fn[0]\n",
    "        \n",
    "    performance, alignment = pt.load_match(match)\n",
    "\n",
    "    pt.score.expand_grace_notes(score)\n",
    "\n",
    "    part = pt.score.unfold_part_alignment(part=score, alignment=alignment)\n",
    "\n",
    "    basis, bf_names = pt.musicanalysis.make_note_feats(part, \"all\", force_fixed_size=True)\n",
    "    basis = np.mean(basis, axis=0)\n",
    "    basis_list.append(basis)\n",
    "    \n",
    "    feature_names = bf_names"
   ]
  },
  {
   "cell_type": "code",
   "execution_count": 19,
   "id": "b229e32f",
   "metadata": {},
   "outputs": [
    {
     "data": {
      "text/html": [
       "<div>\n",
       "<style scoped>\n",
       "    .dataframe tbody tr th:only-of-type {\n",
       "        vertical-align: middle;\n",
       "    }\n",
       "\n",
       "    .dataframe tbody tr th {\n",
       "        vertical-align: top;\n",
       "    }\n",
       "\n",
       "    .dataframe thead th {\n",
       "        text-align: right;\n",
       "    }\n",
       "</style>\n",
       "<table border=\"1\" class=\"dataframe\">\n",
       "  <thead>\n",
       "    <tr style=\"text-align: right;\">\n",
       "      <th></th>\n",
       "      <th>articulation_direction_feature.staccato</th>\n",
       "      <th>articulation_direction_feature.tenuto</th>\n",
       "      <th>articulation_direction_feature.accent</th>\n",
       "      <th>articulation_direction_feature.marcato</th>\n",
       "      <th>articulation_direction_feature.unknown_articulation</th>\n",
       "      <th>articulation_feature.accent</th>\n",
       "      <th>articulation_feature.strong-accent</th>\n",
       "      <th>articulation_feature.staccato</th>\n",
       "      <th>articulation_feature.tenuto</th>\n",
       "      <th>articulation_feature.detached-legato</th>\n",
       "      <th>...</th>\n",
       "      <th>tempo_direction_feature.prestissimo</th>\n",
       "      <th>tempo_direction_feature.unknown_constant</th>\n",
       "      <th>tempo_direction_feature.tempo_incr</th>\n",
       "      <th>tempo_direction_feature.tempo_decr</th>\n",
       "      <th>vertical_neighbor_feature.n_total</th>\n",
       "      <th>vertical_neighbor_feature.n_above</th>\n",
       "      <th>vertical_neighbor_feature.n_below</th>\n",
       "      <th>vertical_neighbor_feature.highest_pitch</th>\n",
       "      <th>vertical_neighbor_feature.lowest_pitch</th>\n",
       "      <th>vertical_neighbor_feature.pitch_range</th>\n",
       "    </tr>\n",
       "  </thead>\n",
       "  <tbody>\n",
       "    <tr>\n",
       "      <th>articulation_direction_feature.staccato</th>\n",
       "      <td>1.000000</td>\n",
       "      <td>NaN</td>\n",
       "      <td>NaN</td>\n",
       "      <td>NaN</td>\n",
       "      <td>-0.039790</td>\n",
       "      <td>0.026185</td>\n",
       "      <td>0.488048</td>\n",
       "      <td>0.384375</td>\n",
       "      <td>0.091768</td>\n",
       "      <td>0.514936</td>\n",
       "      <td>...</td>\n",
       "      <td>0.074663</td>\n",
       "      <td>0.024795</td>\n",
       "      <td>-0.041760</td>\n",
       "      <td>-0.008861</td>\n",
       "      <td>0.123763</td>\n",
       "      <td>0.110842</td>\n",
       "      <td>0.110842</td>\n",
       "      <td>0.331753</td>\n",
       "      <td>0.240464</td>\n",
       "      <td>0.083885</td>\n",
       "    </tr>\n",
       "    <tr>\n",
       "      <th>articulation_direction_feature.tenuto</th>\n",
       "      <td>NaN</td>\n",
       "      <td>NaN</td>\n",
       "      <td>NaN</td>\n",
       "      <td>NaN</td>\n",
       "      <td>NaN</td>\n",
       "      <td>NaN</td>\n",
       "      <td>NaN</td>\n",
       "      <td>NaN</td>\n",
       "      <td>NaN</td>\n",
       "      <td>NaN</td>\n",
       "      <td>...</td>\n",
       "      <td>NaN</td>\n",
       "      <td>NaN</td>\n",
       "      <td>NaN</td>\n",
       "      <td>NaN</td>\n",
       "      <td>NaN</td>\n",
       "      <td>NaN</td>\n",
       "      <td>NaN</td>\n",
       "      <td>NaN</td>\n",
       "      <td>NaN</td>\n",
       "      <td>NaN</td>\n",
       "    </tr>\n",
       "    <tr>\n",
       "      <th>articulation_direction_feature.accent</th>\n",
       "      <td>NaN</td>\n",
       "      <td>NaN</td>\n",
       "      <td>NaN</td>\n",
       "      <td>NaN</td>\n",
       "      <td>NaN</td>\n",
       "      <td>NaN</td>\n",
       "      <td>NaN</td>\n",
       "      <td>NaN</td>\n",
       "      <td>NaN</td>\n",
       "      <td>NaN</td>\n",
       "      <td>...</td>\n",
       "      <td>NaN</td>\n",
       "      <td>NaN</td>\n",
       "      <td>NaN</td>\n",
       "      <td>NaN</td>\n",
       "      <td>NaN</td>\n",
       "      <td>NaN</td>\n",
       "      <td>NaN</td>\n",
       "      <td>NaN</td>\n",
       "      <td>NaN</td>\n",
       "      <td>NaN</td>\n",
       "    </tr>\n",
       "    <tr>\n",
       "      <th>articulation_direction_feature.marcato</th>\n",
       "      <td>NaN</td>\n",
       "      <td>NaN</td>\n",
       "      <td>NaN</td>\n",
       "      <td>NaN</td>\n",
       "      <td>NaN</td>\n",
       "      <td>NaN</td>\n",
       "      <td>NaN</td>\n",
       "      <td>NaN</td>\n",
       "      <td>NaN</td>\n",
       "      <td>NaN</td>\n",
       "      <td>...</td>\n",
       "      <td>NaN</td>\n",
       "      <td>NaN</td>\n",
       "      <td>NaN</td>\n",
       "      <td>NaN</td>\n",
       "      <td>NaN</td>\n",
       "      <td>NaN</td>\n",
       "      <td>NaN</td>\n",
       "      <td>NaN</td>\n",
       "      <td>NaN</td>\n",
       "      <td>NaN</td>\n",
       "    </tr>\n",
       "    <tr>\n",
       "      <th>articulation_direction_feature.unknown_articulation</th>\n",
       "      <td>-0.039790</td>\n",
       "      <td>NaN</td>\n",
       "      <td>NaN</td>\n",
       "      <td>NaN</td>\n",
       "      <td>1.000000</td>\n",
       "      <td>-0.036105</td>\n",
       "      <td>-0.020237</td>\n",
       "      <td>-0.016556</td>\n",
       "      <td>-0.038251</td>\n",
       "      <td>-0.041006</td>\n",
       "      <td>...</td>\n",
       "      <td>-0.022021</td>\n",
       "      <td>0.094335</td>\n",
       "      <td>-0.046326</td>\n",
       "      <td>-0.023202</td>\n",
       "      <td>0.011797</td>\n",
       "      <td>0.012468</td>\n",
       "      <td>0.012468</td>\n",
       "      <td>0.019739</td>\n",
       "      <td>-0.070366</td>\n",
       "      <td>0.093687</td>\n",
       "    </tr>\n",
       "    <tr>\n",
       "      <th>...</th>\n",
       "      <td>...</td>\n",
       "      <td>...</td>\n",
       "      <td>...</td>\n",
       "      <td>...</td>\n",
       "      <td>...</td>\n",
       "      <td>...</td>\n",
       "      <td>...</td>\n",
       "      <td>...</td>\n",
       "      <td>...</td>\n",
       "      <td>...</td>\n",
       "      <td>...</td>\n",
       "      <td>...</td>\n",
       "      <td>...</td>\n",
       "      <td>...</td>\n",
       "      <td>...</td>\n",
       "      <td>...</td>\n",
       "      <td>...</td>\n",
       "      <td>...</td>\n",
       "      <td>...</td>\n",
       "      <td>...</td>\n",
       "      <td>...</td>\n",
       "    </tr>\n",
       "    <tr>\n",
       "      <th>vertical_neighbor_feature.n_above</th>\n",
       "      <td>0.110842</td>\n",
       "      <td>NaN</td>\n",
       "      <td>NaN</td>\n",
       "      <td>NaN</td>\n",
       "      <td>0.012468</td>\n",
       "      <td>0.116347</td>\n",
       "      <td>0.252082</td>\n",
       "      <td>0.259208</td>\n",
       "      <td>0.193769</td>\n",
       "      <td>0.061628</td>\n",
       "      <td>...</td>\n",
       "      <td>0.050661</td>\n",
       "      <td>0.311166</td>\n",
       "      <td>0.310523</td>\n",
       "      <td>0.246314</td>\n",
       "      <td>0.998417</td>\n",
       "      <td>1.000000</td>\n",
       "      <td>1.000000</td>\n",
       "      <td>0.374331</td>\n",
       "      <td>-0.429645</td>\n",
       "      <td>0.828925</td>\n",
       "    </tr>\n",
       "    <tr>\n",
       "      <th>vertical_neighbor_feature.n_below</th>\n",
       "      <td>0.110842</td>\n",
       "      <td>NaN</td>\n",
       "      <td>NaN</td>\n",
       "      <td>NaN</td>\n",
       "      <td>0.012468</td>\n",
       "      <td>0.116347</td>\n",
       "      <td>0.252082</td>\n",
       "      <td>0.259208</td>\n",
       "      <td>0.193769</td>\n",
       "      <td>0.061628</td>\n",
       "      <td>...</td>\n",
       "      <td>0.050661</td>\n",
       "      <td>0.311166</td>\n",
       "      <td>0.310523</td>\n",
       "      <td>0.246314</td>\n",
       "      <td>0.998417</td>\n",
       "      <td>1.000000</td>\n",
       "      <td>1.000000</td>\n",
       "      <td>0.374331</td>\n",
       "      <td>-0.429645</td>\n",
       "      <td>0.828925</td>\n",
       "    </tr>\n",
       "    <tr>\n",
       "      <th>vertical_neighbor_feature.highest_pitch</th>\n",
       "      <td>0.331753</td>\n",
       "      <td>NaN</td>\n",
       "      <td>NaN</td>\n",
       "      <td>NaN</td>\n",
       "      <td>0.019739</td>\n",
       "      <td>0.157994</td>\n",
       "      <td>0.510268</td>\n",
       "      <td>0.307460</td>\n",
       "      <td>0.047502</td>\n",
       "      <td>0.503843</td>\n",
       "      <td>...</td>\n",
       "      <td>0.033578</td>\n",
       "      <td>0.020219</td>\n",
       "      <td>0.142077</td>\n",
       "      <td>-0.050441</td>\n",
       "      <td>0.374168</td>\n",
       "      <td>0.374331</td>\n",
       "      <td>0.374331</td>\n",
       "      <td>1.000000</td>\n",
       "      <td>0.528984</td>\n",
       "      <td>0.458002</td>\n",
       "    </tr>\n",
       "    <tr>\n",
       "      <th>vertical_neighbor_feature.lowest_pitch</th>\n",
       "      <td>0.240464</td>\n",
       "      <td>NaN</td>\n",
       "      <td>NaN</td>\n",
       "      <td>NaN</td>\n",
       "      <td>-0.070366</td>\n",
       "      <td>-0.040263</td>\n",
       "      <td>0.306366</td>\n",
       "      <td>0.120675</td>\n",
       "      <td>0.022354</td>\n",
       "      <td>0.426636</td>\n",
       "      <td>...</td>\n",
       "      <td>0.024495</td>\n",
       "      <td>-0.228540</td>\n",
       "      <td>-0.161469</td>\n",
       "      <td>-0.224449</td>\n",
       "      <td>-0.421874</td>\n",
       "      <td>-0.429645</td>\n",
       "      <td>-0.429645</td>\n",
       "      <td>0.528984</td>\n",
       "      <td>1.000000</td>\n",
       "      <td>-0.512116</td>\n",
       "    </tr>\n",
       "    <tr>\n",
       "      <th>vertical_neighbor_feature.pitch_range</th>\n",
       "      <td>0.083885</td>\n",
       "      <td>NaN</td>\n",
       "      <td>NaN</td>\n",
       "      <td>NaN</td>\n",
       "      <td>0.093687</td>\n",
       "      <td>0.202085</td>\n",
       "      <td>0.195531</td>\n",
       "      <td>0.184778</td>\n",
       "      <td>0.024661</td>\n",
       "      <td>0.063043</td>\n",
       "      <td>...</td>\n",
       "      <td>0.008327</td>\n",
       "      <td>0.259863</td>\n",
       "      <td>0.312940</td>\n",
       "      <td>0.184060</td>\n",
       "      <td>0.820620</td>\n",
       "      <td>0.828925</td>\n",
       "      <td>0.828925</td>\n",
       "      <td>0.458002</td>\n",
       "      <td>-0.512116</td>\n",
       "      <td>1.000000</td>\n",
       "    </tr>\n",
       "  </tbody>\n",
       "</table>\n",
       "<p>91 rows × 91 columns</p>\n",
       "</div>"
      ],
      "text/plain": [
       "                                                    articulation_direction_feature.staccato  \\\n",
       "articulation_direction_feature.staccato                                            1.000000   \n",
       "articulation_direction_feature.tenuto                                                   NaN   \n",
       "articulation_direction_feature.accent                                                   NaN   \n",
       "articulation_direction_feature.marcato                                                  NaN   \n",
       "articulation_direction_feature.unknown_articula...                                -0.039790   \n",
       "...                                                                                     ...   \n",
       "vertical_neighbor_feature.n_above                                                  0.110842   \n",
       "vertical_neighbor_feature.n_below                                                  0.110842   \n",
       "vertical_neighbor_feature.highest_pitch                                            0.331753   \n",
       "vertical_neighbor_feature.lowest_pitch                                             0.240464   \n",
       "vertical_neighbor_feature.pitch_range                                              0.083885   \n",
       "\n",
       "                                                    articulation_direction_feature.tenuto  \\\n",
       "articulation_direction_feature.staccato                                               NaN   \n",
       "articulation_direction_feature.tenuto                                                 NaN   \n",
       "articulation_direction_feature.accent                                                 NaN   \n",
       "articulation_direction_feature.marcato                                                NaN   \n",
       "articulation_direction_feature.unknown_articula...                                    NaN   \n",
       "...                                                                                   ...   \n",
       "vertical_neighbor_feature.n_above                                                     NaN   \n",
       "vertical_neighbor_feature.n_below                                                     NaN   \n",
       "vertical_neighbor_feature.highest_pitch                                               NaN   \n",
       "vertical_neighbor_feature.lowest_pitch                                                NaN   \n",
       "vertical_neighbor_feature.pitch_range                                                 NaN   \n",
       "\n",
       "                                                    articulation_direction_feature.accent  \\\n",
       "articulation_direction_feature.staccato                                               NaN   \n",
       "articulation_direction_feature.tenuto                                                 NaN   \n",
       "articulation_direction_feature.accent                                                 NaN   \n",
       "articulation_direction_feature.marcato                                                NaN   \n",
       "articulation_direction_feature.unknown_articula...                                    NaN   \n",
       "...                                                                                   ...   \n",
       "vertical_neighbor_feature.n_above                                                     NaN   \n",
       "vertical_neighbor_feature.n_below                                                     NaN   \n",
       "vertical_neighbor_feature.highest_pitch                                               NaN   \n",
       "vertical_neighbor_feature.lowest_pitch                                                NaN   \n",
       "vertical_neighbor_feature.pitch_range                                                 NaN   \n",
       "\n",
       "                                                    articulation_direction_feature.marcato  \\\n",
       "articulation_direction_feature.staccato                                                NaN   \n",
       "articulation_direction_feature.tenuto                                                  NaN   \n",
       "articulation_direction_feature.accent                                                  NaN   \n",
       "articulation_direction_feature.marcato                                                 NaN   \n",
       "articulation_direction_feature.unknown_articula...                                     NaN   \n",
       "...                                                                                    ...   \n",
       "vertical_neighbor_feature.n_above                                                      NaN   \n",
       "vertical_neighbor_feature.n_below                                                      NaN   \n",
       "vertical_neighbor_feature.highest_pitch                                                NaN   \n",
       "vertical_neighbor_feature.lowest_pitch                                                 NaN   \n",
       "vertical_neighbor_feature.pitch_range                                                  NaN   \n",
       "\n",
       "                                                    articulation_direction_feature.unknown_articulation  \\\n",
       "articulation_direction_feature.staccato                                                     -0.039790     \n",
       "articulation_direction_feature.tenuto                                                             NaN     \n",
       "articulation_direction_feature.accent                                                             NaN     \n",
       "articulation_direction_feature.marcato                                                            NaN     \n",
       "articulation_direction_feature.unknown_articula...                                           1.000000     \n",
       "...                                                                                               ...     \n",
       "vertical_neighbor_feature.n_above                                                            0.012468     \n",
       "vertical_neighbor_feature.n_below                                                            0.012468     \n",
       "vertical_neighbor_feature.highest_pitch                                                      0.019739     \n",
       "vertical_neighbor_feature.lowest_pitch                                                      -0.070366     \n",
       "vertical_neighbor_feature.pitch_range                                                        0.093687     \n",
       "\n",
       "                                                    articulation_feature.accent  \\\n",
       "articulation_direction_feature.staccato                                0.026185   \n",
       "articulation_direction_feature.tenuto                                       NaN   \n",
       "articulation_direction_feature.accent                                       NaN   \n",
       "articulation_direction_feature.marcato                                      NaN   \n",
       "articulation_direction_feature.unknown_articula...                    -0.036105   \n",
       "...                                                                         ...   \n",
       "vertical_neighbor_feature.n_above                                      0.116347   \n",
       "vertical_neighbor_feature.n_below                                      0.116347   \n",
       "vertical_neighbor_feature.highest_pitch                                0.157994   \n",
       "vertical_neighbor_feature.lowest_pitch                                -0.040263   \n",
       "vertical_neighbor_feature.pitch_range                                  0.202085   \n",
       "\n",
       "                                                    articulation_feature.strong-accent  \\\n",
       "articulation_direction_feature.staccato                                       0.488048   \n",
       "articulation_direction_feature.tenuto                                              NaN   \n",
       "articulation_direction_feature.accent                                              NaN   \n",
       "articulation_direction_feature.marcato                                             NaN   \n",
       "articulation_direction_feature.unknown_articula...                           -0.020237   \n",
       "...                                                                                ...   \n",
       "vertical_neighbor_feature.n_above                                             0.252082   \n",
       "vertical_neighbor_feature.n_below                                             0.252082   \n",
       "vertical_neighbor_feature.highest_pitch                                       0.510268   \n",
       "vertical_neighbor_feature.lowest_pitch                                        0.306366   \n",
       "vertical_neighbor_feature.pitch_range                                         0.195531   \n",
       "\n",
       "                                                    articulation_feature.staccato  \\\n",
       "articulation_direction_feature.staccato                                  0.384375   \n",
       "articulation_direction_feature.tenuto                                         NaN   \n",
       "articulation_direction_feature.accent                                         NaN   \n",
       "articulation_direction_feature.marcato                                        NaN   \n",
       "articulation_direction_feature.unknown_articula...                      -0.016556   \n",
       "...                                                                           ...   \n",
       "vertical_neighbor_feature.n_above                                        0.259208   \n",
       "vertical_neighbor_feature.n_below                                        0.259208   \n",
       "vertical_neighbor_feature.highest_pitch                                  0.307460   \n",
       "vertical_neighbor_feature.lowest_pitch                                   0.120675   \n",
       "vertical_neighbor_feature.pitch_range                                    0.184778   \n",
       "\n",
       "                                                    articulation_feature.tenuto  \\\n",
       "articulation_direction_feature.staccato                                0.091768   \n",
       "articulation_direction_feature.tenuto                                       NaN   \n",
       "articulation_direction_feature.accent                                       NaN   \n",
       "articulation_direction_feature.marcato                                      NaN   \n",
       "articulation_direction_feature.unknown_articula...                    -0.038251   \n",
       "...                                                                         ...   \n",
       "vertical_neighbor_feature.n_above                                      0.193769   \n",
       "vertical_neighbor_feature.n_below                                      0.193769   \n",
       "vertical_neighbor_feature.highest_pitch                                0.047502   \n",
       "vertical_neighbor_feature.lowest_pitch                                 0.022354   \n",
       "vertical_neighbor_feature.pitch_range                                  0.024661   \n",
       "\n",
       "                                                    articulation_feature.detached-legato  \\\n",
       "articulation_direction_feature.staccato                                         0.514936   \n",
       "articulation_direction_feature.tenuto                                                NaN   \n",
       "articulation_direction_feature.accent                                                NaN   \n",
       "articulation_direction_feature.marcato                                               NaN   \n",
       "articulation_direction_feature.unknown_articula...                             -0.041006   \n",
       "...                                                                                  ...   \n",
       "vertical_neighbor_feature.n_above                                               0.061628   \n",
       "vertical_neighbor_feature.n_below                                               0.061628   \n",
       "vertical_neighbor_feature.highest_pitch                                         0.503843   \n",
       "vertical_neighbor_feature.lowest_pitch                                          0.426636   \n",
       "vertical_neighbor_feature.pitch_range                                           0.063043   \n",
       "\n",
       "                                                    ...  \\\n",
       "articulation_direction_feature.staccato             ...   \n",
       "articulation_direction_feature.tenuto               ...   \n",
       "articulation_direction_feature.accent               ...   \n",
       "articulation_direction_feature.marcato              ...   \n",
       "articulation_direction_feature.unknown_articula...  ...   \n",
       "...                                                 ...   \n",
       "vertical_neighbor_feature.n_above                   ...   \n",
       "vertical_neighbor_feature.n_below                   ...   \n",
       "vertical_neighbor_feature.highest_pitch             ...   \n",
       "vertical_neighbor_feature.lowest_pitch              ...   \n",
       "vertical_neighbor_feature.pitch_range               ...   \n",
       "\n",
       "                                                    tempo_direction_feature.prestissimo  \\\n",
       "articulation_direction_feature.staccato                                        0.074663   \n",
       "articulation_direction_feature.tenuto                                               NaN   \n",
       "articulation_direction_feature.accent                                               NaN   \n",
       "articulation_direction_feature.marcato                                              NaN   \n",
       "articulation_direction_feature.unknown_articula...                            -0.022021   \n",
       "...                                                                                 ...   \n",
       "vertical_neighbor_feature.n_above                                              0.050661   \n",
       "vertical_neighbor_feature.n_below                                              0.050661   \n",
       "vertical_neighbor_feature.highest_pitch                                        0.033578   \n",
       "vertical_neighbor_feature.lowest_pitch                                         0.024495   \n",
       "vertical_neighbor_feature.pitch_range                                          0.008327   \n",
       "\n",
       "                                                    tempo_direction_feature.unknown_constant  \\\n",
       "articulation_direction_feature.staccato                                             0.024795   \n",
       "articulation_direction_feature.tenuto                                                    NaN   \n",
       "articulation_direction_feature.accent                                                    NaN   \n",
       "articulation_direction_feature.marcato                                                   NaN   \n",
       "articulation_direction_feature.unknown_articula...                                  0.094335   \n",
       "...                                                                                      ...   \n",
       "vertical_neighbor_feature.n_above                                                   0.311166   \n",
       "vertical_neighbor_feature.n_below                                                   0.311166   \n",
       "vertical_neighbor_feature.highest_pitch                                             0.020219   \n",
       "vertical_neighbor_feature.lowest_pitch                                             -0.228540   \n",
       "vertical_neighbor_feature.pitch_range                                               0.259863   \n",
       "\n",
       "                                                    tempo_direction_feature.tempo_incr  \\\n",
       "articulation_direction_feature.staccato                                      -0.041760   \n",
       "articulation_direction_feature.tenuto                                              NaN   \n",
       "articulation_direction_feature.accent                                              NaN   \n",
       "articulation_direction_feature.marcato                                             NaN   \n",
       "articulation_direction_feature.unknown_articula...                           -0.046326   \n",
       "...                                                                                ...   \n",
       "vertical_neighbor_feature.n_above                                             0.310523   \n",
       "vertical_neighbor_feature.n_below                                             0.310523   \n",
       "vertical_neighbor_feature.highest_pitch                                       0.142077   \n",
       "vertical_neighbor_feature.lowest_pitch                                       -0.161469   \n",
       "vertical_neighbor_feature.pitch_range                                         0.312940   \n",
       "\n",
       "                                                    tempo_direction_feature.tempo_decr  \\\n",
       "articulation_direction_feature.staccato                                      -0.008861   \n",
       "articulation_direction_feature.tenuto                                              NaN   \n",
       "articulation_direction_feature.accent                                              NaN   \n",
       "articulation_direction_feature.marcato                                             NaN   \n",
       "articulation_direction_feature.unknown_articula...                           -0.023202   \n",
       "...                                                                                ...   \n",
       "vertical_neighbor_feature.n_above                                             0.246314   \n",
       "vertical_neighbor_feature.n_below                                             0.246314   \n",
       "vertical_neighbor_feature.highest_pitch                                      -0.050441   \n",
       "vertical_neighbor_feature.lowest_pitch                                       -0.224449   \n",
       "vertical_neighbor_feature.pitch_range                                         0.184060   \n",
       "\n",
       "                                                    vertical_neighbor_feature.n_total  \\\n",
       "articulation_direction_feature.staccato                                      0.123763   \n",
       "articulation_direction_feature.tenuto                                             NaN   \n",
       "articulation_direction_feature.accent                                             NaN   \n",
       "articulation_direction_feature.marcato                                            NaN   \n",
       "articulation_direction_feature.unknown_articula...                           0.011797   \n",
       "...                                                                               ...   \n",
       "vertical_neighbor_feature.n_above                                            0.998417   \n",
       "vertical_neighbor_feature.n_below                                            0.998417   \n",
       "vertical_neighbor_feature.highest_pitch                                      0.374168   \n",
       "vertical_neighbor_feature.lowest_pitch                                      -0.421874   \n",
       "vertical_neighbor_feature.pitch_range                                        0.820620   \n",
       "\n",
       "                                                    vertical_neighbor_feature.n_above  \\\n",
       "articulation_direction_feature.staccato                                      0.110842   \n",
       "articulation_direction_feature.tenuto                                             NaN   \n",
       "articulation_direction_feature.accent                                             NaN   \n",
       "articulation_direction_feature.marcato                                            NaN   \n",
       "articulation_direction_feature.unknown_articula...                           0.012468   \n",
       "...                                                                               ...   \n",
       "vertical_neighbor_feature.n_above                                            1.000000   \n",
       "vertical_neighbor_feature.n_below                                            1.000000   \n",
       "vertical_neighbor_feature.highest_pitch                                      0.374331   \n",
       "vertical_neighbor_feature.lowest_pitch                                      -0.429645   \n",
       "vertical_neighbor_feature.pitch_range                                        0.828925   \n",
       "\n",
       "                                                    vertical_neighbor_feature.n_below  \\\n",
       "articulation_direction_feature.staccato                                      0.110842   \n",
       "articulation_direction_feature.tenuto                                             NaN   \n",
       "articulation_direction_feature.accent                                             NaN   \n",
       "articulation_direction_feature.marcato                                            NaN   \n",
       "articulation_direction_feature.unknown_articula...                           0.012468   \n",
       "...                                                                               ...   \n",
       "vertical_neighbor_feature.n_above                                            1.000000   \n",
       "vertical_neighbor_feature.n_below                                            1.000000   \n",
       "vertical_neighbor_feature.highest_pitch                                      0.374331   \n",
       "vertical_neighbor_feature.lowest_pitch                                      -0.429645   \n",
       "vertical_neighbor_feature.pitch_range                                        0.828925   \n",
       "\n",
       "                                                    vertical_neighbor_feature.highest_pitch  \\\n",
       "articulation_direction_feature.staccato                                            0.331753   \n",
       "articulation_direction_feature.tenuto                                                   NaN   \n",
       "articulation_direction_feature.accent                                                   NaN   \n",
       "articulation_direction_feature.marcato                                                  NaN   \n",
       "articulation_direction_feature.unknown_articula...                                 0.019739   \n",
       "...                                                                                     ...   \n",
       "vertical_neighbor_feature.n_above                                                  0.374331   \n",
       "vertical_neighbor_feature.n_below                                                  0.374331   \n",
       "vertical_neighbor_feature.highest_pitch                                            1.000000   \n",
       "vertical_neighbor_feature.lowest_pitch                                             0.528984   \n",
       "vertical_neighbor_feature.pitch_range                                              0.458002   \n",
       "\n",
       "                                                    vertical_neighbor_feature.lowest_pitch  \\\n",
       "articulation_direction_feature.staccato                                           0.240464   \n",
       "articulation_direction_feature.tenuto                                                  NaN   \n",
       "articulation_direction_feature.accent                                                  NaN   \n",
       "articulation_direction_feature.marcato                                                 NaN   \n",
       "articulation_direction_feature.unknown_articula...                               -0.070366   \n",
       "...                                                                                    ...   \n",
       "vertical_neighbor_feature.n_above                                                -0.429645   \n",
       "vertical_neighbor_feature.n_below                                                -0.429645   \n",
       "vertical_neighbor_feature.highest_pitch                                           0.528984   \n",
       "vertical_neighbor_feature.lowest_pitch                                            1.000000   \n",
       "vertical_neighbor_feature.pitch_range                                            -0.512116   \n",
       "\n",
       "                                                    vertical_neighbor_feature.pitch_range  \n",
       "articulation_direction_feature.staccato                                          0.083885  \n",
       "articulation_direction_feature.tenuto                                                 NaN  \n",
       "articulation_direction_feature.accent                                                 NaN  \n",
       "articulation_direction_feature.marcato                                                NaN  \n",
       "articulation_direction_feature.unknown_articula...                               0.093687  \n",
       "...                                                                                   ...  \n",
       "vertical_neighbor_feature.n_above                                                0.828925  \n",
       "vertical_neighbor_feature.n_below                                                0.828925  \n",
       "vertical_neighbor_feature.highest_pitch                                          0.458002  \n",
       "vertical_neighbor_feature.lowest_pitch                                          -0.512116  \n",
       "vertical_neighbor_feature.pitch_range                                            1.000000  \n",
       "\n",
       "[91 rows x 91 columns]"
      ]
     },
     "execution_count": 19,
     "metadata": {},
     "output_type": "execute_result"
    }
   ],
   "source": [
    "df = pd.DataFrame(np.vstack(basis_list), columns=bf_names)\n",
    "df.corr()"
   ]
  },
  {
   "cell_type": "code",
   "execution_count": 103,
   "id": "6ad1c86d",
   "metadata": {},
   "outputs": [
    {
     "name": "stdout",
     "output_type": "stream",
     "text": [
      "articulation_direction_feature.tenuto is all zeroes\n",
      "articulation_direction_feature.accent is all zeroes\n",
      "articulation_direction_feature.marcato is all zeroes\n",
      "articulation_direction_feature.unknown_articulation is all zeroes\n",
      "articulation_feature.spiccato is all zeroes\n",
      "articulation_feature.scoop is all zeroes\n",
      "articulation_feature.plop is all zeroes\n",
      "articulation_feature.doit is all zeroes\n",
      "articulation_feature.falloff is all zeroes\n",
      "articulation_feature.breath-mark is all zeroes\n",
      "articulation_feature.stress is all zeroes\n",
      "articulation_feature.unstress is all zeroes\n",
      "articulation_feature.soft-accent is all zeroes\n",
      "grace_feature.grace_pos has the highest correlation with ['grace_feature.n_grace'], [0.9828821899746245]\n",
      "\n",
      "metrical_strength_feature.metrical_strength_downbeat has the highest correlation with ['metrical_strength_feature.beat_phase'], [-0.9257578456952602]\n",
      "\n",
      "metrical_strength_feature.metrical_strength_weak has the highest correlation with ['metrical_strength_feature.beat_phase', 'metrical_strength_feature.metrical_strength_downbeat'], [-0.9257578456952602, 1.0]\n",
      "\n",
      "ornament_feature.delayed-turn is all zeroes\n",
      "ornament_feature.inverted-turn is all zeroes\n",
      "ornament_feature.delayed-inverted-turn is all zeroes\n",
      "ornament_feature.vertical-turn is all zeroes\n",
      "ornament_feature.inverted-vertical-turn is all zeroes\n",
      "ornament_feature.shake is all zeroes\n",
      "ornament_feature.schleifer is all zeroes\n",
      "ornament_feature.haydn is all zeroes\n",
      "ornament_feature.other-ornament is all zeroes\n",
      "relative_score_position_feature.score_position has the highest correlation with ['onset_feature.score_position'], [1.0]\n",
      "\n",
      "slur_feature.slur_incr is all zeroes\n",
      "slur_feature.slur_decr is all zeroes\n",
      "tempo_direction_feature.larghetto is all zeroes\n",
      "tempo_direction_feature.adagietto is all zeroes\n",
      "tempo_direction_feature.allegretto is all zeroes\n",
      "vertical_neighbor_feature.n_above has the highest correlation with ['vertical_neighbor_feature.n_total'], [0.9984166734328016]\n",
      "\n",
      "vertical_neighbor_feature.n_below has the highest correlation with ['vertical_neighbor_feature.n_total', 'vertical_neighbor_feature.n_above'], [0.9984166734328016, 1.0]\n",
      "\n"
     ]
    }
   ],
   "source": [
    "corr_matrix = df.corr().fillna(0)\n",
    "drop_cols = []\n",
    "\n",
    "for j, col in enumerate(corr_matrix.columns):\n",
    "    \n",
    "    if col not in drop_cols:\n",
    "    \n",
    "        feature_index = corr_matrix.columns.get_loc(col)\n",
    "        other_feature_corrs = corr_matrix[col][:feature_index:]\n",
    "        high_feature_corrs = other_feature_corrs[other_feature_corrs.abs() > 0.9]\n",
    "\n",
    "        drop_cols += list(high_feature_corrs.index)\n",
    "        \n",
    "        # checking if any correlation can be computed; if not -> feature is all zeros and can be removed\n",
    "        if np.max(other_feature_corrs) == 0:\n",
    "            drop_cols.append(col)\n",
    "            print(f\"{col} is all zeroes\")\n",
    "            \n",
    "        elif len(list(high_feature_corrs)) > 0:\n",
    "            print(f\"{col} has the highest correlation with {list(high_feature_corrs.index)}, {list(high_feature_corrs)}\\n\")"
   ]
  },
  {
   "cell_type": "code",
   "execution_count": 104,
   "id": "2aaa1aff",
   "metadata": {},
   "outputs": [],
   "source": [
    "new_df = df.drop(columns=drop_cols)\n",
    "len(new_df.columns)\n",
    "\n",
    "new_features = list(new_df.columns)"
   ]
  },
  {
   "cell_type": "code",
   "execution_count": 105,
   "id": "8631ff52",
   "metadata": {},
   "outputs": [
    {
     "data": {
      "text/plain": [
       "58"
      ]
     },
     "execution_count": 105,
     "metadata": {},
     "output_type": "execute_result"
    }
   ],
   "source": [
    "len(new_features)"
   ]
  },
  {
   "cell_type": "code",
   "execution_count": 2,
   "id": "573b9e72",
   "metadata": {},
   "outputs": [
    {
     "ename": "NameError",
     "evalue": "name 'drop_cols' is not defined",
     "output_type": "error",
     "traceback": [
      "\u001b[1;31m---------------------------------------------------------------------------\u001b[0m",
      "\u001b[1;31mNameError\u001b[0m                                 Traceback (most recent call last)",
      "Cell \u001b[1;32mIn[2], line 1\u001b[0m\n\u001b[1;32m----> 1\u001b[0m \u001b[43mdrop_cols\u001b[49m\n",
      "\u001b[1;31mNameError\u001b[0m: name 'drop_cols' is not defined"
     ]
    }
   ],
   "source": [
    "drop_cols"
   ]
  },
  {
   "cell_type": "code",
   "execution_count": 107,
   "id": "4894d0e2",
   "metadata": {},
   "outputs": [
    {
     "data": {
      "text/plain": [
       "<Axes: >"
      ]
     },
     "execution_count": 107,
     "metadata": {},
     "output_type": "execute_result"
    },
    {
     "data": {
      "image/png": "[encoded data removed]",
      "text/plain": [
       "<Figure size 640x480 with 2 Axes>"
      ]
     },
     "metadata": {},
     "output_type": "display_data"
    }
   ],
   "source": [
    "import seaborn as sns\n",
    "\n",
    "sns.heatmap(df.corr())"
   ]
  },
  {
   "cell_type": "code",
   "execution_count": 108,
   "id": "37586980",
   "metadata": {},
   "outputs": [
    {
     "data": {
      "text/plain": [
       "<Axes: >"
      ]
     },
     "execution_count": 108,
     "metadata": {},
     "output_type": "execute_result"
    },
    {
     "data": {
      "image/png": "[encoded data removed]",
      "text/plain": [
       "<Figure size 640x480 with 2 Axes>"
      ]
     },
     "metadata": {},
     "output_type": "display_data"
    }
   ],
   "source": [
    "sns.heatmap(new_df.corr())"
   ]
  },
  {
   "cell_type": "code",
   "execution_count": 109,
   "id": "3845ca2c",
   "metadata": {},
   "outputs": [],
   "source": [
    "with open(\"better_features.txt\", \"w\") as f:\n",
    "    for feat in new_features:\n",
    "        f.write(feat + \"\\n\")"
   ]
  },
  {
   "cell_type": "code",
   "execution_count": 2,
   "id": "2ada9b03",
   "metadata": {},
   "outputs": [
    {
     "data": {
      "text/plain": [
       "['articulation_direction_feature.tenuto',\n",
       " 'articulation_direction_feature.accent',\n",
       " 'articulation_direction_feature.marcato',\n",
       " 'articulation_feature.spiccato',\n",
       " 'articulation_feature.scoop',\n",
       " 'articulation_feature.plop',\n",
       " 'articulation_feature.doit',\n",
       " 'articulation_feature.falloff',\n",
       " 'articulation_feature.breath-mark',\n",
       " 'articulation_feature.stress',\n",
       " 'articulation_feature.unstress',\n",
       " 'articulation_feature.soft-accent',\n",
       " 'grace_feature.grace_pos',\n",
       " 'metrical_strength_feature.metrical_strength_downbeat',\n",
       " 'metrical_strength_feature.metrical_strength_weak',\n",
       " 'ornament_feature.delayed-turn',\n",
       " 'ornament_feature.inverted-turn',\n",
       " 'ornament_feature.delayed-inverted-turn',\n",
       " 'ornament_feature.vertical-turn',\n",
       " 'ornament_feature.inverted-vertical-turn',\n",
       " 'ornament_feature.shake',\n",
       " 'ornament_feature.schleifer',\n",
       " 'ornament_feature.haydn',\n",
       " 'ornament_feature.other-ornament',\n",
       " 'relative_score_position_feature.score_position',\n",
       " 'slur_feature.slur_incr',\n",
       " 'slur_feature.slur_decr',\n",
       " 'tempo_direction_feature.larghetto',\n",
       " 'tempo_direction_feature.adagietto',\n",
       " 'tempo_direction_feature.allegretto',\n",
       " 'vertical_neighbor_feature.n_above',\n",
       " 'vertical_neighbor_feature.n_below',\n",
       " 'vertical_neighbor_feature.highest_pitch',\n",
       " 'vertical_neighbor_feature.lowest_pitch']"
      ]
     },
     "execution_count": 2,
     "metadata": {},
     "output_type": "execute_result"
    }
   ],
   "source": [
    "drop_cols = None\n",
    "\n",
    "with open(\"drop_feats.txt\") as f:\n",
    "    drop_cols = f.read().splitlines()\n",
    "\n",
    "drop_cols"
   ]
  },
  {
   "cell_type": "code",
   "execution_count": 5,
   "id": "c9a82c82",
   "metadata": {},
   "outputs": [
    {
     "data": {
      "text/plain": [
       "(['articulation_direction_feature.staccato',\n",
       "  'articulation_feature.accent',\n",
       "  'articulation_feature.strong-accent',\n",
       "  'articulation_feature.staccato',\n",
       "  'articulation_feature.tenuto',\n",
       "  'articulation_feature.detached-legato',\n",
       "  'articulation_feature.staccatissimo',\n",
       "  'articulation_feature.caesura',\n",
       "  'duration_feature.duration',\n",
       "  'fermata_feature.fermata',\n",
       "  'grace_feature.grace_note',\n",
       "  'grace_feature.grace_pos',\n",
       "  'loudness_direction_feature.ppp',\n",
       "  'loudness_direction_feature.pp',\n",
       "  'loudness_direction_feature.p',\n",
       "  'loudness_direction_feature.mp',\n",
       "  'loudness_direction_feature.mf',\n",
       "  'loudness_direction_feature.f',\n",
       "  'loudness_direction_feature.ff',\n",
       "  'loudness_direction_feature.fff',\n",
       "  'loudness_direction_feature.unknown_constant',\n",
       "  'loudness_direction_feature.fp',\n",
       "  'loudness_direction_feature.sf',\n",
       "  'loudness_direction_feature.sfp',\n",
       "  'loudness_direction_feature.sfz',\n",
       "  'loudness_direction_feature.unknown_impulsive',\n",
       "  'loudness_direction_feature.loudness_incr',\n",
       "  'loudness_direction_feature.loudness_decr',\n",
       "  'metrical_strength_feature.metrical_strength_secondary',\n",
       "  'metrical_strength_feature.metrical_strength_weak',\n",
       "  'onset_feature.onset',\n",
       "  'ornament_feature.trill-mark',\n",
       "  'ornament_feature.turn',\n",
       "  'ornament_feature.wavy-line',\n",
       "  'ornament_feature.mordent',\n",
       "  'ornament_feature.inverted-mordent',\n",
       "  'ornament_feature.tremolo',\n",
       "  'polynomial_pitch_feature.pitch',\n",
       "  'relative_score_position_feature.score_position',\n",
       "  'staff_feature.staff',\n",
       "  'tempo_direction_feature.adagio',\n",
       "  'tempo_direction_feature.largo',\n",
       "  'tempo_direction_feature.lento',\n",
       "  'tempo_direction_feature.grave',\n",
       "  'tempo_direction_feature.andante',\n",
       "  'tempo_direction_feature.andantino',\n",
       "  'tempo_direction_feature.moderato',\n",
       "  'tempo_direction_feature.allegro',\n",
       "  'tempo_direction_feature.vivace',\n",
       "  'tempo_direction_feature.presto',\n",
       "  'tempo_direction_feature.prestissimo',\n",
       "  'tempo_direction_feature.unknown_constant',\n",
       "  'tempo_direction_feature.tempo_incr',\n",
       "  'tempo_direction_feature.tempo_decr',\n",
       "  'vertical_neighbor_feature.n_below',\n",
       "  'vertical_neighbor_feature.highest_pitch',\n",
       "  'vertical_neighbor_feature.lowest_pitch',\n",
       "  'vertical_neighbor_feature.pitch_range'],\n",
       " 58)"
      ]
     },
     "execution_count": 5,
     "metadata": {},
     "output_type": "execute_result"
    }
   ],
   "source": [
    "with open(\"better_features.txt\", \"r\") as f:\n",
    "    new_features = f.read().splitlines()\n",
    "    \n",
    "new_features, len(new_features)"
   ]
  },
  {
   "cell_type": "markdown",
   "id": "a40a7dbc",
   "metadata": {},
   "source": [
    "## Building a dataset <a class=\"anchor\" id=\"datasets\"></a>"
   ]
  },
  {
   "cell_type": "code",
   "execution_count": 11,
   "id": "7407880a",
   "metadata": {},
   "outputs": [],
   "source": [
    "import torch\n",
    "from torch.utils.data import Dataset, DataLoader\n",
    "\n",
    "class MyDataset(Dataset):\n",
    "    \n",
    "    def __init__(self,\n",
    "                 xml_paths,\n",
    "                 seq_len, param_names=[\"beat_period_ratio\",\n",
    "                                       \"timing\",\n",
    "                                       \"articulation_log\",\n",
    "                                       \"beat_period_mean\",\n",
    "                                       \"velocity_trend\",\n",
    "                                       \"velocity_dev\"],\n",
    "                 fixed_features=True,\n",
    "                 feat_names=\"all\",\n",
    "                 drop_feats=[]\n",
    "                ):   \n",
    "        \n",
    "        self.xml_paths = xml_paths\n",
    "        self.data = []\n",
    "        self.target_data = None\n",
    "        self.param_names = param_names\n",
    "        self.parameter_dict = {name: [] for name in param_names}\n",
    "        self.expressive_params = param_names\n",
    "        \n",
    "        self.feature_size = 0\n",
    "        self.seq_len = seq_len\n",
    "        \n",
    "        pc = get_performance_codec(param_names)\n",
    "        \n",
    "        print(\"Processing score data...\")\n",
    "        for xml in tqdm(xml_paths):\n",
    "\n",
    "            score = pt.load_score(xml)\n",
    "            score = pt.score.merge_parts(score)\n",
    "            pt.score.expand_grace_notes(score)\n",
    "            \n",
    "            for match_file in glob.glob(os.path.join(os.path.dirname(xml), \"*.match\")):\n",
    "                \n",
    "                try:\n",
    "                    performance, alignment = pt.load_match(match_file)\n",
    "                    part = pt.score.unfold_part_alignment(part=score, alignment=alignment)\n",
    "\n",
    "                    nid_dict = dict((n.id, i) for i, n in enumerate(part.notes_tied))\n",
    "                    basis, bf_names = pt.musicanalysis.make_note_feats(part, \"all\", force_fixed_size=True)\n",
    "\n",
    "                    targets, snote_ids, unique_onset_idxs = pc.encode(\n",
    "                        part=part,\n",
    "                        ppart=performance[0],\n",
    "                        alignment=alignment,\n",
    "                        return_u_onset_idx=True\n",
    "                    )\n",
    "\n",
    "                    matched_subset_idxs = np.array([nid_dict[nid] for nid in snote_ids])\n",
    "                    basis_matched = basis[matched_subset_idxs]\n",
    "\n",
    "                    basis_matched = pd.DataFrame(basis_matched, columns=bf_names)\n",
    "                    basis_matched = basis_matched.drop(columns=drop_feats).to_numpy()\n",
    "\n",
    "                    # clipping outliers\n",
    "                    if \"beat_period_ratio\" in param_names:\n",
    "                        np.clip(targets[\"beat_period_ratio\"], a_min=0, a_max=6, out=targets[\"beat_period_ratio\"])\n",
    "                    if \"timing\" in param_names:\n",
    "                        np.clip(targets[\"timing\"], a_min=-1, a_max=1, out=targets[\"timing\"])\n",
    "                    if \"beat_period\" in param_names:\n",
    "                        np.clip(targets[\"beat_period\"], a_min=0, a_max=3, out=targets[\"beat_period\"])\n",
    "\n",
    "                except Exception as e:\n",
    "                    print(match_file)\n",
    "                    print(e)\n",
    "                    continue\n",
    "\n",
    "                padding_len = len(targets) % seq_len\n",
    "\n",
    "                for name in param_names:\n",
    "                    new_targets = targets[name]\n",
    "                    t_padding_array = np.zeros(shape=seq_len - padding_len)\n",
    "                    new_targets = np.concatenate((new_targets, t_padding_array))\n",
    "                    new_targets = np.split(new_targets, len(new_targets) / seq_len)\n",
    "\n",
    "                    self.parameter_dict[name] += [target for target in new_targets]\n",
    "\n",
    "                bm_padding_array = np.zeros(shape=(seq_len - padding_len, basis_matched.shape[1]))\n",
    "                new_basis = np.vstack((basis_matched, bm_padding_array))\n",
    "                new_basis = np.split(new_basis, len(new_basis) / seq_len)\n",
    "\n",
    "                self.data += [basis for basis in new_basis]\n",
    "        \n",
    "        # applying feature padding if needed\n",
    "        max_features = max([basis.shape[1] for basis in self.data])\n",
    "        self.feature_size = max_features\n",
    "        \n",
    "        for i, basis in enumerate(self.data):\n",
    "            if basis.shape[1] < max_features:\n",
    "                \n",
    "                difference = max_features - basis.shape[1]\n",
    "                \n",
    "                self.data[i] = np.hstack((basis, np.zeros(shape=(seq_len, difference))))\n",
    "            \n",
    "    def choose_parameter(self, parameter_name):\n",
    "        self.target_data = self.parameter_dict[parameter_name]\n",
    "        \n",
    "    def __getitem__(self, idx):\n",
    "        \n",
    "        x = self.data[idx]\n",
    "        y = self.target_data[idx]\n",
    "        \n",
    "        if y is None:\n",
    "            raise ValueError(\"Use self.choose_parameter() to choose target parameter first\")\n",
    "        \n",
    "        return x, y\n",
    "    \n",
    "    def __len__(self):\n",
    "        return len(self.data)"
   ]
  },
  {
   "cell_type": "code",
   "execution_count": 8,
   "id": "7fc6e717",
   "metadata": {},
   "outputs": [
    {
     "name": "stdout",
     "output_type": "stream",
     "text": [
      "asap-dataset\\Schubert\\Impromptu_op142\\3\\xml_score.musicxml\n",
      "23 23 188\n",
      "Processing score data...\n"
     ]
    },
    {
     "name": "stderr",
     "output_type": "stream",
     "text": [
      "100%|██████████████████████████████████████████████████████████████████████████████████| 23/23 [04:30<00:00, 11.75s/it]\n"
     ]
    },
    {
     "name": "stdout",
     "output_type": "stream",
     "text": [
      "Processing score data...\n"
     ]
    },
    {
     "name": "stderr",
     "output_type": "stream",
     "text": [
      "100%|██████████████████████████████████████████████████████████████████████████████████| 23/23 [02:09<00:00,  5.62s/it]\n"
     ]
    },
    {
     "name": "stdout",
     "output_type": "stream",
     "text": [
      "Processing score data...\n"
     ]
    },
    {
     "name": "stderr",
     "output_type": "stream",
     "text": [
      " 31%|█████████████████████████▍                                                       | 59/188 [09:47<56:01, 26.06s/it]"
     ]
    },
    {
     "name": "stdout",
     "output_type": "stream",
     "text": [
      "snote(n55-1,[B,b],3,6:1,1/10,-1/28,8.388671875,8.25,[])-note(n48,[B,b],3,4513,4540,4540,64). -1/28 cannot be interpreted as FractionalSymbolicDuration Version(major=0, minor=5, patch=0)\n",
      "snote(n55-1,[B,b],3,6:1,1/10,-1/28,8.388671875,8.25,[])-note(n48,[B,b],3,4513,4540,4540,64). -1/28 cannot be interpreted as FractionalSymbolicDuration Version(major=0, minor=5, patch=0)\n",
      "snote(n55-1,[B,b],3,6:1,1/10,-1/28,8.388671875,8.25,[])-note(n48,[B,b],3,4513,4540,4540,64). -1/28 cannot be interpreted as FractionalSymbolicDuration Version(major=0, minor=5, patch=0)\n",
      "snote(n55-1,[B,b],3,6:1,1/10,-1/28,8.388671875,8.25,[])-note(n48,[B,b],3,4513,4540,4540,64). -1/28 cannot be interpreted as FractionalSymbolicDuration Version(major=0, minor=5, patch=0)\n",
      "snote(n178-1,[B,b],4,16:1,1/10,-1/28,28.388671875,28.25,[])-note(n166,[B,b],4,13799,13860,14020,70). -1/28 cannot be interpreted as FractionalSymbolicDuration Version(major=0, minor=5, patch=0)\n",
      "snote(n178-1,[B,b],4,16:1,1/10,-1/28,28.388671875,28.25,[])-note(n166,[B,b],4,13799,13860,14020,70). -1/28 cannot be interpreted as FractionalSymbolicDuration Version(major=0, minor=5, patch=0)\n",
      "snote(n178-1,[B,b],4,16:1,1/10,-1/28,28.388671875,28.25,[])-note(n166,[B,b],4,13799,13860,14020,70). -1/28 cannot be interpreted as FractionalSymbolicDuration Version(major=0, minor=5, patch=0)\n",
      "snote(n178-1,[B,b],4,16:1,1/10,-1/28,28.388671875,28.25,[])-note(n166,[B,b],4,13799,13860,14020,70). -1/28 cannot be interpreted as FractionalSymbolicDuration Version(major=0, minor=5, patch=0)\n",
      "snote(n1150-1,[B,b],3,100:1,1/10,-1/28,282.388671875,282.25,[])-note(n998,[B,b],3,144052,144092,144092,63). -1/28 cannot be interpreted as FractionalSymbolicDuration Version(major=0, minor=5, patch=0)\n",
      "snote(n1150-1,[B,b],3,100:1,1/10,-1/28,282.388671875,282.25,[])-note(n998,[B,b],3,144052,144092,144092,63). -1/28 cannot be interpreted as FractionalSymbolicDuration Version(major=0, minor=5, patch=0)\n",
      "snote(n1150-1,[B,b],3,100:1,1/10,-1/28,282.388671875,282.25,[])-note(n998,[B,b],3,144052,144092,144092,63). -1/28 cannot be interpreted as FractionalSymbolicDuration Version(major=0, minor=5, patch=0)\n",
      "snote(n1150-1,[B,b],3,100:1,1/10,-1/28,282.388671875,282.25,[])-note(n998,[B,b],3,144052,144092,144092,63). -1/28 cannot be interpreted as FractionalSymbolicDuration Version(major=0, minor=5, patch=0)\n",
      "snote(n1273-1,[B,b],4,110:1,1/10,-1/28,302.388671875,302.25,[])-note(n1118,[B,b],4,153486,153536,153719,68). -1/28 cannot be interpreted as FractionalSymbolicDuration Version(major=0, minor=5, patch=0)\n",
      "snote(n1273-1,[B,b],4,110:1,1/10,-1/28,302.388671875,302.25,[])-note(n1118,[B,b],4,153486,153536,153719,68). -1/28 cannot be interpreted as FractionalSymbolicDuration Version(major=0, minor=5, patch=0)\n",
      "snote(n1273-1,[B,b],4,110:1,1/10,-1/28,302.388671875,302.25,[])-note(n1118,[B,b],4,153486,153536,153719,68). -1/28 cannot be interpreted as FractionalSymbolicDuration Version(major=0, minor=5, patch=0)\n",
      "snote(n1273-1,[B,b],4,110:1,1/10,-1/28,302.388671875,302.25,[])-note(n1118,[B,b],4,153486,153536,153719,68). -1/28 cannot be interpreted as FractionalSymbolicDuration Version(major=0, minor=5, patch=0)\n",
      "snote(n55-1,[B,b],3,6:1,1/10,-1/28,8.388671875,8.25,[])-note(n48,[B,b],3,4551,4599,4599,68). -1/28 cannot be interpreted as FractionalSymbolicDuration Version(major=0, minor=5, patch=0)\n",
      "snote(n55-1,[B,b],3,6:1,1/10,-1/28,8.388671875,8.25,[])-note(n48,[B,b],3,4551,4599,4599,68). -1/28 cannot be interpreted as FractionalSymbolicDuration Version(major=0, minor=5, patch=0)\n",
      "snote(n55-1,[B,b],3,6:1,1/10,-1/28,8.388671875,8.25,[])-note(n48,[B,b],3,4551,4599,4599,68). -1/28 cannot be interpreted as FractionalSymbolicDuration Version(major=0, minor=5, patch=0)\n",
      "snote(n55-1,[B,b],3,6:1,1/10,-1/28,8.388671875,8.25,[])-note(n48,[B,b],3,4551,4599,4599,68). -1/28 cannot be interpreted as FractionalSymbolicDuration Version(major=0, minor=5, patch=0)\n",
      "snote(n178-1,[B,b],4,16:1,1/10,-1/28,28.388671875,28.25,[])-note(n166,[B,b],4,13397,13467,13596,74). -1/28 cannot be interpreted as FractionalSymbolicDuration Version(major=0, minor=5, patch=0)\n",
      "snote(n178-1,[B,b],4,16:1,1/10,-1/28,28.388671875,28.25,[])-note(n166,[B,b],4,13397,13467,13596,74). -1/28 cannot be interpreted as FractionalSymbolicDuration Version(major=0, minor=5, patch=0)\n",
      "snote(n178-1,[B,b],4,16:1,1/10,-1/28,28.388671875,28.25,[])-note(n166,[B,b],4,13397,13467,13596,74). -1/28 cannot be interpreted as FractionalSymbolicDuration Version(major=0, minor=5, patch=0)\n",
      "snote(n178-1,[B,b],4,16:1,1/10,-1/28,28.388671875,28.25,[])-note(n166,[B,b],4,13397,13467,13596,74). -1/28 cannot be interpreted as FractionalSymbolicDuration Version(major=0, minor=5, patch=0)\n",
      "snote(n1150-1,[B,b],3,100:1,1/10,-1/28,282.388671875,282.25,[])-note(n1275,[B,b],3,201050,201129,201129,69). -1/28 cannot be interpreted as FractionalSymbolicDuration Version(major=0, minor=5, patch=0)\n",
      "snote(n1150-1,[B,b],3,100:1,1/10,-1/28,282.388671875,282.25,[])-note(n1275,[B,b],3,201050,201129,201129,69). -1/28 cannot be interpreted as FractionalSymbolicDuration Version(major=0, minor=5, patch=0)\n",
      "snote(n1150-1,[B,b],3,100:1,1/10,-1/28,282.388671875,282.25,[])-note(n1275,[B,b],3,201050,201129,201129,69). -1/28 cannot be interpreted as FractionalSymbolicDuration Version(major=0, minor=5, patch=0)\n",
      "snote(n1150-1,[B,b],3,100:1,1/10,-1/28,282.388671875,282.25,[])-note(n1275,[B,b],3,201050,201129,201129,69). -1/28 cannot be interpreted as FractionalSymbolicDuration Version(major=0, minor=5, patch=0)\n",
      "snote(n1273-1,[B,b],4,110:1,1/10,-1/28,302.388671875,302.25,[])-note(n1391,[B,b],4,209857,209927,210102,78). -1/28 cannot be interpreted as FractionalSymbolicDuration Version(major=0, minor=5, patch=0)\n",
      "snote(n1273-1,[B,b],4,110:1,1/10,-1/28,302.388671875,302.25,[])-note(n1391,[B,b],4,209857,209927,210102,78). -1/28 cannot be interpreted as FractionalSymbolicDuration Version(major=0, minor=5, patch=0)\n",
      "snote(n1273-1,[B,b],4,110:1,1/10,-1/28,302.388671875,302.25,[])-note(n1391,[B,b],4,209857,209927,210102,78). -1/28 cannot be interpreted as FractionalSymbolicDuration Version(major=0, minor=5, patch=0)\n",
      "snote(n1273-1,[B,b],4,110:1,1/10,-1/28,302.388671875,302.25,[])-note(n1391,[B,b],4,209857,209927,210102,78). -1/28 cannot be interpreted as FractionalSymbolicDuration Version(major=0, minor=5, patch=0)\n",
      "snote(n55-1,[B,b],3,6:1,1/10,-1/28,8.388671875,8.25,[])-note(n48,[B,b],3,6552,6591,6591,69). -1/28 cannot be interpreted as FractionalSymbolicDuration Version(major=0, minor=5, patch=0)\n",
      "snote(n55-1,[B,b],3,6:1,1/10,-1/28,8.388671875,8.25,[])-note(n48,[B,b],3,6552,6591,6591,69). -1/28 cannot be interpreted as FractionalSymbolicDuration Version(major=0, minor=5, patch=0)\n",
      "snote(n55-1,[B,b],3,6:1,1/10,-1/28,8.388671875,8.25,[])-note(n48,[B,b],3,6552,6591,6591,69). -1/28 cannot be interpreted as FractionalSymbolicDuration Version(major=0, minor=5, patch=0)\n",
      "snote(n55-1,[B,b],3,6:1,1/10,-1/28,8.388671875,8.25,[])-note(n48,[B,b],3,6552,6591,6591,69). -1/28 cannot be interpreted as FractionalSymbolicDuration Version(major=0, minor=5, patch=0)\n",
      "snote(n178-1,[B,b],4,16:1,1/10,-1/28,28.388671875,28.25,[])-note(n165,[B,b],4,15133,15167,15296,80). -1/28 cannot be interpreted as FractionalSymbolicDuration Version(major=0, minor=5, patch=0)\n",
      "snote(n178-1,[B,b],4,16:1,1/10,-1/28,28.388671875,28.25,[])-note(n165,[B,b],4,15133,15167,15296,80). -1/28 cannot be interpreted as FractionalSymbolicDuration Version(major=0, minor=5, patch=0)\n",
      "snote(n178-1,[B,b],4,16:1,1/10,-1/28,28.388671875,28.25,[])-note(n165,[B,b],4,15133,15167,15296,80). -1/28 cannot be interpreted as FractionalSymbolicDuration Version(major=0, minor=5, patch=0)\n",
      "snote(n178-1,[B,b],4,16:1,1/10,-1/28,28.388671875,28.25,[])-note(n165,[B,b],4,15133,15167,15296,80). -1/28 cannot be interpreted as FractionalSymbolicDuration Version(major=0, minor=5, patch=0)\n",
      "snote(n1150-1,[B,b],3,100:1,1/10,-1/28,282.388671875,282.25,[])-note(n979,[B,b],3,142779,142817,142817,69). -1/28 cannot be interpreted as FractionalSymbolicDuration Version(major=0, minor=5, patch=0)\n",
      "snote(n1150-1,[B,b],3,100:1,1/10,-1/28,282.388671875,282.25,[])-note(n979,[B,b],3,142779,142817,142817,69). -1/28 cannot be interpreted as FractionalSymbolicDuration Version(major=0, minor=5, patch=0)\n",
      "snote(n1150-1,[B,b],3,100:1,1/10,-1/28,282.388671875,282.25,[])-note(n979,[B,b],3,142779,142817,142817,69). -1/28 cannot be interpreted as FractionalSymbolicDuration Version(major=0, minor=5, patch=0)\n",
      "snote(n1150-1,[B,b],3,100:1,1/10,-1/28,282.388671875,282.25,[])-note(n979,[B,b],3,142779,142817,142817,69). -1/28 cannot be interpreted as FractionalSymbolicDuration Version(major=0, minor=5, patch=0)\n",
      "snote(n1273-1,[B,b],4,110:1,1/10,-1/28,302.388671875,302.25,[])-note(n1096,[B,b],4,151657,151714,151868,80). -1/28 cannot be interpreted as FractionalSymbolicDuration Version(major=0, minor=5, patch=0)\n",
      "snote(n1273-1,[B,b],4,110:1,1/10,-1/28,302.388671875,302.25,[])-note(n1096,[B,b],4,151657,151714,151868,80). -1/28 cannot be interpreted as FractionalSymbolicDuration Version(major=0, minor=5, patch=0)\n",
      "snote(n1273-1,[B,b],4,110:1,1/10,-1/28,302.388671875,302.25,[])-note(n1096,[B,b],4,151657,151714,151868,80). -1/28 cannot be interpreted as FractionalSymbolicDuration Version(major=0, minor=5, patch=0)\n",
      "snote(n1273-1,[B,b],4,110:1,1/10,-1/28,302.388671875,302.25,[])-note(n1096,[B,b],4,151657,151714,151868,80). -1/28 cannot be interpreted as FractionalSymbolicDuration Version(major=0, minor=5, patch=0)\n"
     ]
    },
    {
     "name": "stderr",
     "output_type": "stream",
     "text": [
      " 98%|██████████████████████████████████████████████████████████████████████████████▎ | 184/188 [30:57<00:10,  2.60s/it]"
     ]
    },
    {
     "name": "stdout",
     "output_type": "stream",
     "text": [
      "asap-dataset\\Debussy\\Pour_le_Piano\\1\\MunA12M.match\n",
      "only length-1 arrays can be converted to Python scalars\n"
     ]
    },
    {
     "name": "stderr",
     "output_type": "stream",
     "text": [
      "100%|████████████████████████████████████████████████████████████████████████████████| 188/188 [33:17<00:00, 10.63s/it]\n"
     ]
    }
   ],
   "source": [
    "params = EXPRESSIVE_PARAMS\n",
    "\n",
    "all_xmls = glob.glob(os.path.join(\"asap-dataset\", \"**\", \"*.musicxml\"), recursive=True)\n",
    "print(all_xmls.pop(213))\n",
    "# all_xmls = [match for match in all_matches if match not in outlier_dict[\"piece_names\"]]\n",
    "\n",
    "rng = np.random.default_rng()\n",
    "all_indices = list(range(len(all_xmls)))\n",
    "rng.shuffle(all_indices)\n",
    "\n",
    "test_indices = all_indices[:int(len(all_indices) * 0.1)]\n",
    "val_indices = all_indices[int(len(all_indices) * 0.1):int(len(all_indices) * 0.2)]\n",
    "train_indices = all_indices[int(len(all_indices) * 0.2):]\n",
    "print(len(test_indices), len(val_indices), len(train_indices))\n",
    "\n",
    "test_set = MyDataset([all_xmls[i] for i in test_indices], seq_len=50, drop_feats=drop_cols)\n",
    "val_set = MyDataset([all_xmls[i] for i in val_indices], seq_len=50, drop_feats=drop_cols)\n",
    "train_set = MyDataset([all_xmls[i] for i in train_indices], seq_len=50, drop_feats=drop_cols)"
   ]
  },
  {
   "cell_type": "code",
   "execution_count": 9,
   "id": "9b0f85da",
   "metadata": {},
   "outputs": [],
   "source": [
    "torch.save(test_set, \"test_set.pt\")\n",
    "torch.save(val_set, \"validation_set.pt\")\n",
    "torch.save(train_set, \"train_set.pt\")"
   ]
  },
  {
   "cell_type": "code",
   "execution_count": 5,
   "id": "099ccc2a",
   "metadata": {
    "scrolled": true
   },
   "outputs": [
    {
     "name": "stdout",
     "output_type": "stream",
     "text": [
      "test_pieces\\Schubert\\Impromptu_op142\\3\\xml_score.musicxml\n",
      "removed test_pieces\\Schubert\\Impromptu_op142\\3\\xml_score.musicxml\n",
      "['asap-dataset\\\\Chopin\\\\Etudes_op_25\\\\11\\\\xml_score.musicxml', 'asap-dataset\\\\Liszt\\\\Ballade_2\\\\xml_score.musicxml', 'asap-dataset\\\\Liszt\\\\Transcendental_Etudes\\\\5\\\\xml_score.musicxml', 'asap-dataset\\\\Bach\\\\Fugue\\\\bwv_863\\\\xml_score.musicxml', 'asap-dataset\\\\Chopin\\\\Etudes_op_25\\\\1\\\\xml_score.musicxml', 'asap-dataset\\\\Liszt\\\\Gran_Etudes_de_Paganini\\\\2_La_campanella\\\\xml_score.musicxml', 'asap-dataset\\\\Schubert\\\\Wanderer_fantasie\\\\xml_score.musicxml', 'asap-dataset\\\\Schubert\\\\Impromptu_op.90_D.899\\\\2\\\\xml_score.musicxml', 'asap-dataset\\\\Beethoven\\\\Piano_Sonatas\\\\18-1\\\\xml_score.musicxml', 'asap-dataset\\\\Beethoven\\\\Piano_Sonatas\\\\16-1\\\\xml_score.musicxml', 'asap-dataset\\\\Beethoven\\\\Piano_Sonatas\\\\31-3_4\\\\xml_score.musicxml', 'asap-dataset\\\\Beethoven\\\\Piano_Sonatas\\\\21-1_no_repeat\\\\xml_score.musicxml', 'asap-dataset\\\\Schumann\\\\Arabeske\\\\xml_score.musicxml', 'asap-dataset\\\\Bach\\\\Prelude\\\\bwv_857\\\\xml_score.musicxml', 'asap-dataset\\\\Bach\\\\Prelude\\\\bwv_889\\\\xml_score.musicxml', 'asap-dataset\\\\Bach\\\\Prelude\\\\bwv_892\\\\xml_score.musicxml', 'asap-dataset\\\\Schubert\\\\Piano_Sonatas\\\\894-2_no_repeat\\\\xml_score.musicxml', 'asap-dataset\\\\Chopin\\\\Barcarolle\\\\xml_score.musicxml', 'asap-dataset\\\\Beethoven\\\\Piano_Sonatas\\\\24-1_no_2_repeat\\\\xml_score.musicxml', 'asap-dataset\\\\Beethoven\\\\Piano_Sonatas\\\\26-1\\\\xml_score.musicxml', 'asap-dataset\\\\Bach\\\\Prelude\\\\bwv_863\\\\xml_score.musicxml', 'asap-dataset\\\\Liszt\\\\Transcendental_Etudes\\\\4\\\\xml_score.musicxml', 'asap-dataset\\\\Chopin\\\\Ballades\\\\1\\\\xml_score.musicxml', 'asap-dataset\\\\Bach\\\\Fugue\\\\bwv_885\\\\xml_score.musicxml', 'asap-dataset\\\\Beethoven\\\\Piano_Sonatas\\\\27-1\\\\xml_score.musicxml', 'asap-dataset\\\\Liszt\\\\Transcendental_Etudes\\\\10\\\\xml_score.musicxml', 'asap-dataset\\\\Bach\\\\Fugue\\\\bwv_867\\\\xml_score.musicxml', 'asap-dataset\\\\Bach\\\\Fugue\\\\bwv_892\\\\xml_score.musicxml', 'asap-dataset\\\\Haydn\\\\Keyboard_Sonatas\\\\48-1\\\\xml_score.musicxml', 'asap-dataset\\\\Bach\\\\Fugue\\\\bwv_870\\\\xml_score.musicxml']\n",
      "204 15 15\n",
      "Processing score data...\n"
     ]
    },
    {
     "name": "stderr",
     "output_type": "stream",
     "text": [
      "100%|██████████████████████████████████████████████████████████████████████████████████| 15/15 [03:29<00:00, 13.95s/it]\n"
     ]
    },
    {
     "name": "stdout",
     "output_type": "stream",
     "text": [
      "Processing score data...\n"
     ]
    },
    {
     "name": "stderr",
     "output_type": "stream",
     "text": [
      "100%|██████████████████████████████████████████████████████████████████████████████████| 15/15 [05:14<00:00, 20.97s/it]\n"
     ]
    },
    {
     "name": "stdout",
     "output_type": "stream",
     "text": [
      "Processing score data...\n"
     ]
    },
    {
     "name": "stderr",
     "output_type": "stream",
     "text": [
      " 70%|███████████████████████████████████████████████████████▋                        | 142/204 [15:31<06:42,  6.50s/it]"
     ]
    },
    {
     "name": "stdout",
     "output_type": "stream",
     "text": [
      "asap-dataset\\Debussy\\Pour_le_Piano\\1\\MunA12M.match\n",
      "only length-1 arrays can be converted to Python scalars\n"
     ]
    },
    {
     "name": "stderr",
     "output_type": "stream",
     "text": [
      " 96%|████████████████████████████████████████████████████████████████████████████▍   | 195/204 [29:05<01:32, 10.32s/it]"
     ]
    },
    {
     "name": "stdout",
     "output_type": "stream",
     "text": [
      "snote(n55-1,[B,b],3,6:1,1/10,-1/28,8.388671875,8.25,[])-note(n48,[B,b],3,4513,4540,4540,64). -1/28 cannot be interpreted as FractionalSymbolicDuration Version(major=0, minor=5, patch=0)\n",
      "snote(n55-1,[B,b],3,6:1,1/10,-1/28,8.388671875,8.25,[])-note(n48,[B,b],3,4513,4540,4540,64). -1/28 cannot be interpreted as FractionalSymbolicDuration Version(major=0, minor=5, patch=0)\n",
      "snote(n55-1,[B,b],3,6:1,1/10,-1/28,8.388671875,8.25,[])-note(n48,[B,b],3,4513,4540,4540,64). -1/28 cannot be interpreted as FractionalSymbolicDuration Version(major=0, minor=5, patch=0)\n",
      "snote(n55-1,[B,b],3,6:1,1/10,-1/28,8.388671875,8.25,[])-note(n48,[B,b],3,4513,4540,4540,64). -1/28 cannot be interpreted as FractionalSymbolicDuration Version(major=0, minor=5, patch=0)\n",
      "snote(n178-1,[B,b],4,16:1,1/10,-1/28,28.388671875,28.25,[])-note(n166,[B,b],4,13799,13860,14020,70). -1/28 cannot be interpreted as FractionalSymbolicDuration Version(major=0, minor=5, patch=0)\n",
      "snote(n178-1,[B,b],4,16:1,1/10,-1/28,28.388671875,28.25,[])-note(n166,[B,b],4,13799,13860,14020,70). -1/28 cannot be interpreted as FractionalSymbolicDuration Version(major=0, minor=5, patch=0)\n",
      "snote(n178-1,[B,b],4,16:1,1/10,-1/28,28.388671875,28.25,[])-note(n166,[B,b],4,13799,13860,14020,70). -1/28 cannot be interpreted as FractionalSymbolicDuration Version(major=0, minor=5, patch=0)\n",
      "snote(n178-1,[B,b],4,16:1,1/10,-1/28,28.388671875,28.25,[])-note(n166,[B,b],4,13799,13860,14020,70). -1/28 cannot be interpreted as FractionalSymbolicDuration Version(major=0, minor=5, patch=0)\n",
      "snote(n1150-1,[B,b],3,100:1,1/10,-1/28,282.388671875,282.25,[])-note(n998,[B,b],3,144052,144092,144092,63). -1/28 cannot be interpreted as FractionalSymbolicDuration Version(major=0, minor=5, patch=0)\n",
      "snote(n1150-1,[B,b],3,100:1,1/10,-1/28,282.388671875,282.25,[])-note(n998,[B,b],3,144052,144092,144092,63). -1/28 cannot be interpreted as FractionalSymbolicDuration Version(major=0, minor=5, patch=0)\n",
      "snote(n1150-1,[B,b],3,100:1,1/10,-1/28,282.388671875,282.25,[])-note(n998,[B,b],3,144052,144092,144092,63). -1/28 cannot be interpreted as FractionalSymbolicDuration Version(major=0, minor=5, patch=0)\n",
      "snote(n1150-1,[B,b],3,100:1,1/10,-1/28,282.388671875,282.25,[])-note(n998,[B,b],3,144052,144092,144092,63). -1/28 cannot be interpreted as FractionalSymbolicDuration Version(major=0, minor=5, patch=0)\n",
      "snote(n1273-1,[B,b],4,110:1,1/10,-1/28,302.388671875,302.25,[])-note(n1118,[B,b],4,153486,153536,153719,68). -1/28 cannot be interpreted as FractionalSymbolicDuration Version(major=0, minor=5, patch=0)\n",
      "snote(n1273-1,[B,b],4,110:1,1/10,-1/28,302.388671875,302.25,[])-note(n1118,[B,b],4,153486,153536,153719,68). -1/28 cannot be interpreted as FractionalSymbolicDuration Version(major=0, minor=5, patch=0)\n",
      "snote(n1273-1,[B,b],4,110:1,1/10,-1/28,302.388671875,302.25,[])-note(n1118,[B,b],4,153486,153536,153719,68). -1/28 cannot be interpreted as FractionalSymbolicDuration Version(major=0, minor=5, patch=0)\n",
      "snote(n1273-1,[B,b],4,110:1,1/10,-1/28,302.388671875,302.25,[])-note(n1118,[B,b],4,153486,153536,153719,68). -1/28 cannot be interpreted as FractionalSymbolicDuration Version(major=0, minor=5, patch=0)\n",
      "snote(n55-1,[B,b],3,6:1,1/10,-1/28,8.388671875,8.25,[])-note(n48,[B,b],3,4551,4599,4599,68). -1/28 cannot be interpreted as FractionalSymbolicDuration Version(major=0, minor=5, patch=0)\n",
      "snote(n55-1,[B,b],3,6:1,1/10,-1/28,8.388671875,8.25,[])-note(n48,[B,b],3,4551,4599,4599,68). -1/28 cannot be interpreted as FractionalSymbolicDuration Version(major=0, minor=5, patch=0)\n",
      "snote(n55-1,[B,b],3,6:1,1/10,-1/28,8.388671875,8.25,[])-note(n48,[B,b],3,4551,4599,4599,68). -1/28 cannot be interpreted as FractionalSymbolicDuration Version(major=0, minor=5, patch=0)\n",
      "snote(n55-1,[B,b],3,6:1,1/10,-1/28,8.388671875,8.25,[])-note(n48,[B,b],3,4551,4599,4599,68). -1/28 cannot be interpreted as FractionalSymbolicDuration Version(major=0, minor=5, patch=0)\n",
      "snote(n178-1,[B,b],4,16:1,1/10,-1/28,28.388671875,28.25,[])-note(n166,[B,b],4,13397,13467,13596,74). -1/28 cannot be interpreted as FractionalSymbolicDuration Version(major=0, minor=5, patch=0)\n",
      "snote(n178-1,[B,b],4,16:1,1/10,-1/28,28.388671875,28.25,[])-note(n166,[B,b],4,13397,13467,13596,74). -1/28 cannot be interpreted as FractionalSymbolicDuration Version(major=0, minor=5, patch=0)\n",
      "snote(n178-1,[B,b],4,16:1,1/10,-1/28,28.388671875,28.25,[])-note(n166,[B,b],4,13397,13467,13596,74). -1/28 cannot be interpreted as FractionalSymbolicDuration Version(major=0, minor=5, patch=0)\n",
      "snote(n178-1,[B,b],4,16:1,1/10,-1/28,28.388671875,28.25,[])-note(n166,[B,b],4,13397,13467,13596,74). -1/28 cannot be interpreted as FractionalSymbolicDuration Version(major=0, minor=5, patch=0)\n",
      "snote(n1150-1,[B,b],3,100:1,1/10,-1/28,282.388671875,282.25,[])-note(n1275,[B,b],3,201050,201129,201129,69). -1/28 cannot be interpreted as FractionalSymbolicDuration Version(major=0, minor=5, patch=0)\n",
      "snote(n1150-1,[B,b],3,100:1,1/10,-1/28,282.388671875,282.25,[])-note(n1275,[B,b],3,201050,201129,201129,69). -1/28 cannot be interpreted as FractionalSymbolicDuration Version(major=0, minor=5, patch=0)\n",
      "snote(n1150-1,[B,b],3,100:1,1/10,-1/28,282.388671875,282.25,[])-note(n1275,[B,b],3,201050,201129,201129,69). -1/28 cannot be interpreted as FractionalSymbolicDuration Version(major=0, minor=5, patch=0)\n",
      "snote(n1150-1,[B,b],3,100:1,1/10,-1/28,282.388671875,282.25,[])-note(n1275,[B,b],3,201050,201129,201129,69). -1/28 cannot be interpreted as FractionalSymbolicDuration Version(major=0, minor=5, patch=0)\n",
      "snote(n1273-1,[B,b],4,110:1,1/10,-1/28,302.388671875,302.25,[])-note(n1391,[B,b],4,209857,209927,210102,78). -1/28 cannot be interpreted as FractionalSymbolicDuration Version(major=0, minor=5, patch=0)\n",
      "snote(n1273-1,[B,b],4,110:1,1/10,-1/28,302.388671875,302.25,[])-note(n1391,[B,b],4,209857,209927,210102,78). -1/28 cannot be interpreted as FractionalSymbolicDuration Version(major=0, minor=5, patch=0)\n",
      "snote(n1273-1,[B,b],4,110:1,1/10,-1/28,302.388671875,302.25,[])-note(n1391,[B,b],4,209857,209927,210102,78). -1/28 cannot be interpreted as FractionalSymbolicDuration Version(major=0, minor=5, patch=0)\n",
      "snote(n1273-1,[B,b],4,110:1,1/10,-1/28,302.388671875,302.25,[])-note(n1391,[B,b],4,209857,209927,210102,78). -1/28 cannot be interpreted as FractionalSymbolicDuration Version(major=0, minor=5, patch=0)\n",
      "snote(n55-1,[B,b],3,6:1,1/10,-1/28,8.388671875,8.25,[])-note(n48,[B,b],3,6552,6591,6591,69). -1/28 cannot be interpreted as FractionalSymbolicDuration Version(major=0, minor=5, patch=0)\n",
      "snote(n55-1,[B,b],3,6:1,1/10,-1/28,8.388671875,8.25,[])-note(n48,[B,b],3,6552,6591,6591,69). -1/28 cannot be interpreted as FractionalSymbolicDuration Version(major=0, minor=5, patch=0)\n",
      "snote(n55-1,[B,b],3,6:1,1/10,-1/28,8.388671875,8.25,[])-note(n48,[B,b],3,6552,6591,6591,69). -1/28 cannot be interpreted as FractionalSymbolicDuration Version(major=0, minor=5, patch=0)\n",
      "snote(n55-1,[B,b],3,6:1,1/10,-1/28,8.388671875,8.25,[])-note(n48,[B,b],3,6552,6591,6591,69). -1/28 cannot be interpreted as FractionalSymbolicDuration Version(major=0, minor=5, patch=0)\n",
      "snote(n178-1,[B,b],4,16:1,1/10,-1/28,28.388671875,28.25,[])-note(n165,[B,b],4,15133,15167,15296,80). -1/28 cannot be interpreted as FractionalSymbolicDuration Version(major=0, minor=5, patch=0)\n",
      "snote(n178-1,[B,b],4,16:1,1/10,-1/28,28.388671875,28.25,[])-note(n165,[B,b],4,15133,15167,15296,80). -1/28 cannot be interpreted as FractionalSymbolicDuration Version(major=0, minor=5, patch=0)\n",
      "snote(n178-1,[B,b],4,16:1,1/10,-1/28,28.388671875,28.25,[])-note(n165,[B,b],4,15133,15167,15296,80). -1/28 cannot be interpreted as FractionalSymbolicDuration Version(major=0, minor=5, patch=0)\n",
      "snote(n178-1,[B,b],4,16:1,1/10,-1/28,28.388671875,28.25,[])-note(n165,[B,b],4,15133,15167,15296,80). -1/28 cannot be interpreted as FractionalSymbolicDuration Version(major=0, minor=5, patch=0)\n",
      "snote(n1150-1,[B,b],3,100:1,1/10,-1/28,282.388671875,282.25,[])-note(n979,[B,b],3,142779,142817,142817,69). -1/28 cannot be interpreted as FractionalSymbolicDuration Version(major=0, minor=5, patch=0)\n",
      "snote(n1150-1,[B,b],3,100:1,1/10,-1/28,282.388671875,282.25,[])-note(n979,[B,b],3,142779,142817,142817,69). -1/28 cannot be interpreted as FractionalSymbolicDuration Version(major=0, minor=5, patch=0)\n",
      "snote(n1150-1,[B,b],3,100:1,1/10,-1/28,282.388671875,282.25,[])-note(n979,[B,b],3,142779,142817,142817,69). -1/28 cannot be interpreted as FractionalSymbolicDuration Version(major=0, minor=5, patch=0)\n",
      "snote(n1150-1,[B,b],3,100:1,1/10,-1/28,282.388671875,282.25,[])-note(n979,[B,b],3,142779,142817,142817,69). -1/28 cannot be interpreted as FractionalSymbolicDuration Version(major=0, minor=5, patch=0)\n",
      "snote(n1273-1,[B,b],4,110:1,1/10,-1/28,302.388671875,302.25,[])-note(n1096,[B,b],4,151657,151714,151868,80). -1/28 cannot be interpreted as FractionalSymbolicDuration Version(major=0, minor=5, patch=0)\n",
      "snote(n1273-1,[B,b],4,110:1,1/10,-1/28,302.388671875,302.25,[])-note(n1096,[B,b],4,151657,151714,151868,80). -1/28 cannot be interpreted as FractionalSymbolicDuration Version(major=0, minor=5, patch=0)\n",
      "snote(n1273-1,[B,b],4,110:1,1/10,-1/28,302.388671875,302.25,[])-note(n1096,[B,b],4,151657,151714,151868,80). -1/28 cannot be interpreted as FractionalSymbolicDuration Version(major=0, minor=5, patch=0)\n",
      "snote(n1273-1,[B,b],4,110:1,1/10,-1/28,302.388671875,302.25,[])-note(n1096,[B,b],4,151657,151714,151868,80). -1/28 cannot be interpreted as FractionalSymbolicDuration Version(major=0, minor=5, patch=0)\n"
     ]
    },
    {
     "name": "stderr",
     "output_type": "stream",
     "text": [
      "100%|████████████████████████████████████████████████████████████████████████████████| 204/204 [31:58<00:00,  9.41s/it]\n"
     ]
    }
   ],
   "source": [
    "params = [\"beat_period_ratio\", \"timing\", \"articulation_log\", \"beat_period_mean\", \"velocity_trend\", \"velocity_dev\"]\n",
    "\n",
    "all_xmls = glob.glob(os.path.join(\"asap-dataset\", \"**\", \"*.musicxml\"), recursive=True)\n",
    "discard = all_xmls.pop(213)\n",
    "discard = pathlib.Path(discard)\n",
    "discard = pathlib.Path(*discard.parts[1:])\n",
    "discard = \"test_pieces\" / discard\n",
    "print(str(discard))\n",
    "\n",
    "rng = np.random.default_rng()\n",
    "\n",
    "test_xmls = glob.glob(os.path.join(\"test_pieces\", \"**\", \"*.musicxml\"), recursive=True)\n",
    "if str(discard) in test_xmls:\n",
    "    print(f\"removed {discard}\")\n",
    "    test_xmls.remove(str(discard))\n",
    "    \n",
    "rng.shuffle(test_xmls)\n",
    "test_xmls = test_xmls[:int(len(test_xmls) * 0.5)]\n",
    "\n",
    "test_pieces = []\n",
    "for piece_path in test_xmls:\n",
    "    piece_path = pathlib.Path(piece_path)\n",
    "    piece_path = pathlib.Path(*piece_path.parts[1:])\n",
    "    piece_path = \"asap-dataset\" / piece_path\n",
    "    \n",
    "    test_pieces.append(str(piece_path))\n",
    "print(test_pieces)\n",
    "\n",
    "train_pieces = [xml for xml in all_xmls if xml not in test_pieces]\n",
    "\n",
    "all_test_indices = list(range(len(test_pieces)))\n",
    "rng.shuffle(all_test_indices)\n",
    "\n",
    "test_indices = all_test_indices[:int(len(all_test_indices) * 0.5)] \n",
    "val_indices = all_test_indices[int(len(all_test_indices) * 0.5):]\n",
    "print(len(train_pieces), len(test_indices), len(val_indices))\n",
    "\n",
    "test_set = MyDataset([test_pieces[i] for i in test_indices], seq_len=50, drop_feats=drop_cols, param_names=params)\n",
    "val_set = MyDataset([test_pieces[i] for i in val_indices], seq_len=50, drop_feats=drop_cols, param_names=params)\n",
    "train_set = MyDataset(train_pieces, seq_len=50, drop_feats=drop_cols, param_names=params)"
   ]
  },
  {
   "cell_type": "code",
   "execution_count": 6,
   "id": "21c003e5",
   "metadata": {},
   "outputs": [],
   "source": [
    "torch.save(test_set, \"test_set_comp_2.pt\")\n",
    "torch.save(val_set, \"validation_set_comp_2.pt\")\n",
    "torch.save(train_set, \"train_set_comp_2.pt\")"
   ]
  },
  {
   "cell_type": "code",
   "execution_count": 12,
   "id": "cb9b6858",
   "metadata": {},
   "outputs": [],
   "source": [
    "test_set = torch.load(\"test_set_comp_2.pt\")\n",
    "val_set = torch.load(\"validation_set_comp_2.pt\")\n",
    "train_set = torch.load(\"train_set_comp_2.pt\")"
   ]
  },
  {
   "cell_type": "code",
   "execution_count": 13,
   "id": "c3ff1e6a",
   "metadata": {},
   "outputs": [
    {
     "data": {
      "text/plain": [
       "(57, 57, 57)"
      ]
     },
     "execution_count": 13,
     "metadata": {},
     "output_type": "execute_result"
    }
   ],
   "source": [
    "test_set.feature_size, val_set.feature_size, train_set.feature_size"
   ]
  },
  {
   "cell_type": "code",
   "execution_count": 14,
   "id": "bed956c7",
   "metadata": {},
   "outputs": [
    {
     "name": "stdout",
     "output_type": "stream",
     "text": [
      "Test set size: 11.49%\n",
      "Validation set size: 17.59%\n",
      "Train set size: 70.92%\n"
     ]
    }
   ],
   "source": [
    "total_size = len(test_set) + len(train_set) + len(val_set)\n",
    "\n",
    "print(f\"Test set size: {round((len(test_set) / total_size) * 100, 2)}%\")\n",
    "print(f\"Validation set size: {round((len(val_set) / total_size) * 100, 2)}%\")\n",
    "print(f\"Train set size: {round((len(train_set) / total_size) * 100, 2)}%\")"
   ]
  },
  {
   "cell_type": "code",
   "execution_count": 10,
   "id": "a00742d2",
   "metadata": {},
   "outputs": [],
   "source": [
    "test_set_normal = torch.load(\"test_set.pt\")\n",
    "val_set_normal = torch.load(\"validation_set.pt\")\n",
    "train_set_normal = torch.load(\"train_set.pt\")"
   ]
  },
  {
   "cell_type": "code",
   "execution_count": 11,
   "id": "061297e9",
   "metadata": {},
   "outputs": [
    {
     "data": {
      "text/plain": [
       "(6641, 5851, 53718)"
      ]
     },
     "execution_count": 11,
     "metadata": {},
     "output_type": "execute_result"
    }
   ],
   "source": [
    "len(test_set_normal), len(val_set_normal), len(train_set_normal)"
   ]
  },
  {
   "cell_type": "code",
   "execution_count": 12,
   "id": "6de2212c",
   "metadata": {},
   "outputs": [
    {
     "data": {
      "text/plain": [
       "['asap-dataset\\\\Schubert\\\\Piano_Sonatas\\\\894-2\\\\xml_score.musicxml',\n",
       " 'asap-dataset\\\\Chopin\\\\Etudes_op_25\\\\5\\\\xml_score.musicxml',\n",
       " 'asap-dataset\\\\Schumann\\\\Toccata\\\\xml_score.musicxml',\n",
       " 'asap-dataset\\\\Liszt\\\\Transcendental_Etudes\\\\11\\\\xml_score.musicxml',\n",
       " 'asap-dataset\\\\Liszt\\\\Gran_Etudes_de_Paganini\\\\6_Theme_and_Variations\\\\xml_score.musicxml',\n",
       " 'asap-dataset\\\\Beethoven\\\\Piano_Sonatas\\\\5-1\\\\xml_score.musicxml',\n",
       " 'asap-dataset\\\\Schubert\\\\Impromptu_op.90_D.899\\\\2\\\\xml_score.musicxml',\n",
       " 'asap-dataset\\\\Beethoven\\\\Piano_Sonatas\\\\31-2\\\\xml_score.musicxml',\n",
       " 'asap-dataset\\\\Balakirev\\\\Islamey\\\\xml_score.musicxml',\n",
       " 'asap-dataset\\\\Beethoven\\\\Piano_Sonatas\\\\16-2\\\\xml_score.musicxml',\n",
       " 'asap-dataset\\\\Chopin\\\\Etudes_op_10\\\\12\\\\xml_score.musicxml',\n",
       " 'asap-dataset\\\\Liszt\\\\Concert_Etude_S145\\\\1\\\\xml_score.musicxml',\n",
       " 'asap-dataset\\\\Chopin\\\\Etudes_op_10\\\\4\\\\xml_score.musicxml',\n",
       " 'asap-dataset\\\\Mozart\\\\Piano_Sonatas\\\\8-1\\\\xml_score.musicxml',\n",
       " 'asap-dataset\\\\Bach\\\\Prelude\\\\bwv_868\\\\xml_score.musicxml',\n",
       " 'asap-dataset\\\\Bach\\\\Prelude\\\\bwv_875\\\\xml_score.musicxml',\n",
       " 'asap-dataset\\\\Beethoven\\\\Piano_Sonatas\\\\14-3\\\\xml_score.musicxml',\n",
       " 'asap-dataset\\\\Bach\\\\Fugue\\\\bwv_873\\\\xml_score.musicxml',\n",
       " 'asap-dataset\\\\Schumann\\\\Kreisleriana\\\\1_no_first_repeat\\\\xml_score.musicxml',\n",
       " 'asap-dataset\\\\Beethoven\\\\Piano_Sonatas\\\\9-2_no_trio\\\\xml_score.musicxml',\n",
       " 'asap-dataset\\\\Bach\\\\Fugue\\\\bwv_848\\\\xml_score.musicxml',\n",
       " 'asap-dataset\\\\Beethoven\\\\Piano_Sonatas\\\\12-1\\\\xml_score.musicxml',\n",
       " 'asap-dataset\\\\Beethoven\\\\Piano_Sonatas\\\\17-1\\\\xml_score.musicxml']"
      ]
     },
     "execution_count": 12,
     "metadata": {},
     "output_type": "execute_result"
    }
   ],
   "source": [
    "test_set_normal.xml_paths"
   ]
  },
  {
   "cell_type": "code",
   "execution_count": 8,
   "id": "414daa82",
   "metadata": {},
   "outputs": [
    {
     "data": {
      "text/plain": [
       "['asap-dataset\\\\Bach\\\\Fugue\\\\bwv_892\\\\xml_score.musicxml',\n",
       " 'asap-dataset\\\\Chopin\\\\Ballades\\\\1\\\\xml_score.musicxml',\n",
       " 'asap-dataset\\\\Liszt\\\\Transcendental_Etudes\\\\10\\\\xml_score.musicxml',\n",
       " 'asap-dataset\\\\Bach\\\\Fugue\\\\bwv_870\\\\xml_score.musicxml',\n",
       " 'asap-dataset\\\\Schubert\\\\Impromptu_op.90_D.899\\\\2\\\\xml_score.musicxml',\n",
       " 'asap-dataset\\\\Bach\\\\Prelude\\\\bwv_857\\\\xml_score.musicxml',\n",
       " 'asap-dataset\\\\Liszt\\\\Ballade_2\\\\xml_score.musicxml',\n",
       " 'asap-dataset\\\\Bach\\\\Prelude\\\\bwv_863\\\\xml_score.musicxml',\n",
       " 'asap-dataset\\\\Schumann\\\\Arabeske\\\\xml_score.musicxml',\n",
       " 'asap-dataset\\\\Beethoven\\\\Piano_Sonatas\\\\31-3_4\\\\xml_score.musicxml',\n",
       " 'asap-dataset\\\\Bach\\\\Prelude\\\\bwv_889\\\\xml_score.musicxml',\n",
       " 'asap-dataset\\\\Chopin\\\\Barcarolle\\\\xml_score.musicxml',\n",
       " 'asap-dataset\\\\Beethoven\\\\Piano_Sonatas\\\\26-1\\\\xml_score.musicxml',\n",
       " 'asap-dataset\\\\Bach\\\\Prelude\\\\bwv_892\\\\xml_score.musicxml',\n",
       " 'asap-dataset\\\\Liszt\\\\Transcendental_Etudes\\\\5\\\\xml_score.musicxml']"
      ]
     },
     "execution_count": 8,
     "metadata": {},
     "output_type": "execute_result"
    }
   ],
   "source": [
    "test_set.xml_paths"
   ]
  },
  {
   "cell_type": "markdown",
   "id": "650f3453",
   "metadata": {},
   "source": [
    "## Defining models <a class=\"anchor\" id=\"models\"></a>"
   ]
  },
  {
   "cell_type": "code",
   "execution_count": 5,
   "id": "787019a5",
   "metadata": {},
   "outputs": [],
   "source": [
    "import torch\n",
    "import torch.nn as nn\n",
    "\n",
    "class LSTMModel(nn.Module):\n",
    "    def __init__(self, input_size, hidden_size, output_size, num_layers=2):\n",
    "        super(LSTMModel, self).__init__()\n",
    "        \n",
    "        self.model_name = \"LSTM\"\n",
    "        \n",
    "        self.hidden_size = hidden_size\n",
    "        self.num_layers = num_layers\n",
    "        self.lstm = nn.LSTM(input_size, hidden_size, num_layers, batch_first=True)\n",
    "        self.fc = nn.Sequential(nn.Linear(hidden_size, output_size), nn.ReLU())\n",
    "\n",
    "    def forward(self, x):\n",
    "        # Initialize hidden state with zeros\n",
    "        h0 = torch.zeros(self.num_layers, x.size(0), self.hidden_size).to(x.device).to(x.dtype)\n",
    "        # Initialize cell state\n",
    "        c0 = torch.zeros(self.num_layers, x.size(0), self.hidden_size).to(x.device).to(x.dtype)\n",
    "        \n",
    "        # Forward propagate LSTM\n",
    "        out, _ = self.lstm(x, (h0, c0))  # out: tensor of shape (batch_size, seq_length, hidden_size)\n",
    "        \n",
    "        # Decode the hidden state of the last time step\n",
    "        out = self.fc(out[:, -1, :])\n",
    "        return out"
   ]
  },
  {
   "cell_type": "code",
   "execution_count": 6,
   "id": "2ab19cc3",
   "metadata": {},
   "outputs": [],
   "source": [
    "class GRUModel(nn.Module):\n",
    "    def __init__(self, input_size, hidden_size, num_layers, output_size):\n",
    "        super(GRUModel, self).__init__()\n",
    "        self.hidden_size = hidden_size\n",
    "        self.num_layers = num_layers\n",
    "        self.gru = nn.GRU(input_size, hidden_size, num_layers, batch_first=True)\n",
    "        self.fc = nn.Linear(hidden_size, output_size)\n",
    "        self.relu = nn.ReLU()\n",
    "\n",
    "    def forward(self, x):\n",
    "        # Initialize hidden state with zeros\n",
    "        h0 = torch.zeros(self.num_layers, x.size(0), self.hidden_size).to(x.device).to(x.dtype)\n",
    "        \n",
    "        # Forward propagate LSTM\n",
    "        out, _ = self.gru(x, h0)  # out: tensor of shape (batch_size, seq_length, hidden_size)\n",
    "        \n",
    "        # Decode the hidden state of the last time step\n",
    "        out = self.fc(self.relu(out[:, -1, :]))\n",
    "        return out"
   ]
  },
  {
   "cell_type": "code",
   "execution_count": 7,
   "id": "0d83edf8",
   "metadata": {},
   "outputs": [],
   "source": [
    "class LSTMSeq2Seq(nn.Module):\n",
    "    def __init__(self, input_size, hidden_size, output_size, num_layers=1):\n",
    "        super(LSTMSeq2Seq, self).__init__()\n",
    "        \n",
    "        self.model_name = \"Seq2SeqLSTM\"\n",
    "        \n",
    "        output_size = 1\n",
    "\n",
    "        self.hidden_size = hidden_size\n",
    "        self.encoder = nn.LSTM(input_size, hidden_size, batch_first=True, num_layers=num_layers)\n",
    "        self.decoder = nn.LSTM(hidden_size, hidden_size, batch_first=True, num_layers=num_layers)\n",
    "        self.output_layer = nn.Linear(hidden_size, output_size)\n",
    "\n",
    "    def forward(self, src):\n",
    "        batch_size = src.size(0)\n",
    "\n",
    "        # Encoder\n",
    "        encoder_output, (hidden, cell) = self.encoder(src)\n",
    "\n",
    "        # Decoder initialization with encoder's last hidden and cell state\n",
    "        decoder_input = torch.zeros(batch_size, 1, self.hidden_size).to(src.device)\n",
    "\n",
    "        outputs = []\n",
    "        for i in range(encoder_output.size(1)):\n",
    "            decoder_output, (hidden, cell) = self.decoder(decoder_input, (hidden, cell))\n",
    "            output = self.output_layer(decoder_output)\n",
    "            outputs.append(output)\n",
    "            decoder_input = decoder_output\n",
    "\n",
    "        return torch.cat(outputs, dim=1)"
   ]
  },
  {
   "cell_type": "code",
   "execution_count": 8,
   "id": "82512659",
   "metadata": {},
   "outputs": [],
   "source": [
    "class Transformer(nn.Module):\n",
    "    def __init__(self, input_size, output_size, num_heads=19, hidden_size=2048, num_layers=10, dropout=0.1):\n",
    "        super(Transformer, self).__init__()\n",
    "        \n",
    "        self.model_name = \"Transformer\"\n",
    "        \n",
    "        # Encoder\n",
    "        self.encoder_layer = nn.TransformerEncoderLayer(\n",
    "            d_model=input_size,\n",
    "            nhead=num_heads,\n",
    "            dim_feedforward=hidden_size,\n",
    "            dropout=dropout,\n",
    "            batch_first=True\n",
    "        )\n",
    "        self.transformer_encoder = nn.TransformerEncoder(self.encoder_layer, num_layers)\n",
    "\n",
    "        # Decoder\n",
    "        self.decoder = nn.Linear(input_size * output_size, output_size)\n",
    "\n",
    "    def forward(self, src):\n",
    "        # Encoding\n",
    "        enc_output = self.transformer_encoder(src)\n",
    "        enc_output = enc_output.view(src.shape[0], -1)\n",
    "\n",
    "        # Decoding\n",
    "        dec_output = self.decoder(enc_output)  # Use the last encoder output for prediction\n",
    "        return dec_output"
   ]
  },
  {
   "cell_type": "code",
   "execution_count": 9,
   "id": "75e0649c",
   "metadata": {},
   "outputs": [],
   "source": [
    "class Net(nn.Module):\n",
    "    def __init__(self, input_size, output_size, hidden_size=2048, num_layers=10):\n",
    "        super(Net, self).__init__()\n",
    "        \n",
    "        self.model_name = \"BasicNN\"\n",
    "        \n",
    "        hidden_layers = [nn.Linear(input_size, hidden_size), nn.ReLU()]\n",
    "        \n",
    "        for i in range(num_layers):\n",
    "            hidden_layers.append(nn.Linear(hidden_size, hidden_size))\n",
    "            hidden_layers.append(nn.ReLU())\n",
    "            \n",
    "        self.fc = nn.Sequential(*hidden_layers)\n",
    "        \n",
    "        self.out = nn.Linear(hidden_size * output_size, output_size)\n",
    "\n",
    "    def forward(self, x):\n",
    "        \n",
    "        x = self.fc(x)\n",
    "        x = x.view(x.shape[0], -1)\n",
    "        x = self.out(x)\n",
    "        \n",
    "        return x"
   ]
  },
  {
   "cell_type": "markdown",
   "id": "fd3d3e5d",
   "metadata": {},
   "source": [
    "## Training and evaluation <a class=\"anchor\" id=\"training\"></a>"
   ]
  },
  {
   "cell_type": "code",
   "execution_count": 15,
   "id": "add81e02",
   "metadata": {
    "scrolled": true
   },
   "outputs": [
    {
     "name": "stdout",
     "output_type": "stream",
     "text": [
      "device=cuda:0\n",
      "\n",
      "\n",
      "Training model for articulation_log\n",
      "\n",
      "Epoch [1/100], Average train Loss: 2.8499, Average validation Loss: 3.2426\n",
      "Epoch [2/100], Average train Loss: 2.6307, Average validation Loss: 2.9719\n",
      "Epoch [3/100], Average train Loss: 2.5080, Average validation Loss: 2.9338\n",
      "Epoch [4/100], Average train Loss: 2.4431, Average validation Loss: 2.8172\n",
      "Epoch [5/100], Average train Loss: 2.3335, Average validation Loss: 2.7075\n",
      "Epoch [6/100], Average train Loss: 2.2731, Average validation Loss: 2.6758\n",
      "Epoch [7/100], Average train Loss: 2.2016, Average validation Loss: 2.6492\n",
      "Epoch [8/100], Average train Loss: 2.1493, Average validation Loss: 2.6607\n",
      "Epoch [9/100], Average train Loss: 2.0817, Average validation Loss: 2.6831\n",
      "Epoch [10/100], Average train Loss: 2.0367, Average validation Loss: 2.6103\n",
      "Epoch [11/100], Average train Loss: 1.9952, Average validation Loss: 2.5763\n",
      "Epoch [12/100], Average train Loss: 1.9470, Average validation Loss: 2.6898\n",
      "Epoch [13/100], Average train Loss: 1.9073, Average validation Loss: 2.5360\n",
      "Epoch [14/100], Average train Loss: 1.8746, Average validation Loss: 2.5576\n",
      "Epoch [15/100], Average train Loss: 1.8390, Average validation Loss: 2.6044\n",
      "Epoch [16/100], Average train Loss: 1.8021, Average validation Loss: 2.5730\n",
      "Epoch [17/100], Average train Loss: 1.7556, Average validation Loss: 2.6208\n",
      "Epoch [18/100], Average train Loss: 1.7238, Average validation Loss: 2.5662\n",
      "Epoch [19/100], Average train Loss: 1.6864, Average validation Loss: 2.5301\n",
      "Epoch [20/100], Average train Loss: 1.6455, Average validation Loss: 2.5705\n",
      "Epoch [21/100], Average train Loss: 1.6086, Average validation Loss: 2.6286\n",
      "Epoch [22/100], Average train Loss: 1.5931, Average validation Loss: 2.5815\n",
      "Epoch [23/100], Average train Loss: 1.5411, Average validation Loss: 2.6352\n",
      "Epoch [24/100], Average train Loss: 1.5175, Average validation Loss: 2.5883\n",
      "Epoch [25/100], Average train Loss: 1.4952, Average validation Loss: 2.5679\n",
      "Epoch [26/100], Average train Loss: 1.4660, Average validation Loss: 2.6312\n",
      "Epoch [27/100], Average train Loss: 1.4364, Average validation Loss: 2.6457\n",
      "Epoch [28/100], Average train Loss: 1.4065, Average validation Loss: 2.6181\n",
      "Epoch [29/100], Average train Loss: 1.3754, Average validation Loss: 2.5794\n",
      "Validation loss is increasing, stopping early...\n",
      "Training finished\n",
      "\n",
      "Average loss on test set: 2.3612245556687106\n",
      "\n",
      "\n",
      "Training model for beat_period_mean\n",
      "\n",
      "Epoch [1/100], Average train Loss: 0.0644, Average validation Loss: 0.1220\n",
      "Epoch [2/100], Average train Loss: 0.0386, Average validation Loss: 0.0756\n",
      "Epoch [3/100], Average train Loss: 0.0336, Average validation Loss: 0.0892\n",
      "Epoch [4/100], Average train Loss: 0.0289, Average validation Loss: 0.1054\n",
      "Epoch [5/100], Average train Loss: 0.0270, Average validation Loss: 0.0959\n",
      "Epoch [6/100], Average train Loss: 0.0239, Average validation Loss: 0.0821\n",
      "Epoch [7/100], Average train Loss: 0.0221, Average validation Loss: 0.0907\n",
      "Epoch [8/100], Average train Loss: 0.0218, Average validation Loss: 0.0863\n",
      "Epoch [9/100], Average train Loss: 0.0200, Average validation Loss: 0.1059\n",
      "Epoch [10/100], Average train Loss: 0.0192, Average validation Loss: 0.0955\n",
      "Epoch [11/100], Average train Loss: 0.0194, Average validation Loss: 0.0830\n",
      "Epoch [12/100], Average train Loss: 0.0175, Average validation Loss: 0.1005\n",
      "Validation loss is increasing, stopping early...\n",
      "Training finished\n",
      "\n",
      "Average loss on test set: 0.02255355610762637\n",
      "\n",
      "\n",
      "Training model for velocity_trend\n",
      "\n",
      "Epoch [1/100], Average train Loss: 0.0436, Average validation Loss: 0.0428\n",
      "Epoch [2/100], Average train Loss: 0.0396, Average validation Loss: 0.0405\n",
      "Epoch [3/100], Average train Loss: 0.0270, Average validation Loss: 0.0213\n",
      "Epoch [4/100], Average train Loss: 0.0189, Average validation Loss: 0.0183\n",
      "Epoch [5/100], Average train Loss: 0.0165, Average validation Loss: 0.0117\n",
      "Epoch [6/100], Average train Loss: 0.0119, Average validation Loss: 0.0113\n",
      "Epoch [7/100], Average train Loss: 0.0116, Average validation Loss: 0.0113\n",
      "Epoch [8/100], Average train Loss: 0.0115, Average validation Loss: 0.0109\n",
      "Epoch [9/100], Average train Loss: 0.0113, Average validation Loss: 0.0107\n",
      "Epoch [10/100], Average train Loss: 0.0111, Average validation Loss: 0.0110\n",
      "Epoch [11/100], Average train Loss: 0.0109, Average validation Loss: 0.0111\n",
      "Epoch [12/100], Average train Loss: 0.0108, Average validation Loss: 0.0113\n",
      "Epoch [13/100], Average train Loss: 0.0106, Average validation Loss: 0.0105\n",
      "Epoch [14/100], Average train Loss: 0.0104, Average validation Loss: 0.0106\n",
      "Epoch [15/100], Average train Loss: 0.0103, Average validation Loss: 0.0103\n",
      "Epoch [16/100], Average train Loss: 0.0101, Average validation Loss: 0.0106\n",
      "Epoch [17/100], Average train Loss: 0.0100, Average validation Loss: 0.0105\n",
      "Epoch [18/100], Average train Loss: 0.0099, Average validation Loss: 0.0110\n",
      "Epoch [19/100], Average train Loss: 0.0097, Average validation Loss: 0.0106\n",
      "Epoch [20/100], Average train Loss: 0.0095, Average validation Loss: 0.0110\n",
      "Epoch [21/100], Average train Loss: 0.0094, Average validation Loss: 0.0104\n",
      "Epoch [22/100], Average train Loss: 0.0092, Average validation Loss: 0.0104\n",
      "Epoch [23/100], Average train Loss: 0.0091, Average validation Loss: 0.0104\n",
      "Epoch [24/100], Average train Loss: 0.0090, Average validation Loss: 0.0104\n",
      "Epoch [25/100], Average train Loss: 0.0088, Average validation Loss: 0.0103\n",
      "Epoch [26/100], Average train Loss: 0.0088, Average validation Loss: 0.0106\n",
      "Epoch [27/100], Average train Loss: 0.0087, Average validation Loss: 0.0108\n",
      "Epoch [28/100], Average train Loss: 0.0085, Average validation Loss: 0.0108\n",
      "Epoch [29/100], Average train Loss: 0.0084, Average validation Loss: 0.0106\n",
      "Epoch [30/100], Average train Loss: 0.0083, Average validation Loss: 0.0106\n",
      "Epoch [31/100], Average train Loss: 0.0082, Average validation Loss: 0.0105\n",
      "Epoch [32/100], Average train Loss: 0.0080, Average validation Loss: 0.0108\n",
      "Epoch [33/100], Average train Loss: 0.0080, Average validation Loss: 0.0105\n",
      "Epoch [34/100], Average train Loss: 0.0078, Average validation Loss: 0.0109\n",
      "Epoch [35/100], Average train Loss: 0.0077, Average validation Loss: 0.0109\n",
      "Validation loss is increasing, stopping early...\n",
      "Training finished\n",
      "\n",
      "Average loss on test set: 0.012652999948428459\n",
      "\n",
      "\n",
      "Training model for velocity_dev\n",
      "\n",
      "Epoch [1/100], Average train Loss: 0.0077, Average validation Loss: 0.0067\n",
      "Epoch [2/100], Average train Loss: 0.0069, Average validation Loss: 0.0065\n",
      "Epoch [3/100], Average train Loss: 0.0068, Average validation Loss: 0.0064\n",
      "Epoch [4/100], Average train Loss: 0.0065, Average validation Loss: 0.0061\n",
      "Epoch [5/100], Average train Loss: 0.0064, Average validation Loss: 0.0061\n",
      "Epoch [6/100], Average train Loss: 0.0062, Average validation Loss: 0.0059\n",
      "Epoch [7/100], Average train Loss: 0.0059, Average validation Loss: 0.0056\n",
      "Epoch [8/100], Average train Loss: 0.0058, Average validation Loss: 0.0055\n",
      "Epoch [9/100], Average train Loss: 0.0056, Average validation Loss: 0.0054\n",
      "Epoch [10/100], Average train Loss: 0.0055, Average validation Loss: 0.0053\n",
      "Epoch [11/100], Average train Loss: 0.0053, Average validation Loss: 0.0052\n",
      "Epoch [12/100], Average train Loss: 0.0052, Average validation Loss: 0.0051\n",
      "Epoch [13/100], Average train Loss: 0.0051, Average validation Loss: 0.0050\n",
      "Epoch [14/100], Average train Loss: 0.0050, Average validation Loss: 0.0049\n",
      "Epoch [15/100], Average train Loss: 0.0049, Average validation Loss: 0.0050\n",
      "Epoch [16/100], Average train Loss: 0.0049, Average validation Loss: 0.0049\n",
      "Epoch [17/100], Average train Loss: 0.0048, Average validation Loss: 0.0049\n",
      "Epoch [18/100], Average train Loss: 0.0048, Average validation Loss: 0.0049\n",
      "Epoch [19/100], Average train Loss: 0.0047, Average validation Loss: 0.0048\n",
      "Epoch [20/100], Average train Loss: 0.0047, Average validation Loss: 0.0048\n",
      "Epoch [21/100], Average train Loss: 0.0046, Average validation Loss: 0.0048\n",
      "Epoch [22/100], Average train Loss: 0.0045, Average validation Loss: 0.0048\n",
      "Epoch [23/100], Average train Loss: 0.0045, Average validation Loss: 0.0048\n",
      "Epoch [24/100], Average train Loss: 0.0044, Average validation Loss: 0.0049\n",
      "Epoch [25/100], Average train Loss: 0.0044, Average validation Loss: 0.0048\n",
      "Epoch [26/100], Average train Loss: 0.0043, Average validation Loss: 0.0048\n"
     ]
    },
    {
     "name": "stdout",
     "output_type": "stream",
     "text": [
      "Epoch [27/100], Average train Loss: 0.0043, Average validation Loss: 0.0048\n",
      "Epoch [28/100], Average train Loss: 0.0042, Average validation Loss: 0.0048\n",
      "Epoch [29/100], Average train Loss: 0.0042, Average validation Loss: 0.0048\n",
      "Epoch [30/100], Average train Loss: 0.0041, Average validation Loss: 0.0049\n",
      "Epoch [31/100], Average train Loss: 0.0040, Average validation Loss: 0.0049\n",
      "Epoch [32/100], Average train Loss: 0.0040, Average validation Loss: 0.0048\n",
      "Epoch [33/100], Average train Loss: 0.0039, Average validation Loss: 0.0049\n",
      "Validation loss is increasing, stopping early...\n",
      "Training finished\n",
      "\n",
      "Average loss on test set: 0.00579386017825298\n",
      "\n",
      "\n"
     ]
    },
    {
     "data": {
      "image/png": "[encoded data removed]",
      "text/plain": [
       "<Figure size 1000x1500 with 6 Axes>"
      ]
     },
     "metadata": {},
     "output_type": "display_data"
    }
   ],
   "source": [
    "NUM_EPOCHS = 100\n",
    "NUM_LAYERS = 2\n",
    "HIDDEN_SIZE = 2048\n",
    "\n",
    "# writer = SummaryWriter()\n",
    "# writer.flush()\n",
    "\n",
    "models = []\n",
    "param_names = EXPRESSIVE_PARAMS\n",
    "fig, ax = plt.subplots(len(param_names), figsize=(10, 15))\n",
    "device = \"cuda:0\" if torch.cuda.is_available() else \"cpu\"\n",
    "print(f\"device={device}\\n\\n\")\n",
    "\n",
    "# train model for each parameter\n",
    "for i, name in enumerate(param_names):\n",
    "    \n",
    "    print(f\"Training model for {name}\\n\")\n",
    "    \n",
    "    # initialize model and dataloaders\n",
    "    my_model = LSTMModel(input_size=train_set.feature_size,\n",
    "                   hidden_size=HIDDEN_SIZE,\n",
    "                   output_size=train_set.seq_len\n",
    "                  )\n",
    "    \n",
    "    my_model.to(device)\n",
    "    \n",
    "    train_set.choose_parameter(name)\n",
    "    test_set.choose_parameter(name)\n",
    "    val_set.choose_parameter(name)\n",
    "\n",
    "    train_loader = DataLoader(train_set, batch_size=64, shuffle=True)\n",
    "    test_loader = DataLoader(test_set, batch_size=64, shuffle=False)\n",
    "    val_loader = DataLoader(val_set, batch_size=64, shuffle=False)\n",
    "\n",
    "    # Define loss function and optimizer\n",
    "    criterion = nn.MSELoss()\n",
    "    learning_rate = 1e-4\n",
    "    optimizer = optim.Adam(my_model.parameters(), lr=learning_rate)\n",
    "\n",
    "    # Training loop\n",
    "    my_model.to(device)\n",
    "\n",
    "    train_losses = []\n",
    "    val_losses = [np.inf]\n",
    "    best_model = None\n",
    "    best_val_loss = np.inf\n",
    "\n",
    "    # Train/Validation loop\n",
    "    for epoch in range(NUM_EPOCHS):\n",
    "\n",
    "        # Training\n",
    "        total_train_loss = 0\n",
    "        for batch_idx, (inputs, targets) in enumerate(train_loader):\n",
    "            inputs, targets = inputs.to(device), targets.to(device)\n",
    "            inputs, targets = inputs.float(), targets.float()\n",
    "            \n",
    "            # Forward pass\n",
    "            outputs = my_model(inputs)\n",
    "            loss = criterion(outputs.squeeze(), targets.squeeze())  # Assuming the output and target shapes are compatible\n",
    "\n",
    "            # Backward pass and optimization\n",
    "            optimizer.zero_grad()\n",
    "            loss.backward()\n",
    "            optimizer.step()\n",
    "\n",
    "            total_train_loss += loss.item()\n",
    "\n",
    "        # Validating\n",
    "        total_val_loss = 0\n",
    "        for batch_idx, (inputs, targets) in enumerate(val_loader):\n",
    "            inputs, targets = inputs.to(device), targets.to(device)\n",
    "            inputs, targets = inputs.float(), targets.float()\n",
    "\n",
    "            # Forward pass\n",
    "            outputs = my_model(inputs)\n",
    "            loss = criterion(outputs.squeeze(), targets.squeeze())\n",
    "\n",
    "            total_val_loss += loss.item()\n",
    "\n",
    "        if total_val_loss / len(val_loader) < best_val_loss:\n",
    "            best_model = my_model.state_dict()\n",
    "\n",
    "        if len(val_losses) > 10 and min(val_losses) not in val_losses[-10:]:\n",
    "            print(\"Validation loss is increasing, stopping early...\")\n",
    "            break\n",
    "\n",
    "        print(f\"Epoch [{epoch + 1}/{NUM_EPOCHS}], Average train Loss: {total_train_loss / len(train_loader):.4f}, Average validation Loss: {total_val_loss / len(val_loader):.4f}\")\n",
    "        train_losses.append(total_train_loss / len(train_loader))\n",
    "        val_losses.append(total_val_loss / len(val_loader))\n",
    "        \n",
    "        \"\"\"writer.add_scalars(f\"Train loss vs. validation loss {name} ({my_model.model_name})\", {\"train loss\": total_train_loss / len(train_loader),\n",
    "                                                                      \"val loss\": total_val_loss / len(val_loader)}, epoch)\"\"\"\n",
    "        \n",
    "\n",
    "    print(\"Training finished\\n\")\n",
    "    torch.save(best_model, os.path.join(\"models\", f\"{my_model.model_name}_best_model_{name}.pt\"))\n",
    "\n",
    "    # Testing\n",
    "    my_model.load_state_dict(best_model)\n",
    "    \n",
    "    total_test_loss = 0\n",
    "    for batch_idx, (inputs, targets) in enumerate(test_loader):\n",
    "        inputs, targets = inputs.to(device), targets.to(device)\n",
    "        inputs, targets = inputs.float(), targets.float()\n",
    "\n",
    "        # Forward pass\n",
    "        outputs = my_model(inputs)\n",
    "        loss = criterion(outputs.squeeze(), targets.squeeze())\n",
    "\n",
    "        total_test_loss += loss.item()\n",
    "\n",
    "    print(f\"Average loss on test set: {total_test_loss / len(test_loader)}\\n\\n\")\n",
    "    models.append(my_model)\n",
    "    \n",
    "    # writer.add_graph(my_model, input_to_model=inputs)\n",
    "    \n",
    "    ax[i].plot(train_losses)\n",
    "    ax[i].plot(val_losses)\n",
    "    \n",
    "fig.tight_layout()\n",
    "# writer.close()"
   ]
  },
  {
   "cell_type": "code",
   "execution_count": null,
   "id": "0e0cccac",
   "metadata": {},
   "outputs": [],
   "source": [
    "torch.save(best_model, os.path.join(\"models\", f\"{my_model.model_name}_best_model_{name}.pt\"))"
   ]
  },
  {
   "cell_type": "code",
   "execution_count": 16,
   "id": "c6dde79f",
   "metadata": {},
   "outputs": [],
   "source": [
    "class PredictionDataset(Dataset):\n",
    "    \n",
    "    def __init__(self,\n",
    "                 xml_paths,\n",
    "                 seq_len,\n",
    "                 fixed_features=True,\n",
    "                 feat_names=\"all\",\n",
    "                 drop_feats=[]\n",
    "                ):   \n",
    "        \n",
    "        self.xml_paths = xml_paths\n",
    "        self.data = []\n",
    "        \n",
    "        self.feature_size = 0\n",
    "        self.seq_len = seq_len\n",
    "        \n",
    "        print(\"Processing score data...\")\n",
    "        for xml in tqdm(xml_paths):\n",
    "\n",
    "            score = pt.load_score(xml)\n",
    "            score = pt.score.merge_parts(score)\n",
    "            \n",
    "            part = pt.score.unfold_part_maximal(score)\n",
    "            pt.score.expand_grace_notes(score)\n",
    "\n",
    "            basis, bf_names = pt.musicanalysis.make_note_feats(part, \"all\", force_fixed_size=True)\n",
    "\n",
    "            basis = pd.DataFrame(basis, columns=bf_names)\n",
    "            basis = basis.drop(columns=drop_feats).to_numpy()\n",
    "\n",
    "            padding_len = len(basis) % seq_len\n",
    "\n",
    "            bm_padding_array = np.zeros(shape=(seq_len - padding_len, basis.shape[1]))\n",
    "            new_basis = np.vstack((basis, bm_padding_array))\n",
    "            new_basis = np.split(new_basis, len(new_basis) / seq_len)\n",
    "\n",
    "            self.data += [basis for basis in new_basis]\n",
    "        \n",
    "        # applying feature padding if needed\n",
    "        max_features = max([basis.shape[1] for basis in self.data])\n",
    "        self.feature_size = max_features\n",
    "        \n",
    "        for i, basis in enumerate(self.data):\n",
    "            if basis.shape[1] < max_features:\n",
    "                \n",
    "                difference = max_features - basis.shape[1]\n",
    "                \n",
    "                self.data[i] = np.hstack((basis, np.zeros(shape=(seq_len, difference))))\n",
    "        \n",
    "    def __getitem__(self, idx):\n",
    "        return self.data[idx]\n",
    "    \n",
    "    def __len__(self):\n",
    "        return len(self.data)"
   ]
  },
  {
   "cell_type": "code",
   "execution_count": 22,
   "id": "d9c7e323",
   "metadata": {},
   "outputs": [],
   "source": [
    "def generate_midi(model,\n",
    "                  model_state_dicts,\n",
    "                  xml_path: str,\n",
    "                  seq_len: int,\n",
    "                  drop_feats: list,\n",
    "                  exp_params: list,\n",
    "                  save_to: str = \"\"):\n",
    "    \n",
    "    preds = {name: [] for name in exp_params}\n",
    "    ground_truths = {name: [] for name in exp_params}\n",
    "\n",
    "    device = \"cuda\" if torch.cuda.is_available() else \"cpu\"\n",
    "\n",
    "    dataset = PredictionDataset([xml_path], seq_len=seq_len, drop_feats=drop_feats)\n",
    "    \n",
    "    # save to folder \"midi_files\" by default\n",
    "    if save_to == \"\":\n",
    "        os.makedirs(\"midi_files\", exist_ok=True)\n",
    "        piece_name = \"_\".join(xml_path.split(os.sep)[1:-1]) + \".mid\"\n",
    "        \n",
    "        save_to = os.path.join(\"midi_files\", piece_name)\n",
    "    \n",
    "    # load model_dict corresponding to each parameter and predict\n",
    "    for model_dict, name in zip(model_state_dicts, exp_params):\n",
    "        \n",
    "        model.load_state_dict(torch.load(model_dict))\n",
    "        dataloader = DataLoader(dataset, batch_size=1, shuffle=False)\n",
    "\n",
    "        print(f\"Predicting {name}...\")\n",
    "        for inputs in tqdm(dataloader):\n",
    "\n",
    "            inputs = inputs.to(device)\n",
    "            inputs = inputs.float()\n",
    "\n",
    "            model.to(device)\n",
    "            outputs = model(inputs)\n",
    "            outputs = outputs.view(1, seq_len)\n",
    "\n",
    "            preds[name] += outputs.tolist()[0]\n",
    "    \n",
    "    test_perf = list(zip(*[preds[name] for name in exp_params]))\n",
    "    \n",
    "    custom_dtype = np.dtype([*[(name, \"<f4\") for name in exp_params]])\n",
    "    \n",
    "    # sanitizing\n",
    "    test_perf = np.array(test_perf, dtype=custom_dtype)\n",
    "    if \"beat_period_ratio\" in exp_params:\n",
    "        test_perf[\"beat_period_ratio\"] = np.abs(test_perf[\"beat_period_ratio\"])\n",
    "    if \"beat_period\" in exp_params:\n",
    "        test_perf[\"beat_period\"] = np.abs(test_perf[\"beat_period\"])\n",
    "    if \"velocity_trend\" in exp_params:\n",
    "        test_perf[\"velocity_trend\"] = np.abs(test_perf[\"velocity_trend\"])\n",
    "    if \"velocity_dev\" in exp_params:\n",
    "        test_perf[\"velocity_dev\"] = np.abs(test_perf[\"velocity_dev\"])\n",
    "    \n",
    "    # loading the score for decoding\n",
    "    score = pt.load_score(xml_path)\n",
    "    score = pt.score.merge_parts(score)\n",
    "    pt.score.expand_grace_notes(score)\n",
    "\n",
    "    part = pt.score.unfold_part_maximal(score)\n",
    "\n",
    "    pc = get_performance_codec(exp_params)\n",
    "    \n",
    "    # padding if predicted performance is shorter than score\n",
    "    padding = (0. for name in exp_params)\n",
    "    if len(part.notes) > len(test_perf):\n",
    "        diff = len(part.notes) - len(test_perf)\n",
    "        print(diff)\n",
    "        \n",
    "        padding = [(0. for name in exp_params) for i in range(diff)]\n",
    "        \n",
    "        np.append(test_perf, padding)\n",
    "            \n",
    "    result = pc.decode(part, test_perf)\n",
    "        \n",
    "    pt.save_performance_midi(result, save_to)\n",
    "    print(f\"\\nMidi was saved at {os.path.abspath(save_to)}\")\n",
    "    \n",
    "    return test_perf"
   ]
  },
  {
   "cell_type": "code",
   "execution_count": 23,
   "id": "a984943d",
   "metadata": {},
   "outputs": [
    {
     "name": "stdout",
     "output_type": "stream",
     "text": [
      "Processing score data...\n"
     ]
    },
    {
     "name": "stderr",
     "output_type": "stream",
     "text": [
      "100%|████████████████████████████████████████████████████████████████████████████████████| 1/1 [00:02<00:00,  2.63s/it]\n"
     ]
    },
    {
     "name": "stdout",
     "output_type": "stream",
     "text": [
      "Predicting beat_period_ratio...\n"
     ]
    },
    {
     "name": "stderr",
     "output_type": "stream",
     "text": [
      "100%|██████████████████████████████████████████████████████████████████████████████████| 59/59 [00:04<00:00, 13.69it/s]\n"
     ]
    },
    {
     "name": "stdout",
     "output_type": "stream",
     "text": [
      "Predicting timing...\n"
     ]
    },
    {
     "name": "stderr",
     "output_type": "stream",
     "text": [
      "100%|██████████████████████████████████████████████████████████████████████████████████| 59/59 [00:03<00:00, 16.07it/s]\n"
     ]
    },
    {
     "name": "stdout",
     "output_type": "stream",
     "text": [
      "Predicting articulation_log...\n"
     ]
    },
    {
     "name": "stderr",
     "output_type": "stream",
     "text": [
      "100%|██████████████████████████████████████████████████████████████████████████████████| 59/59 [00:03<00:00, 15.51it/s]\n"
     ]
    },
    {
     "name": "stdout",
     "output_type": "stream",
     "text": [
      "Predicting beat_period_mean...\n"
     ]
    },
    {
     "name": "stderr",
     "output_type": "stream",
     "text": [
      "100%|██████████████████████████████████████████████████████████████████████████████████| 59/59 [00:03<00:00, 17.22it/s]\n"
     ]
    },
    {
     "name": "stdout",
     "output_type": "stream",
     "text": [
      "Predicting velocity_trend...\n"
     ]
    },
    {
     "name": "stderr",
     "output_type": "stream",
     "text": [
      "100%|██████████████████████████████████████████████████████████████████████████████████| 59/59 [00:05<00:00, 11.22it/s]\n"
     ]
    },
    {
     "name": "stdout",
     "output_type": "stream",
     "text": [
      "Predicting velocity_dev...\n"
     ]
    },
    {
     "name": "stderr",
     "output_type": "stream",
     "text": [
      "100%|██████████████████████████████████████████████████████████████████████████████████| 59/59 [00:04<00:00, 14.72it/s]\n"
     ]
    },
    {
     "name": "stdout",
     "output_type": "stream",
     "text": [
      "126\n",
      "\n",
      "Midi was saved at C:\\Users\\Max\\Desktop\\Uni\\basismixer\\Transformer_midi.mid\n"
     ]
    },
    {
     "data": {
      "text/plain": [
       "True"
      ]
     },
     "execution_count": 23,
     "metadata": {},
     "output_type": "execute_result"
    }
   ],
   "source": [
    "model = LSTMModel(input_size=test_set.feature_size, output_size=test_set.seq_len, hidden_size=2048)\n",
    "model_state_dicts = [f\"models\\\\{model.model_name}_best_model_{name}.pt\" for name in EXPRESSIVE_PARAMS]\n",
    "test_piece = \"asap-dataset\\\\Schumann\\\\Arabeske\\\\xml_score.musicxml\"\n",
    "\n",
    "generate_midi(\n",
    "    model=model,\n",
    "    model_state_dicts=model_state_dicts,\n",
    "    xml_path=test_piece,\n",
    "    seq_len=test_set.seq_len,\n",
    "    drop_feats=drop_cols,\n",
    "    exp_params=EXPRESSIVE_PARAMS,\n",
    "    save_to=\"Transformer_midi.mid\"\n",
    ")"
   ]
  },
  {
   "cell_type": "code",
   "execution_count": 24,
   "id": "35ed1c15",
   "metadata": {},
   "outputs": [
    {
     "data": {
      "text/plain": [
       "['asap-dataset\\\\Bach\\\\Fugue\\\\bwv_892\\\\xml_score.musicxml',\n",
       " 'asap-dataset\\\\Chopin\\\\Ballades\\\\1\\\\xml_score.musicxml',\n",
       " 'asap-dataset\\\\Liszt\\\\Transcendental_Etudes\\\\10\\\\xml_score.musicxml',\n",
       " 'asap-dataset\\\\Bach\\\\Fugue\\\\bwv_870\\\\xml_score.musicxml',\n",
       " 'asap-dataset\\\\Schubert\\\\Impromptu_op.90_D.899\\\\2\\\\xml_score.musicxml',\n",
       " 'asap-dataset\\\\Bach\\\\Prelude\\\\bwv_857\\\\xml_score.musicxml',\n",
       " 'asap-dataset\\\\Liszt\\\\Ballade_2\\\\xml_score.musicxml',\n",
       " 'asap-dataset\\\\Bach\\\\Prelude\\\\bwv_863\\\\xml_score.musicxml',\n",
       " 'asap-dataset\\\\Schumann\\\\Arabeske\\\\xml_score.musicxml',\n",
       " 'asap-dataset\\\\Beethoven\\\\Piano_Sonatas\\\\31-3_4\\\\xml_score.musicxml',\n",
       " 'asap-dataset\\\\Bach\\\\Prelude\\\\bwv_889\\\\xml_score.musicxml',\n",
       " 'asap-dataset\\\\Chopin\\\\Barcarolle\\\\xml_score.musicxml',\n",
       " 'asap-dataset\\\\Beethoven\\\\Piano_Sonatas\\\\26-1\\\\xml_score.musicxml',\n",
       " 'asap-dataset\\\\Bach\\\\Prelude\\\\bwv_892\\\\xml_score.musicxml',\n",
       " 'asap-dataset\\\\Liszt\\\\Transcendental_Etudes\\\\5\\\\xml_score.musicxml']"
      ]
     },
     "execution_count": 24,
     "metadata": {},
     "output_type": "execute_result"
    }
   ],
   "source": [
    "test_set.xml_paths"
   ]
  },
  {
   "cell_type": "code",
   "execution_count": 26,
   "id": "dc76e310",
   "metadata": {},
   "outputs": [
    {
     "name": "stdout",
     "output_type": "stream",
     "text": [
      "Processing score data...\n"
     ]
    },
    {
     "name": "stderr",
     "output_type": "stream",
     "text": [
      "100%|████████████████████████████████████████████████████████████████████████████████████| 1/1 [00:00<00:00,  1.18it/s]\n"
     ]
    },
    {
     "name": "stdout",
     "output_type": "stream",
     "text": [
      "Predicting beat_period_ratio...\n"
     ]
    },
    {
     "name": "stderr",
     "output_type": "stream",
     "text": [
      "100%|██████████████████████████████████████████████████████████████████████████████████| 27/27 [00:01<00:00, 14.42it/s]\n"
     ]
    },
    {
     "name": "stdout",
     "output_type": "stream",
     "text": [
      "Predicting timing...\n"
     ]
    },
    {
     "name": "stderr",
     "output_type": "stream",
     "text": [
      "100%|██████████████████████████████████████████████████████████████████████████████████| 27/27 [00:00<00:00, 33.43it/s]\n"
     ]
    },
    {
     "name": "stdout",
     "output_type": "stream",
     "text": [
      "Predicting articulation_log...\n"
     ]
    },
    {
     "name": "stderr",
     "output_type": "stream",
     "text": [
      "100%|██████████████████████████████████████████████████████████████████████████████████| 27/27 [00:00<00:00, 32.94it/s]\n"
     ]
    },
    {
     "name": "stdout",
     "output_type": "stream",
     "text": [
      "Predicting beat_period_mean...\n"
     ]
    },
    {
     "name": "stderr",
     "output_type": "stream",
     "text": [
      "100%|██████████████████████████████████████████████████████████████████████████████████| 27/27 [00:00<00:00, 30.83it/s]\n"
     ]
    },
    {
     "name": "stdout",
     "output_type": "stream",
     "text": [
      "Predicting velocity_trend...\n"
     ]
    },
    {
     "name": "stderr",
     "output_type": "stream",
     "text": [
      "100%|██████████████████████████████████████████████████████████████████████████████████| 27/27 [00:00<00:00, 32.34it/s]\n"
     ]
    },
    {
     "name": "stdout",
     "output_type": "stream",
     "text": [
      "Predicting velocity_dev...\n"
     ]
    },
    {
     "name": "stderr",
     "output_type": "stream",
     "text": [
      "100%|██████████████████████████████████████████████████████████████████████████████████| 27/27 [00:00<00:00, 32.54it/s]\n"
     ]
    },
    {
     "name": "stdout",
     "output_type": "stream",
     "text": [
      "116\n",
      "\n",
      "Midi was saved at C:\\Users\\Max\\Desktop\\Uni\\basismixer\\midi_files\\Bach_Fugue_bwv_892.mid\n",
      "Processing score data...\n"
     ]
    },
    {
     "name": "stderr",
     "output_type": "stream",
     "text": [
      "100%|████████████████████████████████████████████████████████████████████████████████████| 1/1 [00:08<00:00,  8.80s/it]\n"
     ]
    },
    {
     "name": "stdout",
     "output_type": "stream",
     "text": [
      "Predicting beat_period_ratio...\n"
     ]
    },
    {
     "name": "stderr",
     "output_type": "stream",
     "text": [
      "100%|████████████████████████████████████████████████████████████████████████████████| 104/104 [00:04<00:00, 23.03it/s]\n"
     ]
    },
    {
     "name": "stdout",
     "output_type": "stream",
     "text": [
      "Predicting timing...\n"
     ]
    },
    {
     "name": "stderr",
     "output_type": "stream",
     "text": [
      "100%|████████████████████████████████████████████████████████████████████████████████| 104/104 [00:03<00:00, 26.24it/s]\n"
     ]
    },
    {
     "name": "stdout",
     "output_type": "stream",
     "text": [
      "Predicting articulation_log...\n"
     ]
    },
    {
     "name": "stderr",
     "output_type": "stream",
     "text": [
      "100%|████████████████████████████████████████████████████████████████████████████████| 104/104 [00:03<00:00, 28.81it/s]\n"
     ]
    },
    {
     "name": "stdout",
     "output_type": "stream",
     "text": [
      "Predicting beat_period_mean...\n"
     ]
    },
    {
     "name": "stderr",
     "output_type": "stream",
     "text": [
      "100%|████████████████████████████████████████████████████████████████████████████████| 104/104 [00:03<00:00, 30.26it/s]\n"
     ]
    },
    {
     "name": "stdout",
     "output_type": "stream",
     "text": [
      "Predicting velocity_trend...\n"
     ]
    },
    {
     "name": "stderr",
     "output_type": "stream",
     "text": [
      "100%|████████████████████████████████████████████████████████████████████████████████| 104/104 [00:03<00:00, 27.00it/s]\n"
     ]
    },
    {
     "name": "stdout",
     "output_type": "stream",
     "text": [
      "Predicting velocity_dev...\n"
     ]
    },
    {
     "name": "stderr",
     "output_type": "stream",
     "text": [
      "100%|████████████████████████████████████████████████████████████████████████████████| 104/104 [00:03<00:00, 26.36it/s]\n"
     ]
    },
    {
     "name": "stdout",
     "output_type": "stream",
     "text": [
      "62\n",
      "\n",
      "Midi was saved at C:\\Users\\Max\\Desktop\\Uni\\basismixer\\midi_files\\Chopin_Ballades_1.mid\n",
      "Processing score data...\n"
     ]
    },
    {
     "name": "stderr",
     "output_type": "stream",
     "text": [
      "100%|████████████████████████████████████████████████████████████████████████████████████| 1/1 [00:04<00:00,  4.46s/it]\n"
     ]
    },
    {
     "name": "stdout",
     "output_type": "stream",
     "text": [
      "Predicting beat_period_ratio...\n"
     ]
    },
    {
     "name": "stderr",
     "output_type": "stream",
     "text": [
      "100%|██████████████████████████████████████████████████████████████████████████████████| 83/83 [00:03<00:00, 26.09it/s]\n"
     ]
    },
    {
     "name": "stdout",
     "output_type": "stream",
     "text": [
      "Predicting timing...\n"
     ]
    },
    {
     "name": "stderr",
     "output_type": "stream",
     "text": [
      "100%|██████████████████████████████████████████████████████████████████████████████████| 83/83 [00:02<00:00, 29.73it/s]\n"
     ]
    },
    {
     "name": "stdout",
     "output_type": "stream",
     "text": [
      "Predicting articulation_log...\n"
     ]
    },
    {
     "name": "stderr",
     "output_type": "stream",
     "text": [
      "100%|██████████████████████████████████████████████████████████████████████████████████| 83/83 [00:02<00:00, 28.85it/s]\n"
     ]
    },
    {
     "name": "stdout",
     "output_type": "stream",
     "text": [
      "Predicting beat_period_mean...\n"
     ]
    },
    {
     "name": "stderr",
     "output_type": "stream",
     "text": [
      "100%|██████████████████████████████████████████████████████████████████████████████████| 83/83 [00:02<00:00, 30.88it/s]\n"
     ]
    },
    {
     "name": "stdout",
     "output_type": "stream",
     "text": [
      "Predicting velocity_trend...\n"
     ]
    },
    {
     "name": "stderr",
     "output_type": "stream",
     "text": [
      "100%|██████████████████████████████████████████████████████████████████████████████████| 83/83 [00:02<00:00, 31.52it/s]\n"
     ]
    },
    {
     "name": "stdout",
     "output_type": "stream",
     "text": [
      "Predicting velocity_dev...\n"
     ]
    },
    {
     "name": "stderr",
     "output_type": "stream",
     "text": [
      "100%|██████████████████████████████████████████████████████████████████████████████████| 83/83 [00:02<00:00, 30.29it/s]\n"
     ]
    },
    {
     "name": "stdout",
     "output_type": "stream",
     "text": [
      "\n",
      "Midi was saved at C:\\Users\\Max\\Desktop\\Uni\\basismixer\\midi_files\\Liszt_Transcendental_Etudes_10.mid\n",
      "Processing score data...\n"
     ]
    },
    {
     "name": "stderr",
     "output_type": "stream",
     "text": [
      "100%|████████████████████████████████████████████████████████████████████████████████████| 1/1 [00:00<00:00,  1.35it/s]\n"
     ]
    },
    {
     "name": "stdout",
     "output_type": "stream",
     "text": [
      "Predicting beat_period_ratio...\n"
     ]
    },
    {
     "name": "stderr",
     "output_type": "stream",
     "text": [
      "100%|██████████████████████████████████████████████████████████████████████████████████| 22/22 [00:01<00:00, 18.80it/s]\n"
     ]
    },
    {
     "name": "stdout",
     "output_type": "stream",
     "text": [
      "Predicting timing...\n"
     ]
    },
    {
     "name": "stderr",
     "output_type": "stream",
     "text": [
      "100%|██████████████████████████████████████████████████████████████████████████████████| 22/22 [00:00<00:00, 29.70it/s]\n"
     ]
    },
    {
     "name": "stdout",
     "output_type": "stream",
     "text": [
      "Predicting articulation_log...\n"
     ]
    },
    {
     "name": "stderr",
     "output_type": "stream",
     "text": [
      "100%|██████████████████████████████████████████████████████████████████████████████████| 22/22 [00:00<00:00, 30.15it/s]\n"
     ]
    },
    {
     "name": "stdout",
     "output_type": "stream",
     "text": [
      "Predicting beat_period_mean...\n"
     ]
    },
    {
     "name": "stderr",
     "output_type": "stream",
     "text": [
      "100%|██████████████████████████████████████████████████████████████████████████████████| 22/22 [00:00<00:00, 31.63it/s]\n"
     ]
    },
    {
     "name": "stdout",
     "output_type": "stream",
     "text": [
      "Predicting velocity_trend...\n"
     ]
    },
    {
     "name": "stderr",
     "output_type": "stream",
     "text": [
      "100%|██████████████████████████████████████████████████████████████████████████████████| 22/22 [00:00<00:00, 30.66it/s]\n"
     ]
    },
    {
     "name": "stdout",
     "output_type": "stream",
     "text": [
      "Predicting velocity_dev...\n"
     ]
    },
    {
     "name": "stderr",
     "output_type": "stream",
     "text": [
      "100%|██████████████████████████████████████████████████████████████████████████████████| 22/22 [00:00<00:00, 35.17it/s]\n"
     ]
    },
    {
     "name": "stdout",
     "output_type": "stream",
     "text": [
      "\n",
      "Midi was saved at C:\\Users\\Max\\Desktop\\Uni\\basismixer\\midi_files\\Bach_Fugue_bwv_870.mid\n",
      "Processing score data...\n"
     ]
    },
    {
     "name": "stderr",
     "output_type": "stream",
     "text": [
      "100%|████████████████████████████████████████████████████████████████████████████████████| 1/1 [00:03<00:00,  3.58s/it]\n"
     ]
    },
    {
     "name": "stdout",
     "output_type": "stream",
     "text": [
      "Predicting beat_period_ratio...\n"
     ]
    },
    {
     "name": "stderr",
     "output_type": "stream",
     "text": [
      "100%|██████████████████████████████████████████████████████████████████████████████████| 65/65 [00:02<00:00, 24.75it/s]\n"
     ]
    },
    {
     "name": "stdout",
     "output_type": "stream",
     "text": [
      "Predicting timing...\n"
     ]
    },
    {
     "name": "stderr",
     "output_type": "stream",
     "text": [
      "100%|██████████████████████████████████████████████████████████████████████████████████| 65/65 [00:02<00:00, 29.76it/s]\n"
     ]
    },
    {
     "name": "stdout",
     "output_type": "stream",
     "text": [
      "Predicting articulation_log...\n"
     ]
    },
    {
     "name": "stderr",
     "output_type": "stream",
     "text": [
      "100%|██████████████████████████████████████████████████████████████████████████████████| 65/65 [00:02<00:00, 32.23it/s]\n"
     ]
    },
    {
     "name": "stdout",
     "output_type": "stream",
     "text": [
      "Predicting beat_period_mean...\n"
     ]
    },
    {
     "name": "stderr",
     "output_type": "stream",
     "text": [
      "100%|██████████████████████████████████████████████████████████████████████████████████| 65/65 [00:02<00:00, 31.09it/s]\n"
     ]
    },
    {
     "name": "stdout",
     "output_type": "stream",
     "text": [
      "Predicting velocity_trend...\n"
     ]
    },
    {
     "name": "stderr",
     "output_type": "stream",
     "text": [
      "100%|██████████████████████████████████████████████████████████████████████████████████| 65/65 [00:02<00:00, 29.68it/s]\n"
     ]
    },
    {
     "name": "stdout",
     "output_type": "stream",
     "text": [
      "Predicting velocity_dev...\n"
     ]
    },
    {
     "name": "stderr",
     "output_type": "stream",
     "text": [
      "100%|██████████████████████████████████████████████████████████████████████████████████| 65/65 [00:02<00:00, 28.38it/s]\n"
     ]
    },
    {
     "name": "stdout",
     "output_type": "stream",
     "text": [
      "\n",
      "Midi was saved at C:\\Users\\Max\\Desktop\\Uni\\basismixer\\midi_files\\Schubert_Impromptu_op.90_D.899_2.mid\n",
      "Processing score data...\n"
     ]
    },
    {
     "name": "stderr",
     "output_type": "stream",
     "text": [
      "100%|████████████████████████████████████████████████████████████████████████████████████| 1/1 [00:00<00:00,  2.58it/s]\n"
     ]
    },
    {
     "name": "stdout",
     "output_type": "stream",
     "text": [
      "Predicting beat_period_ratio...\n"
     ]
    },
    {
     "name": "stderr",
     "output_type": "stream",
     "text": [
      "100%|██████████████████████████████████████████████████████████████████████████████████| 13/13 [00:00<00:00, 18.45it/s]\n"
     ]
    },
    {
     "name": "stdout",
     "output_type": "stream",
     "text": [
      "Predicting timing...\n"
     ]
    },
    {
     "name": "stderr",
     "output_type": "stream",
     "text": [
      "100%|██████████████████████████████████████████████████████████████████████████████████| 13/13 [00:00<00:00, 22.32it/s]\n"
     ]
    },
    {
     "name": "stdout",
     "output_type": "stream",
     "text": [
      "Predicting articulation_log...\n"
     ]
    },
    {
     "name": "stderr",
     "output_type": "stream",
     "text": [
      "100%|██████████████████████████████████████████████████████████████████████████████████| 13/13 [00:00<00:00, 28.17it/s]\n"
     ]
    },
    {
     "name": "stdout",
     "output_type": "stream",
     "text": [
      "Predicting beat_period_mean...\n"
     ]
    },
    {
     "name": "stderr",
     "output_type": "stream",
     "text": [
      "100%|██████████████████████████████████████████████████████████████████████████████████| 13/13 [00:00<00:00, 26.08it/s]\n"
     ]
    },
    {
     "name": "stdout",
     "output_type": "stream",
     "text": [
      "Predicting velocity_trend...\n"
     ]
    },
    {
     "name": "stderr",
     "output_type": "stream",
     "text": [
      "100%|██████████████████████████████████████████████████████████████████████████████████| 13/13 [00:00<00:00, 28.48it/s]\n"
     ]
    },
    {
     "name": "stdout",
     "output_type": "stream",
     "text": [
      "Predicting velocity_dev...\n"
     ]
    },
    {
     "name": "stderr",
     "output_type": "stream",
     "text": [
      "100%|██████████████████████████████████████████████████████████████████████████████████| 13/13 [00:00<00:00, 29.12it/s]\n"
     ]
    },
    {
     "name": "stdout",
     "output_type": "stream",
     "text": [
      "\n",
      "Midi was saved at C:\\Users\\Max\\Desktop\\Uni\\basismixer\\midi_files\\Bach_Prelude_bwv_857.mid\n",
      "Processing score data...\n"
     ]
    },
    {
     "name": "stderr",
     "output_type": "stream",
     "text": [
      "100%|████████████████████████████████████████████████████████████████████████████████████| 1/1 [00:41<00:00, 41.90s/it]\n"
     ]
    },
    {
     "name": "stdout",
     "output_type": "stream",
     "text": [
      "Predicting beat_period_ratio...\n"
     ]
    },
    {
     "name": "stderr",
     "output_type": "stream",
     "text": [
      "100%|████████████████████████████████████████████████████████████████████████████████| 147/147 [00:05<00:00, 29.02it/s]\n"
     ]
    },
    {
     "name": "stdout",
     "output_type": "stream",
     "text": [
      "Predicting timing...\n"
     ]
    },
    {
     "name": "stderr",
     "output_type": "stream",
     "text": [
      "100%|████████████████████████████████████████████████████████████████████████████████| 147/147 [00:05<00:00, 29.36it/s]\n"
     ]
    },
    {
     "name": "stdout",
     "output_type": "stream",
     "text": [
      "Predicting articulation_log...\n"
     ]
    },
    {
     "name": "stderr",
     "output_type": "stream",
     "text": [
      "100%|████████████████████████████████████████████████████████████████████████████████| 147/147 [00:05<00:00, 25.19it/s]\n"
     ]
    },
    {
     "name": "stdout",
     "output_type": "stream",
     "text": [
      "Predicting beat_period_mean...\n"
     ]
    },
    {
     "name": "stderr",
     "output_type": "stream",
     "text": [
      "100%|████████████████████████████████████████████████████████████████████████████████| 147/147 [00:06<00:00, 22.26it/s]\n"
     ]
    },
    {
     "name": "stdout",
     "output_type": "stream",
     "text": [
      "Predicting velocity_trend...\n"
     ]
    },
    {
     "name": "stderr",
     "output_type": "stream",
     "text": [
      "100%|████████████████████████████████████████████████████████████████████████████████| 147/147 [00:05<00:00, 24.89it/s]\n"
     ]
    },
    {
     "name": "stdout",
     "output_type": "stream",
     "text": [
      "Predicting velocity_dev...\n"
     ]
    },
    {
     "name": "stderr",
     "output_type": "stream",
     "text": [
      "100%|████████████████████████████████████████████████████████████████████████████████| 147/147 [00:05<00:00, 24.90it/s]\n"
     ]
    },
    {
     "name": "stdout",
     "output_type": "stream",
     "text": [
      "278\n",
      "\n",
      "Midi was saved at C:\\Users\\Max\\Desktop\\Uni\\basismixer\\midi_files\\Liszt_Ballade_2.mid\n",
      "Processing score data...\n"
     ]
    },
    {
     "name": "stderr",
     "output_type": "stream",
     "text": [
      "100%|████████████████████████████████████████████████████████████████████████████████████| 1/1 [00:00<00:00,  2.47it/s]\n"
     ]
    },
    {
     "name": "stdout",
     "output_type": "stream",
     "text": [
      "Predicting beat_period_ratio...\n"
     ]
    },
    {
     "name": "stderr",
     "output_type": "stream",
     "text": [
      "100%|██████████████████████████████████████████████████████████████████████████████████| 12/12 [00:00<00:00, 15.99it/s]\n"
     ]
    },
    {
     "name": "stdout",
     "output_type": "stream",
     "text": [
      "Predicting timing...\n"
     ]
    },
    {
     "name": "stderr",
     "output_type": "stream",
     "text": [
      "100%|██████████████████████████████████████████████████████████████████████████████████| 12/12 [00:00<00:00, 29.12it/s]\n"
     ]
    },
    {
     "name": "stdout",
     "output_type": "stream",
     "text": [
      "Predicting articulation_log...\n"
     ]
    },
    {
     "name": "stderr",
     "output_type": "stream",
     "text": [
      "100%|██████████████████████████████████████████████████████████████████████████████████| 12/12 [00:00<00:00, 34.82it/s]\n"
     ]
    },
    {
     "name": "stdout",
     "output_type": "stream",
     "text": [
      "Predicting beat_period_mean...\n"
     ]
    },
    {
     "name": "stderr",
     "output_type": "stream",
     "text": [
      "100%|██████████████████████████████████████████████████████████████████████████████████| 12/12 [00:00<00:00, 35.71it/s]\n"
     ]
    },
    {
     "name": "stdout",
     "output_type": "stream",
     "text": [
      "Predicting velocity_trend...\n"
     ]
    },
    {
     "name": "stderr",
     "output_type": "stream",
     "text": [
      "100%|██████████████████████████████████████████████████████████████████████████████████| 12/12 [00:00<00:00, 29.46it/s]\n"
     ]
    },
    {
     "name": "stdout",
     "output_type": "stream",
     "text": [
      "Predicting velocity_dev...\n"
     ]
    },
    {
     "name": "stderr",
     "output_type": "stream",
     "text": [
      "100%|██████████████████████████████████████████████████████████████████████████████████| 12/12 [00:00<00:00, 34.45it/s]\n"
     ]
    },
    {
     "name": "stdout",
     "output_type": "stream",
     "text": [
      "11\n",
      "\n",
      "Midi was saved at C:\\Users\\Max\\Desktop\\Uni\\basismixer\\midi_files\\Bach_Prelude_bwv_863.mid\n",
      "Processing score data...\n"
     ]
    },
    {
     "name": "stderr",
     "output_type": "stream",
     "text": [
      "100%|████████████████████████████████████████████████████████████████████████████████████| 1/1 [00:02<00:00,  2.10s/it]\n"
     ]
    },
    {
     "name": "stdout",
     "output_type": "stream",
     "text": [
      "Predicting beat_period_ratio...\n"
     ]
    },
    {
     "name": "stderr",
     "output_type": "stream",
     "text": [
      "100%|██████████████████████████████████████████████████████████████████████████████████| 59/59 [00:03<00:00, 17.86it/s]\n"
     ]
    },
    {
     "name": "stdout",
     "output_type": "stream",
     "text": [
      "Predicting timing...\n"
     ]
    },
    {
     "name": "stderr",
     "output_type": "stream",
     "text": [
      "100%|██████████████████████████████████████████████████████████████████████████████████| 59/59 [00:02<00:00, 23.63it/s]\n"
     ]
    },
    {
     "name": "stdout",
     "output_type": "stream",
     "text": [
      "Predicting articulation_log...\n"
     ]
    },
    {
     "name": "stderr",
     "output_type": "stream",
     "text": [
      "100%|██████████████████████████████████████████████████████████████████████████████████| 59/59 [00:02<00:00, 22.68it/s]\n"
     ]
    },
    {
     "name": "stdout",
     "output_type": "stream",
     "text": [
      "Predicting beat_period_mean...\n"
     ]
    },
    {
     "name": "stderr",
     "output_type": "stream",
     "text": [
      "100%|██████████████████████████████████████████████████████████████████████████████████| 59/59 [00:02<00:00, 25.45it/s]\n"
     ]
    },
    {
     "name": "stdout",
     "output_type": "stream",
     "text": [
      "Predicting velocity_trend...\n"
     ]
    },
    {
     "name": "stderr",
     "output_type": "stream",
     "text": [
      "100%|██████████████████████████████████████████████████████████████████████████████████| 59/59 [00:02<00:00, 22.86it/s]\n"
     ]
    },
    {
     "name": "stdout",
     "output_type": "stream",
     "text": [
      "Predicting velocity_dev...\n"
     ]
    },
    {
     "name": "stderr",
     "output_type": "stream",
     "text": [
      "100%|██████████████████████████████████████████████████████████████████████████████████| 59/59 [00:02<00:00, 24.12it/s]\n"
     ]
    },
    {
     "name": "stdout",
     "output_type": "stream",
     "text": [
      "126\n",
      "\n",
      "Midi was saved at C:\\Users\\Max\\Desktop\\Uni\\basismixer\\midi_files\\Schumann_Arabeske.mid\n",
      "Processing score data...\n"
     ]
    },
    {
     "name": "stderr",
     "output_type": "stream",
     "text": [
      "100%|████████████████████████████████████████████████████████████████████████████████████| 1/1 [00:03<00:00,  3.58s/it]\n"
     ]
    },
    {
     "name": "stdout",
     "output_type": "stream",
     "text": [
      "Predicting beat_period_ratio...\n"
     ]
    },
    {
     "name": "stderr",
     "output_type": "stream",
     "text": [
      "100%|██████████████████████████████████████████████████████████████████████████████████| 77/77 [00:03<00:00, 21.02it/s]\n"
     ]
    },
    {
     "name": "stdout",
     "output_type": "stream",
     "text": [
      "Predicting timing...\n"
     ]
    },
    {
     "name": "stderr",
     "output_type": "stream",
     "text": [
      "100%|██████████████████████████████████████████████████████████████████████████████████| 77/77 [00:03<00:00, 19.48it/s]\n"
     ]
    },
    {
     "name": "stdout",
     "output_type": "stream",
     "text": [
      "Predicting articulation_log...\n"
     ]
    },
    {
     "name": "stderr",
     "output_type": "stream",
     "text": [
      "100%|██████████████████████████████████████████████████████████████████████████████████| 77/77 [00:03<00:00, 22.55it/s]\n"
     ]
    },
    {
     "name": "stdout",
     "output_type": "stream",
     "text": [
      "Predicting beat_period_mean...\n"
     ]
    },
    {
     "name": "stderr",
     "output_type": "stream",
     "text": [
      "100%|██████████████████████████████████████████████████████████████████████████████████| 77/77 [00:03<00:00, 24.03it/s]\n"
     ]
    },
    {
     "name": "stdout",
     "output_type": "stream",
     "text": [
      "Predicting velocity_trend...\n"
     ]
    },
    {
     "name": "stderr",
     "output_type": "stream",
     "text": [
      "100%|██████████████████████████████████████████████████████████████████████████████████| 77/77 [00:03<00:00, 24.58it/s]\n"
     ]
    },
    {
     "name": "stdout",
     "output_type": "stream",
     "text": [
      "Predicting velocity_dev...\n"
     ]
    },
    {
     "name": "stderr",
     "output_type": "stream",
     "text": [
      "100%|██████████████████████████████████████████████████████████████████████████████████| 77/77 [00:03<00:00, 23.92it/s]\n"
     ]
    },
    {
     "name": "stdout",
     "output_type": "stream",
     "text": [
      "224\n",
      "\n",
      "Midi was saved at C:\\Users\\Max\\Desktop\\Uni\\basismixer\\midi_files\\Beethoven_Piano_Sonatas_31-3_4.mid\n",
      "Processing score data...\n"
     ]
    },
    {
     "name": "stderr",
     "output_type": "stream",
     "text": [
      "100%|████████████████████████████████████████████████████████████████████████████████████| 1/1 [00:00<00:00,  1.91it/s]\n"
     ]
    },
    {
     "name": "stdout",
     "output_type": "stream",
     "text": [
      "Predicting beat_period_ratio...\n"
     ]
    },
    {
     "name": "stderr",
     "output_type": "stream",
     "text": [
      "100%|██████████████████████████████████████████████████████████████████████████████████| 16/16 [00:01<00:00, 15.70it/s]\n"
     ]
    },
    {
     "name": "stdout",
     "output_type": "stream",
     "text": [
      "Predicting timing...\n"
     ]
    },
    {
     "name": "stderr",
     "output_type": "stream",
     "text": [
      "100%|██████████████████████████████████████████████████████████████████████████████████| 16/16 [00:00<00:00, 20.90it/s]\n"
     ]
    },
    {
     "name": "stdout",
     "output_type": "stream",
     "text": [
      "Predicting articulation_log...\n"
     ]
    },
    {
     "name": "stderr",
     "output_type": "stream",
     "text": [
      "100%|██████████████████████████████████████████████████████████████████████████████████| 16/16 [00:00<00:00, 24.59it/s]\n"
     ]
    },
    {
     "name": "stdout",
     "output_type": "stream",
     "text": [
      "Predicting beat_period_mean...\n"
     ]
    },
    {
     "name": "stderr",
     "output_type": "stream",
     "text": [
      "100%|██████████████████████████████████████████████████████████████████████████████████| 16/16 [00:00<00:00, 16.03it/s]\n"
     ]
    },
    {
     "name": "stdout",
     "output_type": "stream",
     "text": [
      "Predicting velocity_trend...\n"
     ]
    },
    {
     "name": "stderr",
     "output_type": "stream",
     "text": [
      "100%|██████████████████████████████████████████████████████████████████████████████████| 16/16 [00:00<00:00, 22.36it/s]\n"
     ]
    },
    {
     "name": "stdout",
     "output_type": "stream",
     "text": [
      "Predicting velocity_dev...\n"
     ]
    },
    {
     "name": "stderr",
     "output_type": "stream",
     "text": [
      "100%|██████████████████████████████████████████████████████████████████████████████████| 16/16 [00:00<00:00, 21.90it/s]\n"
     ]
    },
    {
     "name": "stdout",
     "output_type": "stream",
     "text": [
      "48\n",
      "\n",
      "Midi was saved at C:\\Users\\Max\\Desktop\\Uni\\basismixer\\midi_files\\Bach_Prelude_bwv_889.mid\n",
      "Processing score data...\n"
     ]
    },
    {
     "name": "stderr",
     "output_type": "stream",
     "text": [
      "100%|████████████████████████████████████████████████████████████████████████████████████| 1/1 [00:06<00:00,  6.00s/it]\n"
     ]
    },
    {
     "name": "stdout",
     "output_type": "stream",
     "text": [
      "Predicting beat_period_ratio...\n"
     ]
    },
    {
     "name": "stderr",
     "output_type": "stream",
     "text": [
      "100%|██████████████████████████████████████████████████████████████████████████████████| 98/98 [00:04<00:00, 20.82it/s]\n"
     ]
    },
    {
     "name": "stdout",
     "output_type": "stream",
     "text": [
      "Predicting timing...\n"
     ]
    },
    {
     "name": "stderr",
     "output_type": "stream",
     "text": [
      "100%|██████████████████████████████████████████████████████████████████████████████████| 98/98 [00:04<00:00, 24.03it/s]\n"
     ]
    },
    {
     "name": "stdout",
     "output_type": "stream",
     "text": [
      "Predicting articulation_log...\n"
     ]
    },
    {
     "name": "stderr",
     "output_type": "stream",
     "text": [
      "100%|██████████████████████████████████████████████████████████████████████████████████| 98/98 [00:04<00:00, 21.16it/s]\n"
     ]
    },
    {
     "name": "stdout",
     "output_type": "stream",
     "text": [
      "Predicting beat_period_mean...\n"
     ]
    },
    {
     "name": "stderr",
     "output_type": "stream",
     "text": [
      "100%|██████████████████████████████████████████████████████████████████████████████████| 98/98 [00:04<00:00, 24.01it/s]\n"
     ]
    },
    {
     "name": "stdout",
     "output_type": "stream",
     "text": [
      "Predicting velocity_trend...\n"
     ]
    },
    {
     "name": "stderr",
     "output_type": "stream",
     "text": [
      "100%|██████████████████████████████████████████████████████████████████████████████████| 98/98 [00:03<00:00, 25.99it/s]\n"
     ]
    },
    {
     "name": "stdout",
     "output_type": "stream",
     "text": [
      "Predicting velocity_dev...\n"
     ]
    },
    {
     "name": "stderr",
     "output_type": "stream",
     "text": [
      "100%|██████████████████████████████████████████████████████████████████████████████████| 98/98 [00:04<00:00, 24.48it/s]\n"
     ]
    },
    {
     "name": "stdout",
     "output_type": "stream",
     "text": [
      "64\n",
      "\n",
      "Midi was saved at C:\\Users\\Max\\Desktop\\Uni\\basismixer\\midi_files\\Chopin_Barcarolle.mid\n",
      "Processing score data...\n"
     ]
    },
    {
     "name": "stderr",
     "output_type": "stream",
     "text": [
      "100%|████████████████████████████████████████████████████████████████████████████████████| 1/1 [00:03<00:00,  4.00s/it]\n"
     ]
    },
    {
     "name": "stdout",
     "output_type": "stream",
     "text": [
      "Predicting beat_period_ratio...\n"
     ]
    },
    {
     "name": "stderr",
     "output_type": "stream",
     "text": [
      "100%|██████████████████████████████████████████████████████████████████████████████████| 68/68 [00:03<00:00, 20.74it/s]\n"
     ]
    },
    {
     "name": "stdout",
     "output_type": "stream",
     "text": [
      "Predicting timing...\n"
     ]
    },
    {
     "name": "stderr",
     "output_type": "stream",
     "text": [
      "100%|██████████████████████████████████████████████████████████████████████████████████| 68/68 [00:02<00:00, 30.71it/s]\n"
     ]
    },
    {
     "name": "stdout",
     "output_type": "stream",
     "text": [
      "Predicting articulation_log...\n"
     ]
    },
    {
     "name": "stderr",
     "output_type": "stream",
     "text": [
      "100%|██████████████████████████████████████████████████████████████████████████████████| 68/68 [00:02<00:00, 30.00it/s]\n"
     ]
    },
    {
     "name": "stdout",
     "output_type": "stream",
     "text": [
      "Predicting beat_period_mean...\n"
     ]
    },
    {
     "name": "stderr",
     "output_type": "stream",
     "text": [
      "100%|██████████████████████████████████████████████████████████████████████████████████| 68/68 [00:02<00:00, 29.40it/s]\n"
     ]
    },
    {
     "name": "stdout",
     "output_type": "stream",
     "text": [
      "Predicting velocity_trend...\n"
     ]
    },
    {
     "name": "stderr",
     "output_type": "stream",
     "text": [
      "100%|██████████████████████████████████████████████████████████████████████████████████| 68/68 [00:03<00:00, 18.99it/s]\n"
     ]
    },
    {
     "name": "stdout",
     "output_type": "stream",
     "text": [
      "Predicting velocity_dev...\n"
     ]
    },
    {
     "name": "stderr",
     "output_type": "stream",
     "text": [
      "100%|██████████████████████████████████████████████████████████████████████████████████| 68/68 [00:03<00:00, 22.41it/s]\n"
     ]
    },
    {
     "name": "stdout",
     "output_type": "stream",
     "text": [
      "64\n",
      "\n",
      "Midi was saved at C:\\Users\\Max\\Desktop\\Uni\\basismixer\\midi_files\\Beethoven_Piano_Sonatas_26-1.mid\n",
      "Processing score data...\n"
     ]
    },
    {
     "name": "stderr",
     "output_type": "stream",
     "text": [
      "100%|████████████████████████████████████████████████████████████████████████████████████| 1/1 [00:00<00:00,  1.49it/s]\n"
     ]
    },
    {
     "name": "stdout",
     "output_type": "stream",
     "text": [
      "Predicting beat_period_ratio...\n"
     ]
    },
    {
     "name": "stderr",
     "output_type": "stream",
     "text": [
      "100%|██████████████████████████████████████████████████████████████████████████████████| 22/22 [00:01<00:00, 17.77it/s]\n"
     ]
    },
    {
     "name": "stdout",
     "output_type": "stream",
     "text": [
      "Predicting timing...\n"
     ]
    },
    {
     "name": "stderr",
     "output_type": "stream",
     "text": [
      "100%|██████████████████████████████████████████████████████████████████████████████████| 22/22 [00:00<00:00, 22.94it/s]\n"
     ]
    },
    {
     "name": "stdout",
     "output_type": "stream",
     "text": [
      "Predicting articulation_log...\n"
     ]
    },
    {
     "name": "stderr",
     "output_type": "stream",
     "text": [
      "100%|██████████████████████████████████████████████████████████████████████████████████| 22/22 [00:00<00:00, 29.99it/s]\n"
     ]
    },
    {
     "name": "stdout",
     "output_type": "stream",
     "text": [
      "Predicting beat_period_mean...\n"
     ]
    },
    {
     "name": "stderr",
     "output_type": "stream",
     "text": [
      "100%|██████████████████████████████████████████████████████████████████████████████████| 22/22 [00:00<00:00, 30.44it/s]\n"
     ]
    },
    {
     "name": "stdout",
     "output_type": "stream",
     "text": [
      "Predicting velocity_trend...\n"
     ]
    },
    {
     "name": "stderr",
     "output_type": "stream",
     "text": [
      "100%|██████████████████████████████████████████████████████████████████████████████████| 22/22 [00:00<00:00, 26.07it/s]\n"
     ]
    },
    {
     "name": "stdout",
     "output_type": "stream",
     "text": [
      "Predicting velocity_dev...\n"
     ]
    },
    {
     "name": "stderr",
     "output_type": "stream",
     "text": [
      "100%|██████████████████████████████████████████████████████████████████████████████████| 22/22 [00:00<00:00, 26.79it/s]\n"
     ]
    },
    {
     "name": "stdout",
     "output_type": "stream",
     "text": [
      "\n",
      "Midi was saved at C:\\Users\\Max\\Desktop\\Uni\\basismixer\\midi_files\\Bach_Prelude_bwv_892.mid\n",
      "Processing score data...\n"
     ]
    },
    {
     "name": "stderr",
     "output_type": "stream",
     "text": [
      "100%|████████████████████████████████████████████████████████████████████████████████████| 1/1 [00:05<00:00,  5.86s/it]\n"
     ]
    },
    {
     "name": "stdout",
     "output_type": "stream",
     "text": [
      "Predicting beat_period_ratio...\n"
     ]
    },
    {
     "name": "stderr",
     "output_type": "stream",
     "text": [
      "100%|██████████████████████████████████████████████████████████████████████████████████| 91/91 [00:03<00:00, 23.89it/s]\n"
     ]
    },
    {
     "name": "stdout",
     "output_type": "stream",
     "text": [
      "Predicting timing...\n"
     ]
    },
    {
     "name": "stderr",
     "output_type": "stream",
     "text": [
      "100%|██████████████████████████████████████████████████████████████████████████████████| 91/91 [00:03<00:00, 25.25it/s]\n"
     ]
    },
    {
     "name": "stdout",
     "output_type": "stream",
     "text": [
      "Predicting articulation_log...\n"
     ]
    },
    {
     "name": "stderr",
     "output_type": "stream",
     "text": [
      "100%|██████████████████████████████████████████████████████████████████████████████████| 91/91 [00:03<00:00, 23.86it/s]\n"
     ]
    },
    {
     "name": "stdout",
     "output_type": "stream",
     "text": [
      "Predicting beat_period_mean...\n"
     ]
    },
    {
     "name": "stderr",
     "output_type": "stream",
     "text": [
      "100%|██████████████████████████████████████████████████████████████████████████████████| 91/91 [00:03<00:00, 24.75it/s]\n"
     ]
    },
    {
     "name": "stdout",
     "output_type": "stream",
     "text": [
      "Predicting velocity_trend...\n"
     ]
    },
    {
     "name": "stderr",
     "output_type": "stream",
     "text": [
      "100%|██████████████████████████████████████████████████████████████████████████████████| 91/91 [00:03<00:00, 28.32it/s]\n"
     ]
    },
    {
     "name": "stdout",
     "output_type": "stream",
     "text": [
      "Predicting velocity_dev...\n"
     ]
    },
    {
     "name": "stderr",
     "output_type": "stream",
     "text": [
      "100%|██████████████████████████████████████████████████████████████████████████████████| 91/91 [00:03<00:00, 25.67it/s]\n"
     ]
    },
    {
     "name": "stdout",
     "output_type": "stream",
     "text": [
      "10\n",
      "\n",
      "Midi was saved at C:\\Users\\Max\\Desktop\\Uni\\basismixer\\midi_files\\Liszt_Transcendental_Etudes_5.mid\n"
     ]
    }
   ],
   "source": [
    "model = LSTMSeq2Seq(input_size=test_set.feature_size, output_size=test_set.seq_len, hidden_size=1024)\n",
    "model_state_dicts = [f\"models\\\\{model.model_name}_best_model_{name}.pt\" for name in EXPRESSIVE_PARAMS]\n",
    "\n",
    "for piece in test_set.xml_paths:\n",
    "    \n",
    "    generate_midi(\n",
    "        model=model,\n",
    "        model_state_dicts=model_state_dicts,\n",
    "        xml_path=piece,\n",
    "        seq_len=test_set.seq_len,\n",
    "        drop_feats=drop_cols,\n",
    "        exp_params=EXPRESSIVE_PARAMS\n",
    "    )"
   ]
  },
  {
   "cell_type": "code",
   "execution_count": 237,
   "id": "f928506e",
   "metadata": {},
   "outputs": [
    {
     "data": {
      "text/plain": [
       "tensor([[0., -inf, -inf, -inf],\n",
       "        [0., 0., -inf, -inf],\n",
       "        [0., 0., 0., -inf],\n",
       "        [0., 0., 0., 0.]])"
      ]
     },
     "execution_count": 237,
     "metadata": {},
     "output_type": "execute_result"
    }
   ],
   "source": [
    "torch.log(torch.tril(torch.ones(4,4)))"
   ]
  },
  {
   "cell_type": "code",
   "execution_count": null,
   "id": "c6193913",
   "metadata": {},
   "outputs": [],
   "source": []
  }
 ],
 "metadata": {
  "kernelspec": {
   "display_name": "Python 3 (ipykernel)",
   "language": "python",
   "name": "python3"
  },
  "language_info": {
   "codemirror_mode": {
    "name": "ipython",
    "version": 3
   },
   "file_extension": ".py",
   "mimetype": "text/x-python",
   "name": "python",
   "nbconvert_exporter": "python",
   "pygments_lexer": "ipython3",
   "version": "3.9.18"
  }
 },
 "nbformat": 4,
 "nbformat_minor": 5
}
